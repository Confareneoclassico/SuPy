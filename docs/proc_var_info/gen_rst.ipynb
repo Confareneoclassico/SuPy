{
 "cells": [
  {
   "cell_type": "code",
   "execution_count": 1,
   "metadata": {
    "ExecuteTime": {
     "end_time": "2018-12-31T14:50:56.311587Z",
     "start_time": "2018-12-31T14:50:55.736327Z"
    }
   },
   "outputs": [],
   "source": [
    "from pathlib import Path\n",
    "import pandas as pd\n",
    "import supy as sp\n",
    "import os\n",
    "try:\n",
    "    os.chdir(os.path.join(os.getcwd(), 'docs/proc_var_info'))\n",
    "    print(os.getcwd())\n",
    "except:\n",
    "    pass\n",
    "%load_ext autoreload\n",
    "%autoreload 2"
   ]
  },
  {
   "cell_type": "code",
   "execution_count": 2,
   "metadata": {
    "ExecuteTime": {
     "end_time": "2018-12-31T14:51:04.865238Z",
     "start_time": "2018-12-31T14:50:56.313101Z"
    }
   },
   "outputs": [],
   "source": [
    "from gen_df_state_csv import (gen_df_state, list_table, set_initcond,\n",
    "                              set_runcontrol, set_input_runcontrol, gen_df_dim)\n",
    "from gen_df_forcing_output_csv import gen_df_forcing, gen_df_output"
   ]
  },
  {
   "cell_type": "markdown",
   "metadata": {},
   "source": [
    "# generate option rst files"
   ]
  },
  {
   "cell_type": "markdown",
   "metadata": {},
   "source": [
    "## generate dataframes for variable groups"
   ]
  },
  {
   "cell_type": "code",
   "execution_count": 17,
   "metadata": {
    "ExecuteTime": {
     "end_time": "2018-12-31T14:56:39.652441Z",
     "start_time": "2018-12-31T14:56:22.694798Z"
    }
   },
   "outputs": [],
   "source": [
    "df_state = gen_df_state(\n",
    "    list_table, set_initcond, set_runcontrol, set_input_runcontrol)\n",
    "df_state.to_csv('df_state.csv')"
   ]
  },
  {
   "cell_type": "code",
   "execution_count": 16,
   "metadata": {
    "ExecuteTime": {
     "end_time": "2018-12-31T14:53:42.029098Z",
     "start_time": "2018-12-31T14:53:21.969727Z"
    }
   },
   "outputs": [
    {
     "name": "stdout",
     "output_type": "stream",
     "text": [
      " \n",
      "*** Profile stats marshalled to file '/var/folders/4d/jj1kyw857kz3rrjnzsrt7cww0000gn/T/tmpxkq2shza'. \n"
     ]
    }
   ],
   "source": [
    "%load_ext snakeviz\n",
    "%snakeviz gen_df_state(list_table, set_initcond, set_runcontrol, set_input_runcontrol)"
   ]
  },
  {
   "cell_type": "code",
   "execution_count": 4,
   "metadata": {
    "ExecuteTime": {
     "end_time": "2018-12-31T14:51:32.572362Z",
     "start_time": "2018-12-31T14:51:32.104367Z"
    }
   },
   "outputs": [],
   "source": [
    "df_forcing = gen_df_forcing('SSss_YYYY_data_tt.csv')\n",
    "df_forcing.to_csv('df_forcing.csv')"
   ]
  },
  {
   "cell_type": "code",
   "execution_count": 5,
   "metadata": {
    "ExecuteTime": {
     "end_time": "2018-12-31T14:51:33.992690Z",
     "start_time": "2018-12-31T14:51:32.574459Z"
    }
   },
   "outputs": [],
   "source": [
    "df_output = gen_df_output(\n",
    "    [\n",
    "        'SSss_YYYY_SUEWS_TT.csv',\n",
    "        'SSss_DailyState.csv',\n",
    "        'SSss_YYYY_snow_TT.csv',\n",
    "    ],\n",
    ")\n",
    "df_output.to_csv('df_output.csv')"
   ]
  },
  {
   "cell_type": "markdown",
   "metadata": {},
   "source": [
    "## generate option string for rst option file"
   ]
  },
  {
   "cell_type": "code",
   "execution_count": 6,
   "metadata": {
    "ExecuteTime": {
     "end_time": "2018-12-31T14:51:34.013479Z",
     "start_time": "2018-12-31T14:51:33.994262Z"
    },
    "code_folding": [
     0
    ]
   },
   "outputs": [],
   "source": [
    "def gen_opt_str(ser_rec:pd.Series)->str:\n",
    "    '''generate rst option string\n",
    "    \n",
    "    Parameters\n",
    "    ----------\n",
    "    ser_rec : pd.Series\n",
    "        record for specifications\n",
    "    \n",
    "    Returns\n",
    "    -------\n",
    "    str\n",
    "        rst string\n",
    "    '''\n",
    "\n",
    "    name = ser_rec.name\n",
    "    indent=r'    '\n",
    "    str_opt = f'.. option:: {name}'+'\\n\\n'\n",
    "    for spec in ser_rec.sort_index().index:\n",
    "        str_opt += indent+f':{spec}:'+'\\n'\n",
    "        spec_content = ser_rec[spec]\n",
    "        str_opt += indent+indent+f'{spec_content}'+'\\n'\n",
    "    return str_opt\n",
    "\n",
    "\n",
    "# xx=df_var_info.set_index('variable').iloc[10]\n",
    "# print(gen_opt_str(xx))\n",
    "\n"
   ]
  },
  {
   "cell_type": "code",
   "execution_count": 11,
   "metadata": {
    "ExecuteTime": {
     "end_time": "2018-12-31T14:52:10.271692Z",
     "start_time": "2018-12-31T14:52:10.248826Z"
    }
   },
   "outputs": [],
   "source": [
    "def gen_rst(path_rst, path_df_csv, rst_title):\n",
    "    df_var_info = pd.read_csv(path_df_csv).set_index('variable')\n",
    "    df_var_info['rst'] = df_var_info.copy().apply(gen_opt_str, axis=1)\n",
    "    df_var_info = df_var_info.sort_index().reset_index(drop=True)\n",
    "    rst_txt_x = '\\n\\n'.join(df_var_info.rst)\n",
    "    rst_txt = '\\n'.join([rst_title, rst_txt_x])\n",
    "    with open(path_rst, 'w') as f:\n",
    "        print(rst_txt, file=f)\n",
    "\n",
    "    return path_rst\n",
    "\n",
    "\n",
    "# gen_rst(\n",
    "#     '../source/data-structure/test.rst', \n",
    "#     df_state,\n",
    "#     'xx\\n')\n"
   ]
  },
  {
   "cell_type": "code",
   "execution_count": 12,
   "metadata": {
    "ExecuteTime": {
     "end_time": "2018-12-31T14:52:13.336015Z",
     "start_time": "2018-12-31T14:52:13.313515Z"
    }
   },
   "outputs": [
    {
     "name": "stdout",
     "output_type": "stream",
     "text": [
      "{'path_rst': PosixPath('../source/data-structure/df_state.rst'), 'path_df_csv': 'df_state.csv', 'rst_title': '\\n.. _df_state_options:\\n\\n`df_state` variables\\n============================\\n\\n'}\n"
     ]
    }
   ],
   "source": [
    "path_rst_base = Path('../source/data-structure/')\n",
    "\n",
    "\n",
    "def gen_group_dict(group):\n",
    "    rst_title = f'''\n",
    ".. _df_{group}_options:\n",
    "\n",
    "`df_{group}` variables\n",
    "============================\n",
    "\n",
    "'''\n",
    "\n",
    "    dict_group = {\n",
    "        'path_rst': path_rst_base/('df_'+group+'.rst'),\n",
    "        'path_df_csv': 'df_'+group+'.csv',\n",
    "        'rst_title': rst_title,\n",
    "        }\n",
    "\n",
    "    return dict_group\n",
    "\n",
    "\n",
    "print(gen_group_dict('state'))\n"
   ]
  },
  {
   "cell_type": "code",
   "execution_count": 13,
   "metadata": {
    "ExecuteTime": {
     "end_time": "2018-12-31T14:52:14.488566Z",
     "start_time": "2018-12-31T14:52:14.467434Z"
    }
   },
   "outputs": [],
   "source": [
    "dict_rst_out = {group:gen_group_dict(group)\n",
    "                for group in ['state', 'forcing', 'output']}\n",
    "# dict_rst_out\n"
   ]
  },
  {
   "cell_type": "code",
   "execution_count": 15,
   "metadata": {
    "ExecuteTime": {
     "end_time": "2018-12-31T14:52:22.776791Z",
     "start_time": "2018-12-31T14:52:22.670143Z"
    }
   },
   "outputs": [
    {
     "name": "stdout",
     "output_type": "stream",
     "text": [
      "../source/data-structure/df_state.rst\n",
      "../source/data-structure/df_forcing.rst\n",
      "../source/data-structure/df_output.rst\n"
     ]
    }
   ],
   "source": [
    "for group in dict_rst_out:\n",
    "    print(gen_rst(**dict_rst_out[group]))\n",
    "\n"
   ]
  },
  {
   "cell_type": "code",
   "execution_count": null,
   "metadata": {},
   "outputs": [],
   "source": []
  }
 ],
 "metadata": {
  "file_extension": ".py",
  "hide_input": false,
  "kernelspec": {
   "display_name": "Python 3",
   "language": "python",
   "name": "python3"
  },
  "language_info": {
   "codemirror_mode": {
    "name": "ipython",
    "version": 3
   },
   "file_extension": ".py",
   "mimetype": "text/x-python",
   "name": "python",
   "nbconvert_exporter": "python",
   "pygments_lexer": "ipython3",
   "version": "3.7.1"
  },
  "mimetype": "text/x-python",
  "name": "python",
  "npconvert_exporter": "python",
  "pygments_lexer": "ipython3",
  "toc": {
   "base_numbering": 1,
   "nav_menu": {},
   "number_sections": true,
   "sideBar": true,
   "skip_h1_title": true,
   "title_cell": "Table of Contents",
   "title_sidebar": "Contents",
   "toc_cell": false,
   "toc_position": {},
   "toc_section_display": true,
   "toc_window_display": true
  },
  "varInspector": {
   "cols": {
    "lenName": 16,
    "lenType": 16,
    "lenVar": 40
   },
   "kernels_config": {
    "python": {
     "delete_cmd_postfix": "",
     "delete_cmd_prefix": "del ",
     "library": "var_list.py",
     "varRefreshCmd": "print(var_dic_list())"
    },
    "r": {
     "delete_cmd_postfix": ") ",
     "delete_cmd_prefix": "rm(",
     "library": "var_list.r",
     "varRefreshCmd": "cat(var_dic_list()) "
    }
   },
   "types_to_exclude": [
    "module",
    "function",
    "builtin_function_or_method",
    "instance",
    "_Feature"
   ],
   "window_display": false
  },
  "version": 3
 },
 "nbformat": 4,
 "nbformat_minor": 2
}
