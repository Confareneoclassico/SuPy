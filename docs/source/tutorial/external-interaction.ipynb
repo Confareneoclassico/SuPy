{
 "cells": [
  {
   "cell_type": "markdown",
   "metadata": {},
   "source": [
    "# Interaction between SuPy and external models"
   ]
  },
  {
   "cell_type": "markdown",
   "metadata": {},
   "source": [
    "## Introduction"
   ]
  },
  {
   "cell_type": "markdown",
   "metadata": {},
   "source": [
    "SUEWS can be coupled to other models that provide or require forcing data using the SuPy single timestep running mode. We demonstrate this feature with a simple online anthropogenic heat flux model.\n",
    "\n",
    "Anthropogenic heat flux ($Q_F$) is an additional term to the surface energy balance in urban areas associated with human activities ([Gabey et al., 2018](https://link.springer.com/article/10.1007%2Fs00704-018-2367-y); [Grimmond, 1992](http://doi.wiley.com/10.1002/joc.3370120506); [Nie et al., 2014](http://linkinghub.elsevier.com/retrieve/pii/S0360132314003321); [2016](https://doi.org/10.1175/JHM-D-16-0173.1); [Sailor, 2011](https://rmets.onlinelibrary.wiley.com/doi/full/10.1002/joc.2106)). In most cities, the largest emission source is from buildings ([Hamilton et al., 2009](https://www.sciencedirect.com/science/article/pii/S0360132308001418); [Iamarino et al., 2011](https://rmets.onlinelibrary.wiley.com/doi/10.1002/joc.2390); [Sailor, 2011](https://rmets.onlinelibrary.wiley.com/doi/full/10.1002/joc.2106)) and is highly dependent on outdoor ambient air temperature."
   ]
  },
  {
   "cell_type": "markdown",
   "metadata": {},
   "source": [
    "### load necessary packages"
   ]
  },
  {
   "cell_type": "code",
   "execution_count": 1,
   "metadata": {
    "ExecuteTime": {
     "end_time": "2020-07-06T09:54:59.605656Z",
     "start_time": "2020-07-06T09:54:58.271723Z"
    },
    "scrolled": true
   },
   "outputs": [],
   "source": [
    "import supy as sp\n",
    "import pandas as pd\n",
    "import numpy as np\n",
    "import matplotlib.pyplot as plt\n",
    "import matplotlib.dates as mdates\n",
    "import seaborn as sns\n",
    "\n",
    "%matplotlib inline\n",
    "# sp.show_version()"
   ]
  },
  {
   "cell_type": "markdown",
   "metadata": {},
   "source": [
    "### run `SUEWS` with default settings"
   ]
  },
  {
   "cell_type": "code",
   "execution_count": null,
   "metadata": {
    "ExecuteTime": {
     "start_time": "2020-07-06T09:54:58.264Z"
    }
   },
   "outputs": [],
   "source": [
    "# load sample run dataset\n",
    "df_state_init, df_forcing = sp.load_SampleData()\n",
    "# turn off the snow module as unnecessary at the sample site\n",
    "df_state_init.loc[:, \"snowuse\"] = 0\n",
    "\n",
    "# copy `df_state_init` as the basis for later simulations\n",
    "df_state_init_def = df_state_init.copy()\n",
    "\n",
    "# by default, two years of forcing data are included;\n",
    "# to save running time for demonstration, we only use one year in this demo\n",
    "df_forcing = df_forcing.loc[\"2012\"].iloc[1:]\n",
    "\n",
    "# set QF as zero for later comparison\n",
    "df_forcing_def = df_forcing.copy()\n",
    "grid = df_state_init_def.index[0]\n",
    "df_state_init_def.loc[:, \"emissionsmethod\"] = 0\n",
    "df_forcing_def[\"qf\"] = 0\n",
    "\n",
    "\n",
    "\n",
    "# run supy\n",
    "df_output, df_state = sp.run_supy(df_forcing_def, df_state_init_def)\n",
    "df_output_def = df_output.loc[grid, \"SUEWS\"]"
   ]
  },
  {
   "cell_type": "markdown",
   "metadata": {},
   "source": [
    "## a simple QF model: `QF_simple`"
   ]
  },
  {
   "cell_type": "markdown",
   "metadata": {},
   "source": [
    "### model description"
   ]
  },
  {
   "cell_type": "markdown",
   "metadata": {},
   "source": [
    "For demonstration purposes we have created a very simple model instead of using the SUEWS $Q_F$ ([Järvi et al. 2011](https://www.sciencedirect.com/science/article/pii/S0022169411006937)) with feedback from outdoor air temperature. The simple $Q_F$ model considers only building heating and cooling:"
   ]
  },
  {
   "cell_type": "markdown",
   "metadata": {},
   "source": [
    "$$\n",
    "Q_F=\\left\\{\n",
    "                \\begin{array}{ll}\n",
    "                  (T_2-T_C)\\times C_B,\\;T_2 > T_C\\\\\n",
    "                  (T_H-T_2)\\times H_B,\\;T_2 < T_H\\\\\n",
    "                  Q_{F0}\n",
    "                \\end{array}\n",
    "              \\right.\n",
    "$$"
   ]
  },
  {
   "cell_type": "markdown",
   "metadata": {},
   "source": [
    "where $T_C$ ($T_H$) is the cooling (heating) threshold temperature of buildings, $𝐶_B$ ($𝐻_B$) is the building cooling (heating) rate, and $𝑄_{F0}$ is the baseline anthropogenic heat. The parameters used are: $𝑇_C$ ($𝑇_H$) set as 20 °C (10 °C), $𝐶_B$ ($𝐻_B$) set as 1.5 $\\mathrm{W\\ m^{-2}\\ K^{-1}}$ (3 $\\mathrm{W\\ m^{-2}\\ K^{-1}}$) and $Q_{F0}$ is set as 0 $\\mathrm{W\\ m^{-2}}$, implying other building activities (e.g. lighting, water heating, computers) are zero and therefore do not change the temperature or change with temperature."
   ]
  },
  {
   "cell_type": "markdown",
   "metadata": {},
   "source": [
    "### implementation"
   ]
  },
  {
   "cell_type": "code",
   "execution_count": null,
   "metadata": {
    "ExecuteTime": {
     "start_time": "2020-07-06T09:54:58.266Z"
    }
   },
   "outputs": [],
   "source": [
    "def QF_simple(T2):\n",
    "    qf_cooling = (T2-20)*5 if T2 > 20 else 0\n",
    "    qf_heating = (10-T2)*10 if T2 < 10 else 0\n",
    "    qf_res = np.max([qf_heating, qf_cooling])*0.3\n",
    "    return qf_res"
   ]
  },
  {
   "cell_type": "markdown",
   "metadata": {},
   "source": [
    "Visualise the `QF_simple` model:"
   ]
  },
  {
   "cell_type": "code",
   "execution_count": null,
   "metadata": {
    "ExecuteTime": {
     "start_time": "2020-07-06T09:54:58.269Z"
    }
   },
   "outputs": [],
   "source": [
    "ser_temp = pd.Series(np.arange(-5, 45, 0.5),\n",
    "                     index=np.arange(-5, 45, 0.5)).rename('temp_C')\n",
    "ser_qf_heating = ser_temp.loc[-5:10].map(QF_simple).rename(\n",
    "    r'heating:$(T_H-T_a) \\times H_B$')\n",
    "ser_qf_cooling = ser_temp.loc[20:45].map(QF_simple).rename(\n",
    "    r'cooling: $(T_a-T_C) \\times C_B$')\n",
    "ser_qf_zero = ser_temp.loc[10:20].map(QF_simple).rename('baseline: $Q_{F0}$')\n",
    "df_temp_qf = pd.concat([ser_temp, ser_qf_cooling, ser_qf_heating, ser_qf_zero],\n",
    "                       axis=1).set_index('temp_C')\n",
    "ax_qf_func = df_temp_qf.plot()\n",
    "_=ax_qf_func.set_xlabel('$T_2$ ($^\\circ$C)')\n",
    "_=ax_qf_func.set_ylabel('$Q_F$ ($ \\mathrm{W \\ m^{-2}}$)')\n",
    "_=ax_qf_func.legend(title='simple $Q_F$')\n",
    "_=ax_qf_func.annotate(\n",
    "    \"$T_C$\",\n",
    "    xy=(20, 0),\n",
    "    xycoords='data',\n",
    "    xytext=(25, 5),\n",
    "    textcoords='data',\n",
    "    arrowprops=dict(\n",
    "        arrowstyle=\"->\",\n",
    "        color=\"0.5\",\n",
    "        shrinkA=5,\n",
    "        shrinkB=5,\n",
    "        patchA=None,\n",
    "        patchB=None,\n",
    "        connectionstyle='arc3',\n",
    "    ),\n",
    ")\n",
    "\n",
    "_=ax_qf_func.annotate(\n",
    "    \"$T_H$\",\n",
    "    xy=(10, 0),\n",
    "    xycoords='data',\n",
    "    xytext=(5, 5),\n",
    "    textcoords='data',\n",
    "    arrowprops=dict(\n",
    "        arrowstyle=\"->\",\n",
    "        color=\"0.5\",\n",
    "        shrinkA=5,\n",
    "        shrinkB=5,\n",
    "        patchA=None,\n",
    "        patchB=None,\n",
    "        connectionstyle='arc3',\n",
    "    ),\n",
    ")\n",
    "_=ax_qf_func.annotate(\n",
    "    \"slope: $C_B$\",\n",
    "    xy=(30, QF_simple(30)),\n",
    "    xycoords='data',\n",
    "    xytext=(20, 20),\n",
    "    textcoords='data',\n",
    "    arrowprops=dict(\n",
    "        arrowstyle=\"->\",\n",
    "        color=\"0.5\",\n",
    "        shrinkA=5,\n",
    "        shrinkB=5,\n",
    "        patchA=None,\n",
    "        patchB=None,\n",
    "        connectionstyle='arc3, rad=0.3',\n",
    "    ),\n",
    ")\n",
    "_=ax_qf_func.annotate(\n",
    "    \"slope: $H_B$\",\n",
    "    xy=(5, QF_simple(5)),\n",
    "    xycoords='data',\n",
    "    xytext=(10, 20),\n",
    "    textcoords='data',\n",
    "    arrowprops=dict(\n",
    "        arrowstyle=\"->\",\n",
    "        color=\"0.5\",\n",
    "        shrinkA=5,\n",
    "        shrinkB=5,\n",
    "        patchA=None,\n",
    "        patchB=None,\n",
    "        connectionstyle='arc3, rad=-0.3',\n",
    "    ),\n",
    ")\n",
    "_=ax_qf_func.plot(10, 0, 'o', color='C1', fillstyle='none')\n",
    "_ = ax_qf_func.plot(20, 0, 'o', color='C0', fillstyle='none')"
   ]
  },
  {
   "cell_type": "markdown",
   "metadata": {},
   "source": [
    "## communication between `supy` and  `QF_simple`"
   ]
  },
  {
   "cell_type": "markdown",
   "metadata": {},
   "source": [
    "### construct a new coupled function"
   ]
  },
  {
   "cell_type": "markdown",
   "metadata": {},
   "source": [
    "The coupling between the simple $Q_F$ model and SuPy is done via the low-level function `suews_cal_tstep`, which is an interface function in charge of communications between SuPy frontend and the calculation kernel. By setting SuPy to receive external $Q_F$ as forcing, at each timestep, the simple $Q_F$ model is driven by the SuPy output $T_2$ and provides SuPy with $Q_F$, which thus forms a two-way coupled loop."
   ]
  },
  {
   "cell_type": "code",
   "execution_count": null,
   "metadata": {
    "ExecuteTime": {
     "start_time": "2020-07-06T09:54:58.271Z"
    }
   },
   "outputs": [],
   "source": [
    "# load extra low-level functions from supy to construct interactive functions\n",
    "from supy._post import pack_df_output, pack_df_state\n",
    "from supy._run import suews_cal_tstep, pack_grid_dict\n",
    "\n",
    "\n",
    "def run_supy_qf(df_forcing_test, df_state_init_test):\n",
    "    grid = df_state_init_test.index[0]\n",
    "    df_state_init_test.loc[grid, 'emissionsmethod'] = 0\n",
    "\n",
    "    df_forcing_test = df_forcing_test\\\n",
    "        .assign(\n",
    "            metforcingdata_grid=0,\n",
    "            ts5mindata_ir=0,\n",
    "        )\\\n",
    "        .rename(\n",
    "            # remanae is a workaround to resolve naming inconsistency between\n",
    "            # suews fortran code interface and input forcing file headers\n",
    "            columns={\n",
    "                '%' + 'iy': 'iy',\n",
    "                'id': 'id',\n",
    "                'it': 'it',\n",
    "                'imin': 'imin',\n",
    "                'qn': 'qn1_obs',\n",
    "                'qh': 'qh_obs',\n",
    "                'qe': 'qe',\n",
    "                'qs': 'qs_obs',\n",
    "                'qf': 'qf_obs',\n",
    "                'U': 'avu1',\n",
    "                'RH': 'avrh',\n",
    "                'Tair': 'temp_c',\n",
    "                'pres': 'press_hpa',\n",
    "                'rain': 'precip',\n",
    "                'kdown': 'avkdn',\n",
    "                'snow': 'snowfrac_obs',\n",
    "                'ldown': 'ldown_obs',\n",
    "                'fcld': 'fcld_obs',\n",
    "                'Wuh': 'wu_m3',\n",
    "                'xsmd': 'xsmd',\n",
    "                'lai': 'lai_obs',\n",
    "                'kdiff': 'kdiff',\n",
    "                'kdir': 'kdir',\n",
    "                'wdir': 'wdir',\n",
    "            }\n",
    "        )\n",
    "\n",
    "    t2_ext = df_forcing_test.iloc[0].temp_c\n",
    "    qf_ext = QF_simple(t2_ext)\n",
    "\n",
    "    # initialise dicts for holding results\n",
    "    dict_state = {}\n",
    "    dict_output = {}\n",
    "\n",
    "    # starting tstep\n",
    "    t_start = df_forcing_test.index[0]\n",
    "    # convert df to dict with `itertuples` for better performance\n",
    "    dict_forcing = {\n",
    "        row.Index: row._asdict()\n",
    "        for row in df_forcing_test.itertuples()\n",
    "    }\n",
    "    # dict_state is used to save model states for later use\n",
    "    dict_state = {(t_start, grid): pack_grid_dict(series_state_init)\n",
    "                  for grid, series_state_init in df_state_init_test.iterrows()}\n",
    "\n",
    "    # just use a single grid run for the test coupling\n",
    "    for tstep in df_forcing_test.index:\n",
    "        # load met forcing at `tstep`\n",
    "        met_forcing_tstep = dict_forcing[tstep]\n",
    "        # inject `qf_ext` to `met_forcing_tstep`\n",
    "        met_forcing_tstep['qf_obs'] = qf_ext\n",
    "\n",
    "        # update model state\n",
    "        dict_state_start = dict_state[(tstep, grid)]\n",
    "\n",
    "        dict_state_end, dict_output_tstep = suews_cal_tstep(\n",
    "            dict_state_start, met_forcing_tstep)\n",
    "        # the fourth to the last is `T2` stored in the result array\n",
    "        t2_ext = dict_output_tstep['dataoutlinesuews'][-4]\n",
    "        qf_ext = QF_simple(t2_ext)\n",
    "\n",
    "        dict_output.update({(tstep, grid): dict_output_tstep})\n",
    "        dict_state.update({(tstep + tstep.freq, grid): dict_state_end})\n",
    "\n",
    "    # pack results as easier DataFrames\n",
    "    df_output_test = pack_df_output(dict_output).swaplevel(0, 1)\n",
    "    df_state_test = pack_df_state(dict_state).swaplevel(0, 1)\n",
    "    return df_output_test.loc[grid, 'SUEWS'], df_state_test"
   ]
  },
  {
   "cell_type": "markdown",
   "metadata": {},
   "source": [
    "### simulations for summer and winter months"
   ]
  },
  {
   "cell_type": "markdown",
   "metadata": {},
   "source": [
    "The simulation using SuPy coupled is performed for London 2012. The data analysed are a summer (July) and a winter (December) month. Initially $Q_F$ is 0 $\\mathrm{W\\ m^{-2}}$ the $T_2$ is determined and used to determine $Q_{F[1]}$ which in turn modifies $T_{2[1]}$ and therefore modifies $Q_{F[2]}$ and the diagnosed $T_{2[2]}$."
   ]
  },
  {
   "cell_type": "markdown",
   "metadata": {},
   "source": [
    "#### spin-up run (January to June) for summer simulation"
   ]
  },
  {
   "cell_type": "code",
   "execution_count": null,
   "metadata": {
    "ExecuteTime": {
     "start_time": "2020-07-06T09:54:58.273Z"
    }
   },
   "outputs": [],
   "source": [
    "df_output_june, df_state_jul = sp.run_supy(\n",
    "    df_forcing.loc[:'2012 6'], df_state_init)"
   ]
  },
  {
   "cell_type": "markdown",
   "metadata": {},
   "source": [
    "#### spin-up run (July to October) for winter simulation"
   ]
  },
  {
   "cell_type": "code",
   "execution_count": null,
   "metadata": {
    "ExecuteTime": {
     "start_time": "2020-07-06T09:54:58.275Z"
    }
   },
   "outputs": [],
   "source": [
    "df_output_oct, df_state_dec = sp.run_supy(\n",
    "    df_forcing.loc['2012 7':'2012 11'], df_state_jul)"
   ]
  },
  {
   "cell_type": "markdown",
   "metadata": {},
   "source": [
    "#### coupled simulation"
   ]
  },
  {
   "cell_type": "code",
   "execution_count": null,
   "metadata": {
    "ExecuteTime": {
     "start_time": "2020-07-06T09:54:58.277Z"
    }
   },
   "outputs": [],
   "source": [
    "df_output_test_summer, df_state_summer_test = run_supy_qf(\n",
    "    df_forcing.loc[\"2012-07\"], df_state_jul.copy()\n",
    ")\n",
    "df_output_test_winter, df_state_winter_test = run_supy_qf(\n",
    "    df_forcing.loc[\"2012-12\"], df_state_dec.copy()\n",
    ")"
   ]
  },
  {
   "cell_type": "markdown",
   "metadata": {},
   "source": [
    "### examine the results"
   ]
  },
  {
   "cell_type": "markdown",
   "metadata": {},
   "source": [
    "#### sumer"
   ]
  },
  {
   "cell_type": "code",
   "execution_count": null,
   "metadata": {
    "ExecuteTime": {
     "start_time": "2020-07-06T09:54:58.279Z"
    }
   },
   "outputs": [],
   "source": [
    "var = \"QF\"\n",
    "var_label = \"$Q_F$ ($ \\mathrm{W \\ m^{-2}}$)\"\n",
    "var_label_right = \"$\\Delta Q_F$ ($ \\mathrm{W \\ m^{-2}}$)\"\n",
    "period = \"2012-07\"\n",
    "df_test = df_output_test_summer\n",
    "y1 = df_test.loc[period, var].rename(\"qf_simple\")\n",
    "y2 = df_output_def.loc[period, var].rename(\"suews\")\n",
    "y3 = (y1 - y2).rename(\"diff\")\n",
    "df_plot = pd.concat([y1, y2, y3], axis=1)\n",
    "ax = df_plot.plot(secondary_y=\"diff\")\n",
    "_ = ax.set_ylabel(var_label)\n",
    "_ = ax.right_ax.set_ylabel(var_label_right)\n",
    "lines = ax.get_lines() + ax.right_ax.get_lines()\n",
    "_ = ax.legend(lines, [l.get_label() for l in lines], loc=\"best\")"
   ]
  },
  {
   "cell_type": "code",
   "execution_count": null,
   "metadata": {
    "ExecuteTime": {
     "start_time": "2020-07-06T09:54:58.281Z"
    },
    "scrolled": false
   },
   "outputs": [],
   "source": [
    "var = \"T2\"\n",
    "var_label = \"$T_2$ ($^{\\circ}$C)\"\n",
    "var_label_right = \"$\\Delta T_2$ ($^{\\circ}$C)\"\n",
    "period = \"2012-07\"\n",
    "df_test = df_output_test_summer\n",
    "y1 = df_test.loc[period, var].rename(\"qf_simple\")\n",
    "y2 = df_output_def.loc[period, var].rename(\"suews\")\n",
    "y3 = (y1 - y2).rename(\"diff\")\n",
    "df_plot = pd.concat([y1, y2, y3], axis=1)\n",
    "ax = df_plot.plot(secondary_y=\"diff\")\n",
    "_ = ax.set_ylabel(var_label)\n",
    "_ = ax.right_ax.set_ylabel(var_label_right)\n",
    "lines = ax.get_lines() + ax.right_ax.get_lines()\n",
    "_ = ax.legend(lines, [l.get_label() for l in lines], loc=\"best\")"
   ]
  },
  {
   "cell_type": "markdown",
   "metadata": {},
   "source": [
    "#### winter"
   ]
  },
  {
   "cell_type": "code",
   "execution_count": null,
   "metadata": {
    "ExecuteTime": {
     "start_time": "2020-07-06T09:54:58.282Z"
    }
   },
   "outputs": [],
   "source": [
    "var = \"QF\"\n",
    "var_label = \"$Q_F$ ($ \\mathrm{W \\ m^{-2}}$)\"\n",
    "var_label_right = \"$\\Delta Q_F$ ($ \\mathrm{W \\ m^{-2}}$)\"\n",
    "period = \"2012 12\"\n",
    "df_test = df_output_test_winter\n",
    "y1 = df_test.loc[period, var].rename(\"qf_simple\")\n",
    "y2 = df_output_def.loc[period, var].rename(\"suews\")\n",
    "y3 = (y1 - y2).rename(\"diff\")\n",
    "df_plot = pd.concat([y1, y2, y3], axis=1)\n",
    "ax = df_plot.plot(secondary_y=\"diff\")\n",
    "_ = ax.set_ylabel(var_label)\n",
    "_ = ax.right_ax.set_ylabel(var_label_right)\n",
    "lines = ax.get_lines() + ax.right_ax.get_lines()\n",
    "_ = ax.legend(lines, [l.get_label() for l in lines], loc=\"best\")"
   ]
  },
  {
   "cell_type": "code",
   "execution_count": null,
   "metadata": {
    "ExecuteTime": {
     "start_time": "2020-07-06T09:54:58.284Z"
    }
   },
   "outputs": [],
   "source": [
    "var = \"T2\"\n",
    "var_label = \"$T_2$ ($^{\\circ}$C)\"\n",
    "var_label_right = \"$\\Delta T_2$ ($^{\\circ}$C)\"\n",
    "period = \"2012 12\"\n",
    "df_test = df_output_test_winter\n",
    "y1 = df_test.loc[period, var].rename(\"qf_simple\")\n",
    "y2 = df_output_def.loc[period, var].rename(\"suews\")\n",
    "y3 = (y1 - y2).rename(\"diff\")\n",
    "df_plot = pd.concat([y1, y2, y3], axis=1)\n",
    "ax = df_plot.plot(secondary_y=\"diff\")\n",
    "_ = ax.set_ylabel(var_label)\n",
    "_ = ax.right_ax.set_ylabel(var_label_right)\n",
    "lines = ax.get_lines() + ax.right_ax.get_lines()\n",
    "_ = ax.legend(lines, [l.get_label() for l in lines], loc=\"center right\")"
   ]
  },
  {
   "cell_type": "markdown",
   "metadata": {},
   "source": [
    "#### comparison in $\\Delta Q_F$-$\\Delta T2$ feedback between summer and winter"
   ]
  },
  {
   "cell_type": "code",
   "execution_count": null,
   "metadata": {
    "ExecuteTime": {
     "start_time": "2020-07-06T09:54:58.285Z"
    },
    "scrolled": false
   },
   "outputs": [],
   "source": [
    "# filter results using `where` to choose periods when `QF_simple` is effective\n",
    "# (i.e. activated by outdoor air temperatures)\n",
    "df_diff_summer = (\n",
    "    (df_output_test_summer - df_output_def)\n",
    "    .where(df_output_def.T2 > 20, np.nan)\n",
    "    .dropna(how=\"all\", axis=0)\n",
    ")\n",
    "df_diff_winter = (\n",
    "    (df_output_test_winter - df_output_def)\n",
    "    .where(df_output_test_winter.T2 < 10, np.nan)\n",
    "    .dropna(how=\"all\", axis=0)\n",
    "    .loc[\"20121215\":]\n",
    ")\n",
    "\n",
    "\n",
    "\n",
    "df_diff_season = pd.concat(\n",
    "    [df_diff_winter.assign(season=\"winter\"), df_diff_summer.assign(season=\"summer\"),]\n",
    ").loc[:, [\"season\", \"QF\", \"T2\"]]\n",
    "g = sns.lmplot(\n",
    "    data=df_diff_season,\n",
    "    x=\"QF\",\n",
    "    y=\"T2\",\n",
    "    hue=\"season\",\n",
    "    height=4,\n",
    "    truncate=False,\n",
    "    markers=\"o\",\n",
    "    legend_out=False,\n",
    "    scatter_kws={\"s\": 1, \"zorder\": 0, \"alpha\": 0.8,},\n",
    "    line_kws={\"zorder\": 6, \"linestyle\": \"--\"},\n",
    ")\n",
    "_ = g.set_axis_labels(\n",
    "    \"$\\Delta Q_F$ ($ \\mathrm{W \\ m^{-2}}$)\", \"$\\Delta T_2$ ($^{\\circ}$C)\",\n",
    ")\n",
    "_ = g.ax.legend(markerscale=4)\n",
    "_ = g.despine(top=False, right=False)"
   ]
  },
  {
   "cell_type": "markdown",
   "metadata": {},
   "source": [
    "The above figure indicates a positive feedback, as $Q_F$ is increased there is an elevated $T_2$ but with different magnitudes given the non-linearlity in the SUEWS modelling system. Of particular note is the positive feedback loop under warm air temperatures: the anthropogenic heat emissions increase which in turn elevates the outdoor air temperature causing yet more anthropogenic heat release. Note that London is relatively cool so the enhancement is much less than it would be in warmer cities."
   ]
  }
 ],
 "metadata": {
  "file_extension": ".py",
  "hide_input": false,
  "kernelspec": {
   "display_name": "Python 3",
   "language": "python",
   "name": "python3"
  },
  "language_info": {
   "codemirror_mode": {
    "name": "ipython",
    "version": 3
   },
   "file_extension": ".py",
   "mimetype": "text/x-python",
   "name": "python",
   "nbconvert_exporter": "python",
   "pygments_lexer": "ipython3",
   "version": "3.7.3"
  },
  "mimetype": "text/x-python",
  "name": "python",
  "npconvert_exporter": "python",
  "pygments_lexer": "ipython3",
  "toc": {
   "base_numbering": 1,
   "nav_menu": {},
   "number_sections": true,
   "sideBar": true,
   "skip_h1_title": true,
   "title_cell": "Table of Contents",
   "title_sidebar": "Contents",
   "toc_cell": false,
   "toc_position": {},
   "toc_section_display": true,
   "toc_window_display": true
  },
  "varInspector": {
   "cols": {
    "lenName": 16,
    "lenType": 16,
    "lenVar": 40
   },
   "kernels_config": {
    "python": {
     "delete_cmd_postfix": "",
     "delete_cmd_prefix": "del ",
     "library": "var_list.py",
     "varRefreshCmd": "print(var_dic_list())"
    },
    "r": {
     "delete_cmd_postfix": ") ",
     "delete_cmd_prefix": "rm(",
     "library": "var_list.r",
     "varRefreshCmd": "cat(var_dic_list()) "
    }
   },
   "types_to_exclude": [
    "module",
    "function",
    "builtin_function_or_method",
    "instance",
    "_Feature"
   ],
   "window_display": false
  },
  "version": 3
 },
 "nbformat": 4,
 "nbformat_minor": 2
}
