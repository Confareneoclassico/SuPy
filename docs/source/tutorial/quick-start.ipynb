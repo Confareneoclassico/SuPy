{
 "cells": [
  {
   "cell_type": "markdown",
   "metadata": {},
   "source": [
    "# Quickstart of SuPy\n",
    "\n",
    "This quickstart demonstrates the essential and simplest workflow of `supy` in SUEWS simulation:\n",
    "\n",
    "1. [load input files](#Load-input-files)\n",
    "2. [run simulation](#Run-simulations)\n",
    "3. [examine results](#Examine-results)\n",
    "\n",
    "More advanced use of `supy` are available in the [tutorials](./tutorial.rst#tutorials)\n",
    "\n",
    "Before start, we need to load the following necessary packages."
   ]
  },
  {
   "cell_type": "code",
   "execution_count": 1,
   "metadata": {
    "ExecuteTime": {
     "end_time": "2019-01-05T00:20:18.219810Z",
     "start_time": "2019-01-05T00:20:17.606786Z"
    }
   },
   "outputs": [],
   "source": [
    "import supy as sp\n",
    "import pandas as pd\n",
    "import numpy as np\n",
    "from pathlib import Path\n",
    "get_ipython().run_line_magic('matplotlib', 'inline')"
   ]
  },
  {
   "cell_type": "markdown",
   "metadata": {},
   "source": [
    "## Load input files"
   ]
  },
  {
   "cell_type": "markdown",
   "metadata": {},
   "source": [
    "### For existing SUEWS users:"
   ]
  },
  {
   "cell_type": "markdown",
   "metadata": {},
   "source": [
    "First, a path to SUEWS `RunControl.nml` should be specified, which will direct `supy` to locate input files."
   ]
  },
  {
   "cell_type": "code",
   "execution_count": 2,
   "metadata": {
    "ExecuteTime": {
     "end_time": "2019-01-05T00:20:18.223656Z",
     "start_time": "2019-01-05T00:20:18.221460Z"
    }
   },
   "outputs": [],
   "source": [
    "path_runcontrol=Path('../sample_run')/'RunControl.nml'"
   ]
  },
  {
   "cell_type": "markdown",
   "metadata": {},
   "source": []
  },
  {
   "cell_type": "code",
   "execution_count": 3,
   "metadata": {
    "ExecuteTime": {
     "end_time": "2019-01-05T00:20:19.913293Z",
     "start_time": "2019-01-05T00:20:18.225149Z"
    }
   },
   "outputs": [],
   "source": [
    "df_state_init = sp.init_supy(path_runcontrol)\n"
   ]
  },
  {
   "cell_type": "markdown",
   "metadata": {},
   "source": [
    "A sample `df_state_init` looks below (note that `.T` is used here to a nicer tableform view):"
   ]
  },
  {
   "cell_type": "code",
   "execution_count": 4,
   "metadata": {
    "ExecuteTime": {
     "end_time": "2019-01-05T00:20:19.927208Z",
     "start_time": "2019-01-05T00:20:19.914951Z"
    }
   },
   "outputs": [
    {
     "data": {
      "text/html": [
       "<div>\n",
       "<style scoped>\n",
       "    .dataframe tbody tr th:only-of-type {\n",
       "        vertical-align: middle;\n",
       "    }\n",
       "\n",
       "    .dataframe tbody tr th {\n",
       "        vertical-align: top;\n",
       "    }\n",
       "\n",
       "    .dataframe thead th {\n",
       "        text-align: right;\n",
       "    }\n",
       "</style>\n",
       "<table border=\"1\" class=\"dataframe\">\n",
       "  <thead>\n",
       "    <tr style=\"text-align: right;\">\n",
       "      <th></th>\n",
       "      <th>grid</th>\n",
       "      <th>1</th>\n",
       "    </tr>\n",
       "    <tr>\n",
       "      <th>var</th>\n",
       "      <th>ind_dim</th>\n",
       "      <th></th>\n",
       "    </tr>\n",
       "  </thead>\n",
       "  <tbody>\n",
       "    <tr>\n",
       "      <th>aerodynamicresistancemethod</th>\n",
       "      <th>0</th>\n",
       "      <td>2.0</td>\n",
       "    </tr>\n",
       "    <tr>\n",
       "      <th>emissionsmethod</th>\n",
       "      <th>0</th>\n",
       "      <td>2.0</td>\n",
       "    </tr>\n",
       "    <tr>\n",
       "      <th>evapmethod</th>\n",
       "      <th>0</th>\n",
       "      <td>2.0</td>\n",
       "    </tr>\n",
       "    <tr>\n",
       "      <th>netradiationmethod</th>\n",
       "      <th>0</th>\n",
       "      <td>3.0</td>\n",
       "    </tr>\n",
       "    <tr>\n",
       "      <th>roughlenheatmethod</th>\n",
       "      <th>0</th>\n",
       "      <td>2.0</td>\n",
       "    </tr>\n",
       "    <tr>\n",
       "      <th>roughlenmommethod</th>\n",
       "      <th>0</th>\n",
       "      <td>2.0</td>\n",
       "    </tr>\n",
       "    <tr>\n",
       "      <th>smdmethod</th>\n",
       "      <th>0</th>\n",
       "      <td>0.0</td>\n",
       "    </tr>\n",
       "    <tr>\n",
       "      <th>stabilitymethod</th>\n",
       "      <th>0</th>\n",
       "      <td>3.0</td>\n",
       "    </tr>\n",
       "    <tr>\n",
       "      <th>storageheatmethod</th>\n",
       "      <th>0</th>\n",
       "      <td>1.0</td>\n",
       "    </tr>\n",
       "    <tr>\n",
       "      <th>waterusemethod</th>\n",
       "      <th>0</th>\n",
       "      <td>0.0</td>\n",
       "    </tr>\n",
       "  </tbody>\n",
       "</table>\n",
       "</div>"
      ],
      "text/plain": [
       "grid                                   1\n",
       "var                         ind_dim     \n",
       "aerodynamicresistancemethod 0        2.0\n",
       "emissionsmethod             0        2.0\n",
       "evapmethod                  0        2.0\n",
       "netradiationmethod          0        3.0\n",
       "roughlenheatmethod          0        2.0\n",
       "roughlenmommethod           0        2.0\n",
       "smdmethod                   0        0.0\n",
       "stabilitymethod             0        3.0\n",
       "storageheatmethod           0        1.0\n",
       "waterusemethod              0        0.0"
      ]
     },
     "execution_count": 4,
     "metadata": {},
     "output_type": "execute_result"
    }
   ],
   "source": [
    "df_state_init.filter(like='method').T\n"
   ]
  },
  {
   "cell_type": "markdown",
   "metadata": {},
   "source": [
    "Following the convention of SUEWS, `supy` loads meteorological forcing (met-forcing) files at the grid level."
   ]
  },
  {
   "cell_type": "code",
   "execution_count": 5,
   "metadata": {
    "ExecuteTime": {
     "end_time": "2019-01-05T00:20:21.613992Z",
     "start_time": "2019-01-05T00:20:19.928609Z"
    }
   },
   "outputs": [],
   "source": [
    "grid = df_state_init.index[0]\n",
    "df_forcing = sp.load_forcing_grid(path_runcontrol, grid)"
   ]
  },
  {
   "cell_type": "markdown",
   "metadata": {},
   "source": [
    "### For new users to SUEWS/SuPy:\n"
   ]
  },
  {
   "cell_type": "markdown",
   "metadata": {},
   "source": [
    "To ease the input file preparation, a helper function `load_SampleData` is provided to get the sample input for SuPy simulations "
   ]
  },
  {
   "cell_type": "code",
   "execution_count": 6,
   "metadata": {
    "ExecuteTime": {
     "end_time": "2019-01-05T00:20:24.810799Z",
     "start_time": "2019-01-05T00:20:21.616045Z"
    }
   },
   "outputs": [],
   "source": [
    "df_state_init, df_forcing = sp.load_SampleData()"
   ]
  },
  {
   "cell_type": "markdown",
   "metadata": {},
   "source": [
    "### Overview of SuPy input "
   ]
  },
  {
   "cell_type": "markdown",
   "metadata": {},
   "source": [
    "#### `df_state_init`: \n",
    "\n",
    "`df_state_init` includes model Initial state consisting of:\n",
    "\n",
    "* surface characteristics (e.g., albedo, emissivity, land cover fractions, etc.; full details refer to [SUEWS documentation](https://suews-docs.readthedocs.io/en/latest/input_files/SUEWS_SiteInfo/SUEWS_SiteInfo.html))\n",
    "\n",
    "* model configurations (e.g., stability; full details refer to [SUEWS documentation](https://suews-docs.readthedocs.io/en/latest/input_files/RunControl/RunControl.html))\n",
    "\n",
    "Detailed description of variables in `df_state_init` refers to [SuPy input](../data-structure/supy-io.html#df_state_init:-model-initial-states)"
   ]
  },
  {
   "cell_type": "markdown",
   "metadata": {},
   "source": [
    "#### `df_forcing`: forcing data\n",
    "\n",
    "`df_forcing` includes meteorological and other external forcing information.\n",
    "\n",
    "Detailed description of variables in `df_forcing` refers to [SuPy input](../data-structure/supy-io.html#supy-io.rst#df_forcing:-forcing-data)"
   ]
  },
  {
   "cell_type": "markdown",
   "metadata": {},
   "source": [
    "## Run simulations"
   ]
  },
  {
   "cell_type": "markdown",
   "metadata": {},
   "source": [
    "Once met-forcing (via `df_forcing`) and initial conditions (via `df_state_init`) are loaded in, we call `sp.run_supy` to conduct a SUEWS simulation, which will return two `pandas` `DataFrame`s: `df_output` and `df_state`."
   ]
  },
  {
   "cell_type": "code",
   "execution_count": 7,
   "metadata": {
    "ExecuteTime": {
     "end_time": "2019-01-05T00:20:40.183741Z",
     "start_time": "2019-01-05T00:20:24.812758Z"
    }
   },
   "outputs": [],
   "source": [
    "df_output, df_state_final = sp.run_supy(df_forcing, df_state_init)\n"
   ]
  },
  {
   "cell_type": "markdown",
   "metadata": {},
   "source": [
    "### `df_output`\n",
    "\n",
    "`df_output` is an ensemble output collection of major SUEWS output groups, including:\n",
    "\n",
    "* SUEWS: the essential SUEWS output variables\n",
    "* DailyState: variables of daily state information\n",
    "* snow: snow output variables (effective when `snowuse = 1` set in `ser_mod_cfg`)\n",
    "\n",
    "Detailed description of variables in `df_output` refers to [SuPy output](../data-structure/supy-io.html#df_output:-model-output-results)"
   ]
  },
  {
   "cell_type": "code",
   "execution_count": 8,
   "metadata": {
    "ExecuteTime": {
     "end_time": "2019-01-05T00:20:40.189704Z",
     "start_time": "2019-01-05T00:20:40.185439Z"
    }
   },
   "outputs": [
    {
     "data": {
      "text/plain": [
       "Index(['SUEWS', 'snow', 'DailyState'], dtype='object', name='group')"
      ]
     },
     "execution_count": 8,
     "metadata": {},
     "output_type": "execute_result"
    }
   ],
   "source": [
    "df_output.columns.levels[0]"
   ]
  },
  {
   "cell_type": "markdown",
   "metadata": {},
   "source": [
    "### `df_state_final`\n",
    "\n",
    "`df_state_final` is a `DataFrame` for holding:\n",
    "\n",
    "1. all model states if `save_state` is set to `True` when calling `sp.run_supy` and `supy` may run significantly slower for a large simulation;\n",
    "2. or, only the final state if `save_state` is set to `False` (the default setting) in which mode `supy` has a similar performance as the standalone compiled SUEWS executable.\n",
    "\n",
    "Entries in `df_state_final` have the same data structure as `df_state_init` and can thus be used for other SUEWS simulations staring at the timestamp as in `df_state_final`.\n",
    "\n",
    "Detailed description of variables in `df_state_final` refers to [SuPy output](../data-structure/supy-io.html#df_state_final:-model-final-states)"
   ]
  },
  {
   "cell_type": "code",
   "execution_count": 9,
   "metadata": {
    "ExecuteTime": {
     "end_time": "2019-01-05T00:20:40.212569Z",
     "start_time": "2019-01-05T00:20:40.191595Z"
    },
    "scrolled": true
   },
   "outputs": [
    {
     "data": {
      "text/html": [
       "<div>\n",
       "<style scoped>\n",
       "    .dataframe tbody tr th:only-of-type {\n",
       "        vertical-align: middle;\n",
       "    }\n",
       "\n",
       "    .dataframe tbody tr th {\n",
       "        vertical-align: top;\n",
       "    }\n",
       "\n",
       "    .dataframe thead tr th {\n",
       "        text-align: left;\n",
       "    }\n",
       "\n",
       "    .dataframe thead tr:last-of-type th {\n",
       "        text-align: right;\n",
       "    }\n",
       "</style>\n",
       "<table border=\"1\" class=\"dataframe\">\n",
       "  <thead>\n",
       "    <tr>\n",
       "      <th></th>\n",
       "      <th>grid</th>\n",
       "      <th colspan=\"2\" halign=\"left\">1</th>\n",
       "    </tr>\n",
       "    <tr>\n",
       "      <th></th>\n",
       "      <th>datetime</th>\n",
       "      <th>2012-01-01 00:05:00</th>\n",
       "      <th>2013-01-01 00:05:00</th>\n",
       "    </tr>\n",
       "    <tr>\n",
       "      <th>var</th>\n",
       "      <th>ind_dim</th>\n",
       "      <th></th>\n",
       "      <th></th>\n",
       "    </tr>\n",
       "  </thead>\n",
       "  <tbody>\n",
       "    <tr>\n",
       "      <th>aerodynamicresistancemethod</th>\n",
       "      <th>0</th>\n",
       "      <td>2.00</td>\n",
       "      <td>2.00</td>\n",
       "    </tr>\n",
       "    <tr>\n",
       "      <th rowspan=\"2\" valign=\"top\">ah_min</th>\n",
       "      <th>(0,)</th>\n",
       "      <td>15.00</td>\n",
       "      <td>15.00</td>\n",
       "    </tr>\n",
       "    <tr>\n",
       "      <th>(1,)</th>\n",
       "      <td>15.00</td>\n",
       "      <td>15.00</td>\n",
       "    </tr>\n",
       "    <tr>\n",
       "      <th rowspan=\"2\" valign=\"top\">ah_slope_cooling</th>\n",
       "      <th>(0,)</th>\n",
       "      <td>2.70</td>\n",
       "      <td>2.70</td>\n",
       "    </tr>\n",
       "    <tr>\n",
       "      <th>(1,)</th>\n",
       "      <td>2.70</td>\n",
       "      <td>2.70</td>\n",
       "    </tr>\n",
       "    <tr>\n",
       "      <th rowspan=\"2\" valign=\"top\">ah_slope_heating</th>\n",
       "      <th>(0,)</th>\n",
       "      <td>2.70</td>\n",
       "      <td>2.70</td>\n",
       "    </tr>\n",
       "    <tr>\n",
       "      <th>(1,)</th>\n",
       "      <td>2.70</td>\n",
       "      <td>2.70</td>\n",
       "    </tr>\n",
       "    <tr>\n",
       "      <th rowspan=\"23\" valign=\"top\">ahprof_24hr</th>\n",
       "      <th>(0, 0)</th>\n",
       "      <td>0.57</td>\n",
       "      <td>0.57</td>\n",
       "    </tr>\n",
       "    <tr>\n",
       "      <th>(0, 1)</th>\n",
       "      <td>0.65</td>\n",
       "      <td>0.65</td>\n",
       "    </tr>\n",
       "    <tr>\n",
       "      <th>(1, 0)</th>\n",
       "      <td>0.45</td>\n",
       "      <td>0.45</td>\n",
       "    </tr>\n",
       "    <tr>\n",
       "      <th>(1, 1)</th>\n",
       "      <td>0.49</td>\n",
       "      <td>0.49</td>\n",
       "    </tr>\n",
       "    <tr>\n",
       "      <th>(2, 0)</th>\n",
       "      <td>0.43</td>\n",
       "      <td>0.43</td>\n",
       "    </tr>\n",
       "    <tr>\n",
       "      <th>(2, 1)</th>\n",
       "      <td>0.46</td>\n",
       "      <td>0.46</td>\n",
       "    </tr>\n",
       "    <tr>\n",
       "      <th>(3, 0)</th>\n",
       "      <td>0.40</td>\n",
       "      <td>0.40</td>\n",
       "    </tr>\n",
       "    <tr>\n",
       "      <th>(3, 1)</th>\n",
       "      <td>0.47</td>\n",
       "      <td>0.47</td>\n",
       "    </tr>\n",
       "    <tr>\n",
       "      <th>(4, 0)</th>\n",
       "      <td>0.40</td>\n",
       "      <td>0.40</td>\n",
       "    </tr>\n",
       "    <tr>\n",
       "      <th>(4, 1)</th>\n",
       "      <td>0.47</td>\n",
       "      <td>0.47</td>\n",
       "    </tr>\n",
       "    <tr>\n",
       "      <th>(5, 0)</th>\n",
       "      <td>0.45</td>\n",
       "      <td>0.45</td>\n",
       "    </tr>\n",
       "    <tr>\n",
       "      <th>(5, 1)</th>\n",
       "      <td>0.53</td>\n",
       "      <td>0.53</td>\n",
       "    </tr>\n",
       "    <tr>\n",
       "      <th>(6, 0)</th>\n",
       "      <td>0.71</td>\n",
       "      <td>0.71</td>\n",
       "    </tr>\n",
       "    <tr>\n",
       "      <th>(6, 1)</th>\n",
       "      <td>0.70</td>\n",
       "      <td>0.70</td>\n",
       "    </tr>\n",
       "    <tr>\n",
       "      <th>(7, 0)</th>\n",
       "      <td>1.20</td>\n",
       "      <td>1.20</td>\n",
       "    </tr>\n",
       "    <tr>\n",
       "      <th>(7, 1)</th>\n",
       "      <td>1.13</td>\n",
       "      <td>1.13</td>\n",
       "    </tr>\n",
       "    <tr>\n",
       "      <th>(8, 0)</th>\n",
       "      <td>1.44</td>\n",
       "      <td>1.44</td>\n",
       "    </tr>\n",
       "    <tr>\n",
       "      <th>(8, 1)</th>\n",
       "      <td>1.37</td>\n",
       "      <td>1.37</td>\n",
       "    </tr>\n",
       "    <tr>\n",
       "      <th>(9, 0)</th>\n",
       "      <td>1.29</td>\n",
       "      <td>1.29</td>\n",
       "    </tr>\n",
       "    <tr>\n",
       "      <th>(9, 1)</th>\n",
       "      <td>1.37</td>\n",
       "      <td>1.37</td>\n",
       "    </tr>\n",
       "    <tr>\n",
       "      <th>(10, 0)</th>\n",
       "      <td>1.28</td>\n",
       "      <td>1.28</td>\n",
       "    </tr>\n",
       "    <tr>\n",
       "      <th>(10, 1)</th>\n",
       "      <td>1.30</td>\n",
       "      <td>1.30</td>\n",
       "    </tr>\n",
       "    <tr>\n",
       "      <th>(11, 0)</th>\n",
       "      <td>1.31</td>\n",
       "      <td>1.31</td>\n",
       "    </tr>\n",
       "    <tr>\n",
       "      <th>...</th>\n",
       "      <th>...</th>\n",
       "      <td>...</td>\n",
       "      <td>...</td>\n",
       "    </tr>\n",
       "    <tr>\n",
       "      <th rowspan=\"27\" valign=\"top\">wuprofm_24hr</th>\n",
       "      <th>(10, 1)</th>\n",
       "      <td>-999.00</td>\n",
       "      <td>-999.00</td>\n",
       "    </tr>\n",
       "    <tr>\n",
       "      <th>(11, 0)</th>\n",
       "      <td>-999.00</td>\n",
       "      <td>-999.00</td>\n",
       "    </tr>\n",
       "    <tr>\n",
       "      <th>(11, 1)</th>\n",
       "      <td>-999.00</td>\n",
       "      <td>-999.00</td>\n",
       "    </tr>\n",
       "    <tr>\n",
       "      <th>(12, 0)</th>\n",
       "      <td>-999.00</td>\n",
       "      <td>-999.00</td>\n",
       "    </tr>\n",
       "    <tr>\n",
       "      <th>(12, 1)</th>\n",
       "      <td>-999.00</td>\n",
       "      <td>-999.00</td>\n",
       "    </tr>\n",
       "    <tr>\n",
       "      <th>(13, 0)</th>\n",
       "      <td>-999.00</td>\n",
       "      <td>-999.00</td>\n",
       "    </tr>\n",
       "    <tr>\n",
       "      <th>(13, 1)</th>\n",
       "      <td>-999.00</td>\n",
       "      <td>-999.00</td>\n",
       "    </tr>\n",
       "    <tr>\n",
       "      <th>(14, 0)</th>\n",
       "      <td>-999.00</td>\n",
       "      <td>-999.00</td>\n",
       "    </tr>\n",
       "    <tr>\n",
       "      <th>(14, 1)</th>\n",
       "      <td>-999.00</td>\n",
       "      <td>-999.00</td>\n",
       "    </tr>\n",
       "    <tr>\n",
       "      <th>(15, 0)</th>\n",
       "      <td>-999.00</td>\n",
       "      <td>-999.00</td>\n",
       "    </tr>\n",
       "    <tr>\n",
       "      <th>(15, 1)</th>\n",
       "      <td>-999.00</td>\n",
       "      <td>-999.00</td>\n",
       "    </tr>\n",
       "    <tr>\n",
       "      <th>(16, 0)</th>\n",
       "      <td>-999.00</td>\n",
       "      <td>-999.00</td>\n",
       "    </tr>\n",
       "    <tr>\n",
       "      <th>(16, 1)</th>\n",
       "      <td>-999.00</td>\n",
       "      <td>-999.00</td>\n",
       "    </tr>\n",
       "    <tr>\n",
       "      <th>(17, 0)</th>\n",
       "      <td>-999.00</td>\n",
       "      <td>-999.00</td>\n",
       "    </tr>\n",
       "    <tr>\n",
       "      <th>(17, 1)</th>\n",
       "      <td>-999.00</td>\n",
       "      <td>-999.00</td>\n",
       "    </tr>\n",
       "    <tr>\n",
       "      <th>(18, 0)</th>\n",
       "      <td>-999.00</td>\n",
       "      <td>-999.00</td>\n",
       "    </tr>\n",
       "    <tr>\n",
       "      <th>(18, 1)</th>\n",
       "      <td>-999.00</td>\n",
       "      <td>-999.00</td>\n",
       "    </tr>\n",
       "    <tr>\n",
       "      <th>(19, 0)</th>\n",
       "      <td>-999.00</td>\n",
       "      <td>-999.00</td>\n",
       "    </tr>\n",
       "    <tr>\n",
       "      <th>(19, 1)</th>\n",
       "      <td>-999.00</td>\n",
       "      <td>-999.00</td>\n",
       "    </tr>\n",
       "    <tr>\n",
       "      <th>(20, 0)</th>\n",
       "      <td>-999.00</td>\n",
       "      <td>-999.00</td>\n",
       "    </tr>\n",
       "    <tr>\n",
       "      <th>(20, 1)</th>\n",
       "      <td>-999.00</td>\n",
       "      <td>-999.00</td>\n",
       "    </tr>\n",
       "    <tr>\n",
       "      <th>(21, 0)</th>\n",
       "      <td>-999.00</td>\n",
       "      <td>-999.00</td>\n",
       "    </tr>\n",
       "    <tr>\n",
       "      <th>(21, 1)</th>\n",
       "      <td>-999.00</td>\n",
       "      <td>-999.00</td>\n",
       "    </tr>\n",
       "    <tr>\n",
       "      <th>(22, 0)</th>\n",
       "      <td>-999.00</td>\n",
       "      <td>-999.00</td>\n",
       "    </tr>\n",
       "    <tr>\n",
       "      <th>(22, 1)</th>\n",
       "      <td>-999.00</td>\n",
       "      <td>-999.00</td>\n",
       "    </tr>\n",
       "    <tr>\n",
       "      <th>(23, 0)</th>\n",
       "      <td>-999.00</td>\n",
       "      <td>-999.00</td>\n",
       "    </tr>\n",
       "    <tr>\n",
       "      <th>(23, 1)</th>\n",
       "      <td>-999.00</td>\n",
       "      <td>-999.00</td>\n",
       "    </tr>\n",
       "    <tr>\n",
       "      <th>z</th>\n",
       "      <th>0</th>\n",
       "      <td>10.00</td>\n",
       "      <td>10.00</td>\n",
       "    </tr>\n",
       "    <tr>\n",
       "      <th>z0m_in</th>\n",
       "      <th>0</th>\n",
       "      <td>0.01</td>\n",
       "      <td>0.01</td>\n",
       "    </tr>\n",
       "    <tr>\n",
       "      <th>zdm_in</th>\n",
       "      <th>0</th>\n",
       "      <td>0.20</td>\n",
       "      <td>0.20</td>\n",
       "    </tr>\n",
       "  </tbody>\n",
       "</table>\n",
       "<p>1200 rows × 2 columns</p>\n",
       "</div>"
      ],
      "text/plain": [
       "grid                                                  1                    \n",
       "datetime                            2012-01-01 00:05:00 2013-01-01 00:05:00\n",
       "var                         ind_dim                                        \n",
       "aerodynamicresistancemethod 0                      2.00                2.00\n",
       "ah_min                      (0,)                  15.00               15.00\n",
       "                            (1,)                  15.00               15.00\n",
       "ah_slope_cooling            (0,)                   2.70                2.70\n",
       "                            (1,)                   2.70                2.70\n",
       "ah_slope_heating            (0,)                   2.70                2.70\n",
       "                            (1,)                   2.70                2.70\n",
       "ahprof_24hr                 (0, 0)                 0.57                0.57\n",
       "                            (0, 1)                 0.65                0.65\n",
       "                            (1, 0)                 0.45                0.45\n",
       "                            (1, 1)                 0.49                0.49\n",
       "                            (2, 0)                 0.43                0.43\n",
       "                            (2, 1)                 0.46                0.46\n",
       "                            (3, 0)                 0.40                0.40\n",
       "                            (3, 1)                 0.47                0.47\n",
       "                            (4, 0)                 0.40                0.40\n",
       "                            (4, 1)                 0.47                0.47\n",
       "                            (5, 0)                 0.45                0.45\n",
       "                            (5, 1)                 0.53                0.53\n",
       "                            (6, 0)                 0.71                0.71\n",
       "                            (6, 1)                 0.70                0.70\n",
       "                            (7, 0)                 1.20                1.20\n",
       "                            (7, 1)                 1.13                1.13\n",
       "                            (8, 0)                 1.44                1.44\n",
       "                            (8, 1)                 1.37                1.37\n",
       "                            (9, 0)                 1.29                1.29\n",
       "                            (9, 1)                 1.37                1.37\n",
       "                            (10, 0)                1.28                1.28\n",
       "                            (10, 1)                1.30                1.30\n",
       "                            (11, 0)                1.31                1.31\n",
       "...                                                 ...                 ...\n",
       "wuprofm_24hr                (10, 1)             -999.00             -999.00\n",
       "                            (11, 0)             -999.00             -999.00\n",
       "                            (11, 1)             -999.00             -999.00\n",
       "                            (12, 0)             -999.00             -999.00\n",
       "                            (12, 1)             -999.00             -999.00\n",
       "                            (13, 0)             -999.00             -999.00\n",
       "                            (13, 1)             -999.00             -999.00\n",
       "                            (14, 0)             -999.00             -999.00\n",
       "                            (14, 1)             -999.00             -999.00\n",
       "                            (15, 0)             -999.00             -999.00\n",
       "                            (15, 1)             -999.00             -999.00\n",
       "                            (16, 0)             -999.00             -999.00\n",
       "                            (16, 1)             -999.00             -999.00\n",
       "                            (17, 0)             -999.00             -999.00\n",
       "                            (17, 1)             -999.00             -999.00\n",
       "                            (18, 0)             -999.00             -999.00\n",
       "                            (18, 1)             -999.00             -999.00\n",
       "                            (19, 0)             -999.00             -999.00\n",
       "                            (19, 1)             -999.00             -999.00\n",
       "                            (20, 0)             -999.00             -999.00\n",
       "                            (20, 1)             -999.00             -999.00\n",
       "                            (21, 0)             -999.00             -999.00\n",
       "                            (21, 1)             -999.00             -999.00\n",
       "                            (22, 0)             -999.00             -999.00\n",
       "                            (22, 1)             -999.00             -999.00\n",
       "                            (23, 0)             -999.00             -999.00\n",
       "                            (23, 1)             -999.00             -999.00\n",
       "z                           0                     10.00               10.00\n",
       "z0m_in                      0                      0.01                0.01\n",
       "zdm_in                      0                      0.20                0.20\n",
       "\n",
       "[1200 rows x 2 columns]"
      ]
     },
     "execution_count": 9,
     "metadata": {},
     "output_type": "execute_result"
    }
   ],
   "source": [
    "df_state_final.T"
   ]
  },
  {
   "cell_type": "markdown",
   "metadata": {},
   "source": [
    "## Examine results"
   ]
  },
  {
   "cell_type": "markdown",
   "metadata": {},
   "source": [
    "Thanks to the functionality inherited from `pandas` and other packages under the [PyData](https://pydata.org) stack, compared with the standard SUEWS simulation workflow, `supy` enables more convenient examination of SUEWS results by statistics calculation, resampling, plotting (and many more)."
   ]
  },
  {
   "cell_type": "markdown",
   "metadata": {},
   "source": [
    "### Ouptut structure\n",
    "\n",
    "`df_output` is organised with `MultiIndex` `(grid,timestamp)` and `(group,varaible)` as `index` and `columns`, respectively."
   ]
  },
  {
   "cell_type": "code",
   "execution_count": 10,
   "metadata": {
    "ExecuteTime": {
     "end_time": "2019-01-05T00:20:40.239758Z",
     "start_time": "2019-01-05T00:20:40.214520Z"
    }
   },
   "outputs": [
    {
     "data": {
      "text/html": [
       "<div>\n",
       "<style scoped>\n",
       "    .dataframe tbody tr th:only-of-type {\n",
       "        vertical-align: middle;\n",
       "    }\n",
       "\n",
       "    .dataframe tbody tr th {\n",
       "        vertical-align: top;\n",
       "    }\n",
       "\n",
       "    .dataframe thead tr th {\n",
       "        text-align: left;\n",
       "    }\n",
       "\n",
       "    .dataframe thead tr:last-of-type th {\n",
       "        text-align: right;\n",
       "    }\n",
       "</style>\n",
       "<table border=\"1\" class=\"dataframe\">\n",
       "  <thead>\n",
       "    <tr>\n",
       "      <th></th>\n",
       "      <th>group</th>\n",
       "      <th colspan=\"10\" halign=\"left\">SUEWS</th>\n",
       "      <th>...</th>\n",
       "      <th colspan=\"10\" halign=\"left\">DailyState</th>\n",
       "    </tr>\n",
       "    <tr>\n",
       "      <th></th>\n",
       "      <th>var</th>\n",
       "      <th>Kdown</th>\n",
       "      <th>Kup</th>\n",
       "      <th>Ldown</th>\n",
       "      <th>Lup</th>\n",
       "      <th>Tsurf</th>\n",
       "      <th>QN</th>\n",
       "      <th>QF</th>\n",
       "      <th>QS</th>\n",
       "      <th>QH</th>\n",
       "      <th>QE</th>\n",
       "      <th>...</th>\n",
       "      <th>DensSnow_Paved</th>\n",
       "      <th>DensSnow_Bldgs</th>\n",
       "      <th>DensSnow_EveTr</th>\n",
       "      <th>DensSnow_DecTr</th>\n",
       "      <th>DensSnow_Grass</th>\n",
       "      <th>DensSnow_BSoil</th>\n",
       "      <th>DensSnow_Water</th>\n",
       "      <th>a1</th>\n",
       "      <th>a2</th>\n",
       "      <th>a3</th>\n",
       "    </tr>\n",
       "    <tr>\n",
       "      <th>grid</th>\n",
       "      <th>datetime</th>\n",
       "      <th></th>\n",
       "      <th></th>\n",
       "      <th></th>\n",
       "      <th></th>\n",
       "      <th></th>\n",
       "      <th></th>\n",
       "      <th></th>\n",
       "      <th></th>\n",
       "      <th></th>\n",
       "      <th></th>\n",
       "      <th></th>\n",
       "      <th></th>\n",
       "      <th></th>\n",
       "      <th></th>\n",
       "      <th></th>\n",
       "      <th></th>\n",
       "      <th></th>\n",
       "      <th></th>\n",
       "      <th></th>\n",
       "      <th></th>\n",
       "      <th></th>\n",
       "    </tr>\n",
       "  </thead>\n",
       "  <tbody>\n",
       "    <tr>\n",
       "      <th rowspan=\"5\" valign=\"top\">1</th>\n",
       "      <th>2012-01-01 00:05:00</th>\n",
       "      <td>0.153333</td>\n",
       "      <td>0.0184</td>\n",
       "      <td>344.310184</td>\n",
       "      <td>372.270369</td>\n",
       "      <td>11.775916</td>\n",
       "      <td>-27.825251</td>\n",
       "      <td>0.0</td>\n",
       "      <td>-59.305405</td>\n",
       "      <td>31.480154</td>\n",
       "      <td>0.0</td>\n",
       "      <td>...</td>\n",
       "      <td>NaN</td>\n",
       "      <td>NaN</td>\n",
       "      <td>NaN</td>\n",
       "      <td>NaN</td>\n",
       "      <td>NaN</td>\n",
       "      <td>NaN</td>\n",
       "      <td>NaN</td>\n",
       "      <td>NaN</td>\n",
       "      <td>NaN</td>\n",
       "      <td>NaN</td>\n",
       "    </tr>\n",
       "    <tr>\n",
       "      <th>2012-01-01 00:10:00</th>\n",
       "      <td>0.153333</td>\n",
       "      <td>0.0184</td>\n",
       "      <td>344.310184</td>\n",
       "      <td>372.270369</td>\n",
       "      <td>11.775916</td>\n",
       "      <td>-27.825251</td>\n",
       "      <td>0.0</td>\n",
       "      <td>-59.305405</td>\n",
       "      <td>31.480154</td>\n",
       "      <td>0.0</td>\n",
       "      <td>...</td>\n",
       "      <td>NaN</td>\n",
       "      <td>NaN</td>\n",
       "      <td>NaN</td>\n",
       "      <td>NaN</td>\n",
       "      <td>NaN</td>\n",
       "      <td>NaN</td>\n",
       "      <td>NaN</td>\n",
       "      <td>NaN</td>\n",
       "      <td>NaN</td>\n",
       "      <td>NaN</td>\n",
       "    </tr>\n",
       "    <tr>\n",
       "      <th>2012-01-01 00:15:00</th>\n",
       "      <td>0.153333</td>\n",
       "      <td>0.0184</td>\n",
       "      <td>344.310184</td>\n",
       "      <td>372.270369</td>\n",
       "      <td>11.775916</td>\n",
       "      <td>-27.825251</td>\n",
       "      <td>0.0</td>\n",
       "      <td>-59.305405</td>\n",
       "      <td>31.480154</td>\n",
       "      <td>0.0</td>\n",
       "      <td>...</td>\n",
       "      <td>NaN</td>\n",
       "      <td>NaN</td>\n",
       "      <td>NaN</td>\n",
       "      <td>NaN</td>\n",
       "      <td>NaN</td>\n",
       "      <td>NaN</td>\n",
       "      <td>NaN</td>\n",
       "      <td>NaN</td>\n",
       "      <td>NaN</td>\n",
       "      <td>NaN</td>\n",
       "    </tr>\n",
       "    <tr>\n",
       "      <th>2012-01-01 00:20:00</th>\n",
       "      <td>0.153333</td>\n",
       "      <td>0.0184</td>\n",
       "      <td>344.310184</td>\n",
       "      <td>372.270369</td>\n",
       "      <td>11.775916</td>\n",
       "      <td>-27.825251</td>\n",
       "      <td>0.0</td>\n",
       "      <td>-59.305405</td>\n",
       "      <td>31.480154</td>\n",
       "      <td>0.0</td>\n",
       "      <td>...</td>\n",
       "      <td>NaN</td>\n",
       "      <td>NaN</td>\n",
       "      <td>NaN</td>\n",
       "      <td>NaN</td>\n",
       "      <td>NaN</td>\n",
       "      <td>NaN</td>\n",
       "      <td>NaN</td>\n",
       "      <td>NaN</td>\n",
       "      <td>NaN</td>\n",
       "      <td>NaN</td>\n",
       "    </tr>\n",
       "    <tr>\n",
       "      <th>2012-01-01 00:25:00</th>\n",
       "      <td>0.153333</td>\n",
       "      <td>0.0184</td>\n",
       "      <td>344.310184</td>\n",
       "      <td>372.270369</td>\n",
       "      <td>11.775916</td>\n",
       "      <td>-27.825251</td>\n",
       "      <td>0.0</td>\n",
       "      <td>-59.305405</td>\n",
       "      <td>31.480154</td>\n",
       "      <td>0.0</td>\n",
       "      <td>...</td>\n",
       "      <td>NaN</td>\n",
       "      <td>NaN</td>\n",
       "      <td>NaN</td>\n",
       "      <td>NaN</td>\n",
       "      <td>NaN</td>\n",
       "      <td>NaN</td>\n",
       "      <td>NaN</td>\n",
       "      <td>NaN</td>\n",
       "      <td>NaN</td>\n",
       "      <td>NaN</td>\n",
       "    </tr>\n",
       "  </tbody>\n",
       "</table>\n",
       "<p>5 rows × 218 columns</p>\n",
       "</div>"
      ],
      "text/plain": [
       "group                        SUEWS                                             \\\n",
       "var                          Kdown     Kup       Ldown         Lup      Tsurf   \n",
       "grid datetime                                                                   \n",
       "1    2012-01-01 00:05:00  0.153333  0.0184  344.310184  372.270369  11.775916   \n",
       "     2012-01-01 00:10:00  0.153333  0.0184  344.310184  372.270369  11.775916   \n",
       "     2012-01-01 00:15:00  0.153333  0.0184  344.310184  372.270369  11.775916   \n",
       "     2012-01-01 00:20:00  0.153333  0.0184  344.310184  372.270369  11.775916   \n",
       "     2012-01-01 00:25:00  0.153333  0.0184  344.310184  372.270369  11.775916   \n",
       "\n",
       "group                                                               ...  \\\n",
       "var                              QN   QF         QS         QH   QE ...   \n",
       "grid datetime                                                       ...   \n",
       "1    2012-01-01 00:05:00 -27.825251  0.0 -59.305405  31.480154  0.0 ...   \n",
       "     2012-01-01 00:10:00 -27.825251  0.0 -59.305405  31.480154  0.0 ...   \n",
       "     2012-01-01 00:15:00 -27.825251  0.0 -59.305405  31.480154  0.0 ...   \n",
       "     2012-01-01 00:20:00 -27.825251  0.0 -59.305405  31.480154  0.0 ...   \n",
       "     2012-01-01 00:25:00 -27.825251  0.0 -59.305405  31.480154  0.0 ...   \n",
       "\n",
       "group                        DailyState                                \\\n",
       "var                      DensSnow_Paved DensSnow_Bldgs DensSnow_EveTr   \n",
       "grid datetime                                                           \n",
       "1    2012-01-01 00:05:00            NaN            NaN            NaN   \n",
       "     2012-01-01 00:10:00            NaN            NaN            NaN   \n",
       "     2012-01-01 00:15:00            NaN            NaN            NaN   \n",
       "     2012-01-01 00:20:00            NaN            NaN            NaN   \n",
       "     2012-01-01 00:25:00            NaN            NaN            NaN   \n",
       "\n",
       "group                                                                  \\\n",
       "var                      DensSnow_DecTr DensSnow_Grass DensSnow_BSoil   \n",
       "grid datetime                                                           \n",
       "1    2012-01-01 00:05:00            NaN            NaN            NaN   \n",
       "     2012-01-01 00:10:00            NaN            NaN            NaN   \n",
       "     2012-01-01 00:15:00            NaN            NaN            NaN   \n",
       "     2012-01-01 00:20:00            NaN            NaN            NaN   \n",
       "     2012-01-01 00:25:00            NaN            NaN            NaN   \n",
       "\n",
       "group                                                \n",
       "var                      DensSnow_Water  a1  a2  a3  \n",
       "grid datetime                                        \n",
       "1    2012-01-01 00:05:00            NaN NaN NaN NaN  \n",
       "     2012-01-01 00:10:00            NaN NaN NaN NaN  \n",
       "     2012-01-01 00:15:00            NaN NaN NaN NaN  \n",
       "     2012-01-01 00:20:00            NaN NaN NaN NaN  \n",
       "     2012-01-01 00:25:00            NaN NaN NaN NaN  \n",
       "\n",
       "[5 rows x 218 columns]"
      ]
     },
     "execution_count": 10,
     "metadata": {},
     "output_type": "execute_result"
    }
   ],
   "source": [
    "df_output.head()"
   ]
  },
  {
   "cell_type": "markdown",
   "metadata": {},
   "source": [
    "Here we demonstrate several typical scenarios for SUEWS results examination.\n",
    "\n",
    "The essential `SUEWS` output collection is extracted as a separate variable for easier processing in the following sections. More [advanced slicing techniques](http://pandas.pydata.org/pandas-docs/stable/advanced.html#multiindex-advanced-indexing) are available in `pandas` documentation."
   ]
  },
  {
   "cell_type": "code",
   "execution_count": 11,
   "metadata": {
    "ExecuteTime": {
     "end_time": "2019-01-05T00:20:40.243920Z",
     "start_time": "2019-01-05T00:20:40.241363Z"
    }
   },
   "outputs": [],
   "source": [
    "df_output_suews=df_output['SUEWS']\n"
   ]
  },
  {
   "cell_type": "markdown",
   "metadata": {},
   "source": [
    "### Statistics Calculation\n",
    "\n",
    "We can use `.describe()` method for a quick overview of the key surface energy balance budgets."
   ]
  },
  {
   "cell_type": "code",
   "execution_count": 12,
   "metadata": {
    "ExecuteTime": {
     "end_time": "2019-01-05T00:20:40.286436Z",
     "start_time": "2019-01-05T00:20:40.245544Z"
    }
   },
   "outputs": [
    {
     "data": {
      "text/html": [
       "<div>\n",
       "<style scoped>\n",
       "    .dataframe tbody tr th:only-of-type {\n",
       "        vertical-align: middle;\n",
       "    }\n",
       "\n",
       "    .dataframe tbody tr th {\n",
       "        vertical-align: top;\n",
       "    }\n",
       "\n",
       "    .dataframe thead th {\n",
       "        text-align: right;\n",
       "    }\n",
       "</style>\n",
       "<table border=\"1\" class=\"dataframe\">\n",
       "  <thead>\n",
       "    <tr style=\"text-align: right;\">\n",
       "      <th>var</th>\n",
       "      <th>QN</th>\n",
       "      <th>QS</th>\n",
       "      <th>QH</th>\n",
       "      <th>QE</th>\n",
       "      <th>QF</th>\n",
       "    </tr>\n",
       "  </thead>\n",
       "  <tbody>\n",
       "    <tr>\n",
       "      <th>count</th>\n",
       "      <td>105408.000000</td>\n",
       "      <td>105408.000000</td>\n",
       "      <td>105408.000000</td>\n",
       "      <td>105408.000000</td>\n",
       "      <td>105408.0</td>\n",
       "    </tr>\n",
       "    <tr>\n",
       "      <th>mean</th>\n",
       "      <td>43.081257</td>\n",
       "      <td>-1.445639</td>\n",
       "      <td>38.919791</td>\n",
       "      <td>5.607106</td>\n",
       "      <td>0.0</td>\n",
       "    </tr>\n",
       "    <tr>\n",
       "      <th>std</th>\n",
       "      <td>136.460171</td>\n",
       "      <td>110.329108</td>\n",
       "      <td>28.140539</td>\n",
       "      <td>11.114066</td>\n",
       "      <td>0.0</td>\n",
       "    </tr>\n",
       "    <tr>\n",
       "      <th>min</th>\n",
       "      <td>-85.761254</td>\n",
       "      <td>-106.005046</td>\n",
       "      <td>-47.936665</td>\n",
       "      <td>0.000000</td>\n",
       "      <td>0.0</td>\n",
       "    </tr>\n",
       "    <tr>\n",
       "      <th>25%</th>\n",
       "      <td>-41.721110</td>\n",
       "      <td>-70.226380</td>\n",
       "      <td>25.145524</td>\n",
       "      <td>0.000000</td>\n",
       "      <td>0.0</td>\n",
       "    </tr>\n",
       "    <tr>\n",
       "      <th>50%</th>\n",
       "      <td>-25.250982</td>\n",
       "      <td>-56.777049</td>\n",
       "      <td>29.060547</td>\n",
       "      <td>0.000000</td>\n",
       "      <td>0.0</td>\n",
       "    </tr>\n",
       "    <tr>\n",
       "      <th>75%</th>\n",
       "      <td>78.312289</td>\n",
       "      <td>27.954955</td>\n",
       "      <td>45.300129</td>\n",
       "      <td>5.963117</td>\n",
       "      <td>0.0</td>\n",
       "    </tr>\n",
       "    <tr>\n",
       "      <th>max</th>\n",
       "      <td>698.440633</td>\n",
       "      <td>514.869939</td>\n",
       "      <td>184.333229</td>\n",
       "      <td>129.105145</td>\n",
       "      <td>0.0</td>\n",
       "    </tr>\n",
       "  </tbody>\n",
       "</table>\n",
       "</div>"
      ],
      "text/plain": [
       "var               QN             QS             QH             QE        QF\n",
       "count  105408.000000  105408.000000  105408.000000  105408.000000  105408.0\n",
       "mean       43.081257      -1.445639      38.919791       5.607106       0.0\n",
       "std       136.460171     110.329108      28.140539      11.114066       0.0\n",
       "min       -85.761254    -106.005046     -47.936665       0.000000       0.0\n",
       "25%       -41.721110     -70.226380      25.145524       0.000000       0.0\n",
       "50%       -25.250982     -56.777049      29.060547       0.000000       0.0\n",
       "75%        78.312289      27.954955      45.300129       5.963117       0.0\n",
       "max       698.440633     514.869939     184.333229     129.105145       0.0"
      ]
     },
     "execution_count": 12,
     "metadata": {},
     "output_type": "execute_result"
    }
   ],
   "source": [
    "df_output_suews.loc[:,['QN','QS','QH','QE','QF']].describe()\n"
   ]
  },
  {
   "cell_type": "markdown",
   "metadata": {},
   "source": [
    "### Plotting\n",
    "\n",
    "Plotting is very straightforward via the `.plot` method bounded with `pandas` objects."
   ]
  },
  {
   "cell_type": "code",
   "execution_count": 13,
   "metadata": {
    "ExecuteTime": {
     "end_time": "2019-01-05T00:20:41.279456Z",
     "start_time": "2019-01-05T00:20:40.288032Z"
    }
   },
   "outputs": [
    {
     "data": {
      "text/plain": [
       "<matplotlib.legend.Legend at 0x1291fcb38>"
      ]
     },
     "execution_count": 13,
     "metadata": {},
     "output_type": "execute_result"
    },
    {
     "data": {
      "image/png": "[encoded data removed]",
      "text/plain": [
       "<Figure size 432x288 with 1 Axes>"
      ]
     },
     "metadata": {},
     "output_type": "display_data"
    }
   ],
   "source": [
    "ax_output=df_output_suews.loc[1].loc[\n",
    "    '2012 6 1':'2012 6 7',\n",
    "    ['QN','QS','QE','QH','QF']\n",
    "].plot()\n",
    "ax_output.set_xlabel('Date')\n",
    "ax_output.set_ylabel('Flux ($ \\mathrm{W \\ m^{-2}}$)')\n",
    "ax_output.legend()\n"
   ]
  },
  {
   "cell_type": "markdown",
   "metadata": {},
   "source": [
    "### Resampling\n",
    "\n",
    "The suggested runtime/simulation frequency of SUEWS is `300 s`, which usually results a large output and may be over-weighted for storage. To slim down the output size, we can `resample` the default output."
   ]
  },
  {
   "cell_type": "code",
   "execution_count": 14,
   "metadata": {
    "ExecuteTime": {
     "end_time": "2019-01-05T00:20:41.312251Z",
     "start_time": "2019-01-05T00:20:41.281289Z"
    }
   },
   "outputs": [],
   "source": [
    "df_output_suews_rsmp=df_output_suews.loc[1].resample('1h').mean()"
   ]
  },
  {
   "cell_type": "markdown",
   "metadata": {},
   "source": [
    "### Output"
   ]
  },
  {
   "cell_type": "markdown",
   "metadata": {},
   "source": [
    "The resampled output can be outputed for a smaller file."
   ]
  },
  {
   "cell_type": "code",
   "execution_count": 15,
   "metadata": {
    "ExecuteTime": {
     "end_time": "2019-01-05T00:20:42.159527Z",
     "start_time": "2019-01-05T00:20:41.313782Z"
    }
   },
   "outputs": [],
   "source": [
    "df_output_suews_rsmp.to_csv('suews_1h.txt',\n",
    "                            sep='\\t',\n",
    "                            float_format='%8.2f',\n",
    "                            na_rep=-999)"
   ]
  },
  {
   "cell_type": "markdown",
   "metadata": {},
   "source": [
    "For a justified format, we use the `to_string` for better format controlling and write the formatted string out to a file."
   ]
  },
  {
   "cell_type": "code",
   "execution_count": 16,
   "metadata": {
    "ExecuteTime": {
     "end_time": "2019-01-05T00:20:45.907829Z",
     "start_time": "2019-01-05T00:20:42.161202Z"
    }
   },
   "outputs": [],
   "source": [
    "str_out=df_output_suews_rsmp.to_string(\n",
    "    float_format='%8.2f',\n",
    "    na_rep='-999',\n",
    "    justify='right')\n",
    "with open('suews_sample.txt','w') as file_out:\n",
    "    print(str_out,file=file_out)"
   ]
  }
 ],
 "metadata": {
  "celltoolbar": "Raw Cell Format",
  "file_extension": ".py",
  "hide_input": false,
  "kernelspec": {
   "display_name": "Python 3",
   "language": "python",
   "name": "python3"
  },
  "language_info": {
   "codemirror_mode": {
    "name": "ipython",
    "version": 3
   },
   "file_extension": ".py",
   "mimetype": "text/x-python",
   "name": "python",
   "nbconvert_exporter": "python",
   "pygments_lexer": "ipython3",
   "version": "3.7.1"
  },
  "mimetype": "text/x-python",
  "name": "python",
  "npconvert_exporter": "python",
  "pygments_lexer": "ipython3",
  "toc": {
   "base_numbering": 1,
   "nav_menu": {},
   "number_sections": true,
   "sideBar": true,
   "skip_h1_title": true,
   "title_cell": "Table of Contents",
   "title_sidebar": "Contents",
   "toc_cell": false,
   "toc_position": {},
   "toc_section_display": true,
   "toc_window_display": true
  },
  "varInspector": {
   "cols": {
    "lenName": 16,
    "lenType": 16,
    "lenVar": 40
   },
   "kernels_config": {
    "python": {
     "delete_cmd_postfix": "",
     "delete_cmd_prefix": "del ",
     "library": "var_list.py",
     "varRefreshCmd": "print(var_dic_list())"
    },
    "r": {
     "delete_cmd_postfix": ") ",
     "delete_cmd_prefix": "rm(",
     "library": "var_list.r",
     "varRefreshCmd": "cat(var_dic_list()) "
    }
   },
   "types_to_exclude": [
    "module",
    "function",
    "builtin_function_or_method",
    "instance",
    "_Feature"
   ],
   "window_display": false
  },
  "version": 3
 },
 "nbformat": 4,
 "nbformat_minor": 2
}
