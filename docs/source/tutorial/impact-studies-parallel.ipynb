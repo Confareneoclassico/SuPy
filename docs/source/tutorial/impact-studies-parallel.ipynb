{
 "cells": [
  {
   "cell_type": "raw",
   "metadata": {
    "raw_mimetype": "text/restructuredtext"
   },
   "source": [
    ".. _impact_studies:"
   ]
  },
  {
   "cell_type": "markdown",
   "metadata": {},
   "source": [
    "# Impact Studies Using SuPy in a Parallel Mode"
   ]
  },
  {
   "cell_type": "markdown",
   "metadata": {},
   "source": [
    "## Aim"
   ]
  },
  {
   "cell_type": "markdown",
   "metadata": {},
   "source": [
    "In this tutorial, we aim to perform sensitivity analysis using `supy` to investigate the impacts on urban climate of \n",
    "\n",
    "1. surface properties: the physical attributes of land covers (e.g., albedo, water holding capacity, etc.)\n",
    "2. background climate: longterm meteorological conditions (e.g., air temperature, precipitation, etc.)\n",
    "\n"
   ]
  },
  {
   "cell_type": "markdown",
   "metadata": {},
   "source": [
    "## load `supy` and sample dataset"
   ]
  },
  {
   "cell_type": "code",
   "execution_count": 1,
   "metadata": {
    "ExecuteTime": {
     "end_time": "2019-01-01T00:23:49.030675Z",
     "start_time": "2019-01-01T00:23:48.418712Z"
    }
   },
   "outputs": [
    {
     "data": {
      "text/plain": [
       "'2018.12.31'"
      ]
     },
     "execution_count": 1,
     "metadata": {},
     "output_type": "execute_result"
    }
   ],
   "source": [
    "import supy as sp\n",
    "import pandas as pd\n",
    "import numpy as np\n",
    "import matplotlib.pyplot as plt\n",
    "import matplotlib.dates as mdates\n",
    "import seaborn as sns\n",
    "%matplotlib inline\n",
    "sp.__version__"
   ]
  },
  {
   "cell_type": "code",
   "execution_count": 2,
   "metadata": {
    "ExecuteTime": {
     "end_time": "2019-01-01T00:23:52.269523Z",
     "start_time": "2019-01-01T00:23:49.032361Z"
    }
   },
   "outputs": [],
   "source": [
    "df_state_init, df_met_forcing = sp.load_SampleData()"
   ]
  },
  {
   "cell_type": "code",
   "execution_count": 3,
   "metadata": {
    "ExecuteTime": {
     "end_time": "2019-01-01T00:24:46.658737Z",
     "start_time": "2019-01-01T00:23:52.271350Z"
    }
   },
   "outputs": [
    {
     "name": "stdout",
     "output_type": "stream",
     "text": [
      "CPU times: user 49.9 s, sys: 4.33 s, total: 54.2 s\n",
      "Wall time: 54.4 s\n"
     ]
    }
   ],
   "source": [
    "%%time\n",
    "df_output_x, df_state_final = sp.run_supy(df_met_forcing, df_state_init)"
   ]
  },
  {
   "cell_type": "markdown",
   "metadata": {},
   "source": [
    "## surface properties"
   ]
  },
  {
   "cell_type": "markdown",
   "metadata": {},
   "source": [
    "### surface albedo"
   ]
  },
  {
   "cell_type": "markdown",
   "metadata": {
    "heading_collapsed": true
   },
   "source": [
    "#### 1. Let's examine the default albedo values loaded from the sample dataset"
   ]
  },
  {
   "cell_type": "code",
   "execution_count": 4,
   "metadata": {
    "ExecuteTime": {
     "end_time": "2019-01-01T00:24:46.672429Z",
     "start_time": "2019-01-01T00:24:46.660778Z"
    },
    "hidden": true,
    "scrolled": false
   },
   "outputs": [
    {
     "data": {
      "text/html": [
       "<div>\n",
       "<style scoped>\n",
       "    .dataframe tbody tr th:only-of-type {\n",
       "        vertical-align: middle;\n",
       "    }\n",
       "\n",
       "    .dataframe tbody tr th {\n",
       "        vertical-align: top;\n",
       "    }\n",
       "\n",
       "    .dataframe thead th {\n",
       "        text-align: right;\n",
       "    }\n",
       "</style>\n",
       "<table border=\"1\" class=\"dataframe\">\n",
       "  <thead>\n",
       "    <tr style=\"text-align: right;\">\n",
       "      <th>ind_dim</th>\n",
       "      <th>(0,)</th>\n",
       "      <th>(1,)</th>\n",
       "      <th>(2,)</th>\n",
       "      <th>(3,)</th>\n",
       "      <th>(4,)</th>\n",
       "      <th>(5,)</th>\n",
       "      <th>(6,)</th>\n",
       "    </tr>\n",
       "    <tr>\n",
       "      <th>grid</th>\n",
       "      <th></th>\n",
       "      <th></th>\n",
       "      <th></th>\n",
       "      <th></th>\n",
       "      <th></th>\n",
       "      <th></th>\n",
       "      <th></th>\n",
       "    </tr>\n",
       "  </thead>\n",
       "  <tbody>\n",
       "    <tr>\n",
       "      <th>1</th>\n",
       "      <td>0.12</td>\n",
       "      <td>0.15</td>\n",
       "      <td>0.12</td>\n",
       "      <td>0.18</td>\n",
       "      <td>0.21</td>\n",
       "      <td>0.21</td>\n",
       "      <td>0.1</td>\n",
       "    </tr>\n",
       "  </tbody>\n",
       "</table>\n",
       "</div>"
      ],
      "text/plain": [
       "ind_dim  (0,)  (1,)  (2,)  (3,)  (4,)  (5,)  (6,)\n",
       "grid                                             \n",
       "1        0.12  0.15  0.12  0.18  0.21  0.21   0.1"
      ]
     },
     "execution_count": 4,
     "metadata": {},
     "output_type": "execute_result"
    }
   ],
   "source": [
    "df_state_init.alb"
   ]
  },
  {
   "cell_type": "markdown",
   "metadata": {
    "heading_collapsed": true
   },
   "source": [
    "#### 2. Copy the initial condition `DataFrame`  to have a *clean slate* for our study\n",
    "\n",
    "*Note: `DataFrame.copy()` defaults to `deepcopy`*"
   ]
  },
  {
   "cell_type": "code",
   "execution_count": 5,
   "metadata": {
    "ExecuteTime": {
     "end_time": "2019-01-01T00:24:46.677094Z",
     "start_time": "2019-01-01T00:24:46.674418Z"
    },
    "hidden": true
   },
   "outputs": [],
   "source": [
    "df_state_init_test=df_state_init.copy()"
   ]
  },
  {
   "cell_type": "markdown",
   "metadata": {
    "heading_collapsed": true
   },
   "source": [
    "#### 3. Set the `buldings` land cover to 100% for this study"
   ]
  },
  {
   "cell_type": "code",
   "execution_count": 6,
   "metadata": {
    "ExecuteTime": {
     "end_time": "2019-01-01T00:24:46.691828Z",
     "start_time": "2019-01-01T00:24:46.678925Z"
    },
    "hidden": true
   },
   "outputs": [
    {
     "data": {
      "text/html": [
       "<div>\n",
       "<style scoped>\n",
       "    .dataframe tbody tr th:only-of-type {\n",
       "        vertical-align: middle;\n",
       "    }\n",
       "\n",
       "    .dataframe tbody tr th {\n",
       "        vertical-align: top;\n",
       "    }\n",
       "\n",
       "    .dataframe thead th {\n",
       "        text-align: right;\n",
       "    }\n",
       "</style>\n",
       "<table border=\"1\" class=\"dataframe\">\n",
       "  <thead>\n",
       "    <tr style=\"text-align: right;\">\n",
       "      <th>ind_dim</th>\n",
       "      <th>(0,)</th>\n",
       "      <th>(1,)</th>\n",
       "      <th>(2,)</th>\n",
       "      <th>(3,)</th>\n",
       "      <th>(4,)</th>\n",
       "      <th>(5,)</th>\n",
       "      <th>(6,)</th>\n",
       "    </tr>\n",
       "    <tr>\n",
       "      <th>grid</th>\n",
       "      <th></th>\n",
       "      <th></th>\n",
       "      <th></th>\n",
       "      <th></th>\n",
       "      <th></th>\n",
       "      <th></th>\n",
       "      <th></th>\n",
       "    </tr>\n",
       "  </thead>\n",
       "  <tbody>\n",
       "    <tr>\n",
       "      <th>1</th>\n",
       "      <td>0</td>\n",
       "      <td>1</td>\n",
       "      <td>0</td>\n",
       "      <td>0</td>\n",
       "      <td>0</td>\n",
       "      <td>0</td>\n",
       "      <td>0</td>\n",
       "    </tr>\n",
       "  </tbody>\n",
       "</table>\n",
       "</div>"
      ],
      "text/plain": [
       "ind_dim  (0,)  (1,)  (2,)  (3,)  (4,)  (5,)  (6,)\n",
       "grid                                             \n",
       "1           0     1     0     0     0     0     0"
      ]
     },
     "execution_count": 6,
     "metadata": {},
     "output_type": "execute_result"
    }
   ],
   "source": [
    "df_state_init_test.sfr=0\n",
    "df_state_init_test.loc[:,('sfr','(1,)')]=1\n",
    "df_state_init_test.sfr"
   ]
  },
  {
   "cell_type": "markdown",
   "metadata": {
    "heading_collapsed": true
   },
   "source": [
    "#### 4. Construct a `test_alb` function to perform `supy` simulation with specified albedo"
   ]
  },
  {
   "cell_type": "code",
   "execution_count": 7,
   "metadata": {
    "ExecuteTime": {
     "end_time": "2019-01-01T00:24:46.697075Z",
     "start_time": "2019-01-01T00:24:46.693528Z"
    },
    "hidden": true
   },
   "outputs": [],
   "source": [
    "def test_alb(alb_test):\n",
    "    # copy defaul initial condition\n",
    "    df_state_init_x = df_state_init_test.copy()\n",
    "    # set albedo with test value\n",
    "    df_state_init_x.loc[:, ('alb', '(1,)')] = alb_test\n",
    "    # select forcing as July of 2012\n",
    "    df_forcing_part = df_met_forcing.loc['2012 07']\n",
    "    # conduct simulations\n",
    "    df_output, df_state_end = sp.run_supy(\n",
    "        df_forcing_part,\n",
    "        df_state_init_x)\n",
    "    return df_output.loc[1, 'SUEWS']"
   ]
  },
  {
   "cell_type": "markdown",
   "metadata": {
    "heading_collapsed": true
   },
   "source": [
    "#### 5. Construct `list_alb_test` with albedo values to test "
   ]
  },
  {
   "cell_type": "code",
   "execution_count": 8,
   "metadata": {
    "ExecuteTime": {
     "end_time": "2019-01-01T00:24:46.701769Z",
     "start_time": "2019-01-01T00:24:46.699330Z"
    },
    "hidden": true
   },
   "outputs": [],
   "source": [
    "list_alb_test=np.linspace(0.1,0.8,15).round(2)"
   ]
  },
  {
   "cell_type": "markdown",
   "metadata": {
    "heading_collapsed": true
   },
   "source": [
    "#### 6. Conduct simulations with `supy`"
   ]
  },
  {
   "cell_type": "code",
   "execution_count": 9,
   "metadata": {
    "ExecuteTime": {
     "end_time": "2019-01-01T00:25:42.599850Z",
     "start_time": "2019-01-01T00:24:46.703662Z"
    },
    "hidden": true
   },
   "outputs": [],
   "source": [
    "res_alb_test={alb_test:test_alb(alb_test) for alb_test in list_alb_test}\n",
    "df_res_alb_test=pd.concat({alb:res_alb_test[alb] for alb in list_alb_test},names=['albedo']).unstack(0)"
   ]
  },
  {
   "cell_type": "markdown",
   "metadata": {},
   "source": [
    "#### 7. Examine the results"
   ]
  },
  {
   "cell_type": "code",
   "execution_count": 10,
   "metadata": {
    "ExecuteTime": {
     "end_time": "2019-01-01T00:25:42.968608Z",
     "start_time": "2019-01-01T00:25:42.601797Z"
    },
    "scrolled": true
   },
   "outputs": [
    {
     "data": {
      "image/png": "[encoded data removed]",
      "text/plain": [
       "<Figure size 432x288 with 1 Axes>"
      ]
     },
     "metadata": {},
     "output_type": "display_data"
    }
   ],
   "source": [
    "ax_T2max=df_res_alb_test.T2.describe().loc['max'].rename('T2max').plot(ylim=(29,31.5),color='tab:blue')\n",
    "ax_T2max.set_ylabel('T2$\\mathrm{_{max}}$ ($^\\circ$C)');"
   ]
  },
  {
   "cell_type": "code",
   "execution_count": 11,
   "metadata": {
    "ExecuteTime": {
     "end_time": "2019-01-01T00:25:43.355554Z",
     "start_time": "2019-01-01T00:25:42.970644Z"
    }
   },
   "outputs": [
    {
     "data": {
      "image/png": "[encoded data removed]",
      "text/plain": [
       "<Figure size 432x288 with 1 Axes>"
      ]
     },
     "metadata": {},
     "output_type": "display_data"
    }
   ],
   "source": [
    "fig_T2,ax_T2=sp.plot_day_clm(df_res_alb_test.T2.loc['2012 7'].iloc[:,1:-1:3])\n",
    "ax_T2.set_ylabel('T2 ($^\\circ$C)');\n",
    "ax_T2.set_xlabel('Local Time (hh:mm)');\n",
    "ax_T2.legend(title='albedo');"
   ]
  },
  {
   "cell_type": "markdown",
   "metadata": {},
   "source": [
    "### soil water holding capacity"
   ]
  },
  {
   "cell_type": "markdown",
   "metadata": {
    "heading_collapsed": true
   },
   "source": [
    "#### Let's examine the default `soilstorecap` related values loaded from the sample dataset"
   ]
  },
  {
   "cell_type": "code",
   "execution_count": 12,
   "metadata": {
    "ExecuteTime": {
     "end_time": "2019-01-01T00:25:43.372063Z",
     "start_time": "2019-01-01T00:25:43.357630Z"
    },
    "hidden": true
   },
   "outputs": [
    {
     "data": {
      "text/html": [
       "<div>\n",
       "<style scoped>\n",
       "    .dataframe tbody tr th:only-of-type {\n",
       "        vertical-align: middle;\n",
       "    }\n",
       "\n",
       "    .dataframe tbody tr th {\n",
       "        vertical-align: top;\n",
       "    }\n",
       "\n",
       "    .dataframe thead tr th {\n",
       "        text-align: left;\n",
       "    }\n",
       "\n",
       "    .dataframe thead tr:last-of-type th {\n",
       "        text-align: right;\n",
       "    }\n",
       "</style>\n",
       "<table border=\"1\" class=\"dataframe\">\n",
       "  <thead>\n",
       "    <tr>\n",
       "      <th>var</th>\n",
       "      <th colspan=\"7\" halign=\"left\">soilstorecap</th>\n",
       "    </tr>\n",
       "    <tr>\n",
       "      <th>ind_dim</th>\n",
       "      <th>(0,)</th>\n",
       "      <th>(1,)</th>\n",
       "      <th>(2,)</th>\n",
       "      <th>(3,)</th>\n",
       "      <th>(4,)</th>\n",
       "      <th>(5,)</th>\n",
       "      <th>(6,)</th>\n",
       "    </tr>\n",
       "    <tr>\n",
       "      <th>grid</th>\n",
       "      <th></th>\n",
       "      <th></th>\n",
       "      <th></th>\n",
       "      <th></th>\n",
       "      <th></th>\n",
       "      <th></th>\n",
       "      <th></th>\n",
       "    </tr>\n",
       "  </thead>\n",
       "  <tbody>\n",
       "    <tr>\n",
       "      <th>1</th>\n",
       "      <td>150.0</td>\n",
       "      <td>150.0</td>\n",
       "      <td>150.0</td>\n",
       "      <td>150.0</td>\n",
       "      <td>150.0</td>\n",
       "      <td>150.0</td>\n",
       "      <td>0.0</td>\n",
       "    </tr>\n",
       "  </tbody>\n",
       "</table>\n",
       "</div>"
      ],
      "text/plain": [
       "var     soilstorecap                                        \n",
       "ind_dim         (0,)   (1,)   (2,)   (3,)   (4,)   (5,) (6,)\n",
       "grid                                                        \n",
       "1              150.0  150.0  150.0  150.0  150.0  150.0  0.0"
      ]
     },
     "execution_count": 12,
     "metadata": {},
     "output_type": "execute_result"
    }
   ],
   "source": [
    "df_state_init.filter(like='soilstorecap')"
   ]
  },
  {
   "cell_type": "code",
   "execution_count": 13,
   "metadata": {
    "ExecuteTime": {
     "end_time": "2019-01-01T00:25:43.384287Z",
     "start_time": "2019-01-01T00:25:43.374131Z"
    },
    "hidden": true,
    "scrolled": true
   },
   "outputs": [
    {
     "data": {
      "text/html": [
       "<div>\n",
       "<style scoped>\n",
       "    .dataframe tbody tr th:only-of-type {\n",
       "        vertical-align: middle;\n",
       "    }\n",
       "\n",
       "    .dataframe tbody tr th {\n",
       "        vertical-align: top;\n",
       "    }\n",
       "\n",
       "    .dataframe thead tr th {\n",
       "        text-align: left;\n",
       "    }\n",
       "\n",
       "    .dataframe thead tr:last-of-type th {\n",
       "        text-align: right;\n",
       "    }\n",
       "</style>\n",
       "<table border=\"1\" class=\"dataframe\">\n",
       "  <thead>\n",
       "    <tr>\n",
       "      <th>grid</th>\n",
       "    </tr>\n",
       "  </thead>\n",
       "  <tbody>\n",
       "    <tr>\n",
       "      <th>1</th>\n",
       "    </tr>\n",
       "  </tbody>\n",
       "</table>\n",
       "</div>"
      ],
      "text/plain": [
       "Empty DataFrame\n",
       "Columns: []\n",
       "Index: [1]"
      ]
     },
     "execution_count": 13,
     "metadata": {},
     "output_type": "execute_result"
    }
   ],
   "source": [
    "df_state_init.filter(like='state').filter(like='soilstore')"
   ]
  },
  {
   "cell_type": "markdown",
   "metadata": {
    "hidden": true
   },
   "source": [
    "We can see all the soil stores are saturated at the beginning."
   ]
  },
  {
   "cell_type": "markdown",
   "metadata": {
    "heading_collapsed": true
   },
   "source": [
    "#### Copy the initial condition `DataFrame`  to have a *clean slate* for our study\n",
    "\n",
    "*Note: `DataFrame.copy()` defaults to `deepcopy`*"
   ]
  },
  {
   "cell_type": "code",
   "execution_count": 14,
   "metadata": {
    "ExecuteTime": {
     "end_time": "2019-01-01T00:25:43.389815Z",
     "start_time": "2019-01-01T00:25:43.386834Z"
    },
    "hidden": true
   },
   "outputs": [],
   "source": [
    "df_state_init_test=df_state_init.copy()"
   ]
  },
  {
   "cell_type": "markdown",
   "metadata": {
    "heading_collapsed": true
   },
   "source": [
    "#### Set equal cover fractions for this study"
   ]
  },
  {
   "cell_type": "code",
   "execution_count": 15,
   "metadata": {
    "ExecuteTime": {
     "end_time": "2019-01-01T00:25:43.401991Z",
     "start_time": "2019-01-01T00:25:43.391534Z"
    },
    "hidden": true
   },
   "outputs": [
    {
     "data": {
      "text/html": [
       "<div>\n",
       "<style scoped>\n",
       "    .dataframe tbody tr th:only-of-type {\n",
       "        vertical-align: middle;\n",
       "    }\n",
       "\n",
       "    .dataframe tbody tr th {\n",
       "        vertical-align: top;\n",
       "    }\n",
       "\n",
       "    .dataframe thead th {\n",
       "        text-align: right;\n",
       "    }\n",
       "</style>\n",
       "<table border=\"1\" class=\"dataframe\">\n",
       "  <thead>\n",
       "    <tr style=\"text-align: right;\">\n",
       "      <th>ind_dim</th>\n",
       "      <th>(0,)</th>\n",
       "      <th>(1,)</th>\n",
       "      <th>(2,)</th>\n",
       "      <th>(3,)</th>\n",
       "      <th>(4,)</th>\n",
       "      <th>(5,)</th>\n",
       "      <th>(6,)</th>\n",
       "    </tr>\n",
       "    <tr>\n",
       "      <th>grid</th>\n",
       "      <th></th>\n",
       "      <th></th>\n",
       "      <th></th>\n",
       "      <th></th>\n",
       "      <th></th>\n",
       "      <th></th>\n",
       "      <th></th>\n",
       "    </tr>\n",
       "  </thead>\n",
       "  <tbody>\n",
       "    <tr>\n",
       "      <th>1</th>\n",
       "      <td>0.142857</td>\n",
       "      <td>0.142857</td>\n",
       "      <td>0.142857</td>\n",
       "      <td>0.142857</td>\n",
       "      <td>0.142857</td>\n",
       "      <td>0.142857</td>\n",
       "      <td>0.142857</td>\n",
       "    </tr>\n",
       "  </tbody>\n",
       "</table>\n",
       "</div>"
      ],
      "text/plain": [
       "ind_dim      (0,)      (1,)      (2,)      (3,)      (4,)      (5,)      (6,)\n",
       "grid                                                                         \n",
       "1        0.142857  0.142857  0.142857  0.142857  0.142857  0.142857  0.142857"
      ]
     },
     "execution_count": 15,
     "metadata": {},
     "output_type": "execute_result"
    }
   ],
   "source": [
    "df_state_init_test.sfr=1/df_state_init_test.sfr.size\n",
    "df_state_init_test.sfr"
   ]
  },
  {
   "cell_type": "markdown",
   "metadata": {
    "heading_collapsed": true
   },
   "source": [
    "#### Construct a `test_soilstorecap` function to perform `supy` simulation with specified `soilstorecap`"
   ]
  },
  {
   "cell_type": "code",
   "execution_count": 16,
   "metadata": {
    "ExecuteTime": {
     "end_time": "2019-01-01T00:25:43.406058Z",
     "start_time": "2019-01-01T00:25:43.403447Z"
    },
    "hidden": true
   },
   "outputs": [],
   "source": [
    "def test_soilstorecap(soilstorecap_test):\n",
    "    # copy defaul initial condition\n",
    "    df_state_init_x = df_state_init_test.copy()\n",
    "    # set albedo with test value\n",
    "    df_state_init_x.loc[:, 'soilstorecap'] = soilstorecap_test\n",
    "    # select forcing as July of 2012\n",
    "    df_forcing_part = df_met_forcing.loc['2012 07']\n",
    "    df_output, df_state_end = sp.run_supy(\n",
    "        df_forcing_part,\n",
    "        df_state_init_x)\n",
    "    return df_output.loc[1, 'SUEWS']"
   ]
  },
  {
   "cell_type": "markdown",
   "metadata": {},
   "source": [
    "#### Construct `list_soilstorecap_test` with store capacity values to test "
   ]
  },
  {
   "cell_type": "code",
   "execution_count": 17,
   "metadata": {
    "ExecuteTime": {
     "end_time": "2019-01-01T00:25:43.409981Z",
     "start_time": "2019-01-01T00:25:43.407621Z"
    }
   },
   "outputs": [],
   "source": [
    "list_soilstorecap_test=np.arange(10,20,1)"
   ]
  },
  {
   "cell_type": "markdown",
   "metadata": {},
   "source": [
    "#### Conduct simulations with `supy`"
   ]
  },
  {
   "cell_type": "code",
   "execution_count": 18,
   "metadata": {
    "ExecuteTime": {
     "end_time": "2019-01-01T00:26:22.533082Z",
     "start_time": "2019-01-01T00:25:43.411521Z"
    }
   },
   "outputs": [],
   "source": [
    "res_soilstorecap_test = {\n",
    "    soilstorecap_test: test_soilstorecap(soilstorecap_test)\n",
    "    for soilstorecap_test in list_soilstorecap_test}\n",
    "df_res_soilstorecap_test = pd.concat(\n",
    "    {soilstorecap_test: res_soilstorecap_test[soilstorecap_test]\n",
    "     for soilstorecap_test in list_soilstorecap_test},\n",
    "    names=['soilstorecap']).unstack(0)"
   ]
  },
  {
   "cell_type": "markdown",
   "metadata": {},
   "source": [
    "#### Examine the results"
   ]
  },
  {
   "cell_type": "code",
   "execution_count": 19,
   "metadata": {
    "ExecuteTime": {
     "end_time": "2019-01-01T00:26:24.654261Z",
     "start_time": "2019-01-01T00:26:22.535025Z"
    },
    "scrolled": true
   },
   "outputs": [
    {
     "data": {
      "image/png": "[encoded data removed]",
      "text/plain": [
       "<Figure size 432x288 with 1 Axes>"
      ]
     },
     "metadata": {},
     "output_type": "display_data"
    }
   ],
   "source": [
    "df_res_soilstorecap_test_stat=df_res_soilstorecap_test.describe()\n",
    "ax_t2m=df_res_soilstorecap_test_stat.loc['max','T2'].plot.bar()\n",
    "ax_t2m.set_ylabel('T2 ($^\\circ$C)');\n",
    "ax_t2m.set_xlabel('Soil Store Capacity (mm)');"
   ]
  },
  {
   "cell_type": "code",
   "execution_count": 20,
   "metadata": {
    "ExecuteTime": {
     "end_time": "2019-01-01T00:26:24.790533Z",
     "start_time": "2019-01-01T00:26:24.656542Z"
    }
   },
   "outputs": [
    {
     "data": {
      "image/png": "[encoded data removed]",
      "text/plain": [
       "<Figure size 432x288 with 1 Axes>"
      ]
     },
     "metadata": {},
     "output_type": "display_data"
    }
   ],
   "source": [
    "ax_RO=df_res_soilstorecap_test.RO.sum().plot()\n",
    "ax_RO.set_ylabel('Runoff (mm)');\n",
    "ax_RO.set_xlabel('Soil Store Capacity (mm)');"
   ]
  },
  {
   "cell_type": "code",
   "execution_count": 21,
   "metadata": {
    "ExecuteTime": {
     "end_time": "2019-01-01T00:26:26.832940Z",
     "start_time": "2019-01-01T00:26:24.792310Z"
    }
   },
   "outputs": [
    {
     "data": {
      "image/png": "[encoded data removed]",
      "text/plain": [
       "<Figure size 432x288 with 1 Axes>"
      ]
     },
     "metadata": {},
     "output_type": "display_data"
    }
   ],
   "source": [
    "ax_flux=df_res_soilstorecap_test.describe().loc['mean'].unstack(0).loc[:,['QE','QH']].plot.area(sort_columns=True)\n",
    "ax_flux.set_ylabel('Flux ($ \\mathrm{W \\ m^{-2}}$)');"
   ]
  },
  {
   "cell_type": "markdown",
   "metadata": {},
   "source": [
    "## background climate"
   ]
  },
  {
   "cell_type": "markdown",
   "metadata": {},
   "source": [
    "### air temperature"
   ]
  },
  {
   "cell_type": "markdown",
   "metadata": {},
   "source": [
    "#### 1. Let's examine the monthly climatology of air temperature loaded from the sample dataset"
   ]
  },
  {
   "cell_type": "code",
   "execution_count": 24,
   "metadata": {
    "ExecuteTime": {
     "end_time": "2019-01-01T00:28:01.029580Z",
     "start_time": "2019-01-01T00:28:00.846731Z"
    }
   },
   "outputs": [
    {
     "data": {
      "image/png": "[encoded data removed]",
      "text/plain": [
       "<Figure size 432x288 with 1 Axes>"
      ]
     },
     "metadata": {},
     "output_type": "display_data"
    }
   ],
   "source": [
    "df_plot=df_met_forcing.Tair.iloc[:-1].resample('1m').mean()\n",
    "ax_temp=df_plot.plot.bar(color='tab:blue')\n",
    "ax_temp.set_xticklabels(df_plot.index.strftime('%b'));\n",
    "ax_temp.set_ylabel('Mean Temperature ($^\\circ$C)');\n",
    "ax_temp.set_xlabel('Month');"
   ]
  },
  {
   "cell_type": "markdown",
   "metadata": {},
   "source": [
    "#### 2. Construct a `test_airtemp` function to perform `supy` simulation with specified `diff_airtemp_test`\n",
    "\n",
    "`diff_airtemp_test` is the difference in air temperature between the one used in simulation and loaded from sample dataset."
   ]
  },
  {
   "cell_type": "code",
   "execution_count": 28,
   "metadata": {
    "ExecuteTime": {
     "end_time": "2019-01-01T00:28:56.842887Z",
     "start_time": "2019-01-01T00:28:56.838983Z"
    }
   },
   "outputs": [],
   "source": [
    "def test_airtemp(diff_airtemp_test):\n",
    "    # copy defaul initial and met forcing conditions to have a clean slate\n",
    "    df_forcing_part_test=df_met_forcing.loc['2012 7'].copy()\n",
    "    df_state_init_test=df_state_init.copy()\n",
    "    # set air temp with test value\n",
    "    df_forcing_part_test.loc[:, 'Tair'] += diff_airtemp_test\n",
    "    df_output, df_state_end = sp.run_supy(\n",
    "        df_forcing_part_test,\n",
    "        df_state_init_test)\n",
    "    df_res = df_output.loc[1, 'SUEWS']\n",
    "    return df_res"
   ]
  },
  {
   "cell_type": "markdown",
   "metadata": {},
   "source": [
    "#### 3. Construct `list_airtemp_test` to test and perform simulations with `supy`"
   ]
  },
  {
   "cell_type": "code",
   "execution_count": 29,
   "metadata": {
    "ExecuteTime": {
     "end_time": "2019-01-01T00:29:33.763486Z",
     "start_time": "2019-01-01T00:28:58.008380Z"
    }
   },
   "outputs": [],
   "source": [
    "list_airtemp_test = np.arange(0.2, 2., 0.2).round(2)\n",
    "df_airtemp_test = pd.concat({\n",
    "    diff_airtemp_test: test_airtemp(diff_airtemp_test)\n",
    "    for diff_airtemp_test in list_airtemp_test}, names=['Tair']).unstack(0)"
   ]
  },
  {
   "cell_type": "markdown",
   "metadata": {},
   "source": [
    "#### 4. Examine the results"
   ]
  },
  {
   "cell_type": "code",
   "execution_count": null,
   "metadata": {
    "ExecuteTime": {
     "end_time": "2019-01-01T00:29:33.782813Z",
     "start_time": "2019-01-01T00:29:01.063Z"
    }
   },
   "outputs": [],
   "source": [
    "df_airtemp_test.T2.describe().loc[['max', 'mean', ]].T.plot(\n",
    "    secondary_y=['max'], mark_right=False)"
   ]
  },
  {
   "cell_type": "code",
   "execution_count": null,
   "metadata": {
    "ExecuteTime": {
     "end_time": "2019-01-01T00:29:33.795616Z",
     "start_time": "2019-01-01T00:29:01.485Z"
    }
   },
   "outputs": [],
   "source": [
    "df_airtemp_test.QE.describe().loc[['max', 'mean', ]].T.plot(\n",
    "    secondary_y=['max'], mark_right=False)"
   ]
  },
  {
   "cell_type": "code",
   "execution_count": null,
   "metadata": {
    "ExecuteTime": {
     "end_time": "2019-01-01T00:29:33.805619Z",
     "start_time": "2019-01-01T00:29:02.100Z"
    }
   },
   "outputs": [],
   "source": [
    "df_flux =df_airtemp_test.loc[:, ['QH', 'QE']]\\\n",
    "    .describe().loc[['max', 'mean', ]]\\\n",
    "    .stack(1).unstack(0).swaplevel(1, 0, axis=1).loc[:, 'mean']\n",
    "ax_flux = df_flux.plot(secondary_y='QE')\n",
    "ax_flux.set_ylabel('Flux ($ \\mathrm{W \\ m^{-2}}$)');\n",
    "ax_flux.set_xlabel('$\\Delta T$ ($^{\\circ}}$C)');"
   ]
  },
  {
   "cell_type": "markdown",
   "metadata": {},
   "source": [
    "### precipitation"
   ]
  },
  {
   "cell_type": "markdown",
   "metadata": {},
   "source": [
    "#### 1. Let's examine the charaterisitcs of precipitation loaded from the sample dataset"
   ]
  },
  {
   "cell_type": "markdown",
   "metadata": {},
   "source": [
    "Monthly total precipitation:"
   ]
  },
  {
   "cell_type": "code",
   "execution_count": null,
   "metadata": {
    "ExecuteTime": {
     "end_time": "2019-01-01T00:26:26.964144Z",
     "start_time": "2019-01-01T00:23:49.015Z"
    }
   },
   "outputs": [],
   "source": [
    "df_plot = df_met_forcing.precip.iloc[:-1].resample('1m').sum()\n",
    "ax_precip = df_plot.plot.bar(color='tab:blue')\n",
    "ax_precip.set_xticklabels(df_plot.index.strftime('%b'))\n",
    "ax_precip.set_xlabel('Month')\n",
    "ax_precip.set_ylabel('Precipitation (mm)');"
   ]
  },
  {
   "cell_type": "markdown",
   "metadata": {},
   "source": [
    "Daily total precipitation of July 2012:"
   ]
  },
  {
   "cell_type": "code",
   "execution_count": null,
   "metadata": {
    "ExecuteTime": {
     "end_time": "2019-01-01T00:26:26.964740Z",
     "start_time": "2019-01-01T00:23:49.017Z"
    }
   },
   "outputs": [],
   "source": [
    "df_plot=df_met_forcing.precip.loc['2012 7'].resample('1d').sum()\n",
    "ax_precip=df_plot.plot.bar(color='tab:blue',figsize=(10,4))\n",
    "ax_precip.set_xticklabels(df_plot.index.strftime('%d'), rotation=0);"
   ]
  },
  {
   "cell_type": "markdown",
   "metadata": {},
   "source": [
    "Look into a 3-hour period of 2012-Jul-8:"
   ]
  },
  {
   "cell_type": "code",
   "execution_count": null,
   "metadata": {
    "ExecuteTime": {
     "end_time": "2019-01-01T00:26:26.965975Z",
     "start_time": "2019-01-01T00:23:49.019Z"
    }
   },
   "outputs": [],
   "source": [
    "ser_plot=df_met_forcing.precip.loc['2012 7 8 0205':'2012 7 8 05']\n",
    "ax_precip=ser_plot.plot.bar(color='tab:blue',figsize=(18,4))\n",
    "ax_precip.set_xticklabels(ser_plot.index.strftime('%H:%M'), rotation=90);"
   ]
  },
  {
   "cell_type": "markdown",
   "metadata": {
    "heading_collapsed": true
   },
   "source": [
    "#### 2. Construct `redist_precip` to randomly redistribute precipiation within the input period"
   ]
  },
  {
   "cell_type": "code",
   "execution_count": null,
   "metadata": {
    "ExecuteTime": {
     "end_time": "2019-01-01T00:26:26.966577Z",
     "start_time": "2019-01-01T00:23:49.021Z"
    },
    "hidden": true
   },
   "outputs": [],
   "source": [
    "def redist_precip(ser_precip, n):\n",
    "    # keep the original data by .copy()\n",
    "    ser_precip_redist = ser_precip.copy()\n",
    "    # get series length\n",
    "    len_ser = ser_precip_redist.size\n",
    "    # generate a series with n random values and others filled as zeros\n",
    "    n_sample = np.pad(np.random.rand(n), (0, len_ser), 'constant',\n",
    "                      constant_values=(0))[:len_ser]\n",
    "    # normalise `ser_precip_redist` with according to `n_sample`\n",
    "    ser_precip_redist = ser_precip_redist.sum()*n_sample/n_sample.sum()\n",
    "    # reshuffle for random locations    \n",
    "    np.random.shuffle(ser_precip_redist)\n",
    "    return ser_precip_redist"
   ]
  },
  {
   "cell_type": "markdown",
   "metadata": {
    "heading_collapsed": true
   },
   "source": [
    "#### 3. Examine the redistributed precipiation in a comparison with the evenly distributed results"
   ]
  },
  {
   "cell_type": "code",
   "execution_count": null,
   "metadata": {
    "ExecuteTime": {
     "end_time": "2019-01-01T00:26:26.967224Z",
     "start_time": "2019-01-01T00:23:49.023Z"
    },
    "hidden": true
   },
   "outputs": [],
   "source": [
    "ser_plot_reshf = ser_plot.copy()\\\n",
    "    .resample('60T', closed='right', label='right')\\\n",
    "    .transform(redist_precip, n=6).rename('precip_reshf')\n",
    "df_precip = pd.concat([ser_plot, ser_plot_reshf], axis=1)\n",
    "ax_precip = df_precip.plot.bar(figsize=(18, 4))\n",
    "ax_precip.set_xticklabels(df_precip.index.strftime('%H:%M'), rotation=90);"
   ]
  },
  {
   "cell_type": "markdown",
   "metadata": {},
   "source": [
    "#### 4. Generate a range of precipitation series of different redistribution patterns"
   ]
  },
  {
   "cell_type": "code",
   "execution_count": null,
   "metadata": {
    "ExecuteTime": {
     "end_time": "2019-01-01T00:26:26.968071Z",
     "start_time": "2019-01-01T00:23:49.025Z"
    }
   },
   "outputs": [],
   "source": [
    "ser_precip_orig = df_met_forcing.precip.loc['2012 7']\n",
    "grp_precip_orig = ser_precip_orig.copy().resample(\n",
    "    '60T', closed='right', label='right')\n",
    "df_precip_reshf = pd.concat(\n",
    "    {n_dist: grp_precip_orig.transform(redist_precip, n=n_dist)\n",
    "     for n_dist in np.arange(1,11)},\n",
    "    axis=1)"
   ]
  },
  {
   "cell_type": "code",
   "execution_count": null,
   "metadata": {
    "ExecuteTime": {
     "end_time": "2019-01-01T00:26:26.969209Z",
     "start_time": "2019-01-01T00:23:49.027Z"
    },
    "scrolled": true
   },
   "outputs": [],
   "source": [
    "ax_precip=df_precip_reshf.loc['2012 7 8 00'].plot.bar(figsize=(18, 4),rot=0)\n",
    "ax_precip.set_xticklabels(df_precip_reshf.index.strftime('%H:%M'), rotation=0);\n",
    "ax_precip.legend(title='number of rainy sections')\n",
    "ax_precip.set_xlabel('Time (hh:mm)');\n",
    "ax_precip.set_ylabel('Precipitation (mm)');"
   ]
  },
  {
   "cell_type": "markdown",
   "metadata": {},
   "source": [
    "#### 5. Construct a `test_precip_n` function to perform `supy` simulation with specified `n_dist`"
   ]
  },
  {
   "cell_type": "code",
   "execution_count": null,
   "metadata": {
    "ExecuteTime": {
     "end_time": "2019-01-01T00:26:26.969779Z",
     "start_time": "2019-01-01T00:23:49.029Z"
    }
   },
   "outputs": [],
   "source": [
    "def test_precip_n(n_dist):\n",
    "    df_met_forcing_test = df_met_forcing.copy()\n",
    "    ser_precip = df_met_forcing_test.precip.copy()\n",
    "    ser_precip = ser_precip.resample('60T', closed='right', label='right')\\\n",
    "        .transform(redist_precip, n=n_dist)\\\n",
    "        .rename('precip_'+str(n_dist))\n",
    "    df_met_forcing_test.loc[:, 'precip'] = ser_precip\n",
    "    df_forcing_part = df_met_forcing_test.loc['2012 07']\n",
    "    df_output, df_state_end = sp.run_supy(\n",
    "        df_forcing_part,\n",
    "        df_state_init)\n",
    "    df_res = df_output.loc[1, 'SUEWS']\n",
    "    return df_res"
   ]
  },
  {
   "cell_type": "markdown",
   "metadata": {},
   "source": [
    "#### 6. Construct `list_precip_test` to test and perform simulations with `supy`"
   ]
  },
  {
   "cell_type": "code",
   "execution_count": null,
   "metadata": {
    "ExecuteTime": {
     "end_time": "2019-01-01T00:26:26.970748Z",
     "start_time": "2019-01-01T00:23:49.031Z"
    }
   },
   "outputs": [],
   "source": [
    "list_precip_test = np.arange(1,10)\n",
    "df_precip_test = pd.concat({\n",
    "    n_dist: test_precip_n(n_dist)\n",
    "    for n_dist in list_precip_test}, names=['precip_n']).unstack(0)"
   ]
  },
  {
   "cell_type": "markdown",
   "metadata": {},
   "source": [
    "#### 7. Examine the results"
   ]
  },
  {
   "cell_type": "code",
   "execution_count": null,
   "metadata": {
    "ExecuteTime": {
     "end_time": "2019-01-01T00:26:26.971485Z",
     "start_time": "2019-01-01T00:23:49.034Z"
    },
    "scrolled": true
   },
   "outputs": [],
   "source": [
    "ax_state=df_precip_test.NWtrState.sum().plot.bar(ylim=(500,720),color='tab:blue',rot=0)\n",
    "ax_state.set_xlabel('Number of rainy sections');\n",
    "ax_state.set_ylabel('Surface wetness (mm)');"
   ]
  },
  {
   "cell_type": "code",
   "execution_count": null,
   "metadata": {
    "ExecuteTime": {
     "end_time": "2019-01-01T00:26:26.972222Z",
     "start_time": "2019-01-01T00:23:49.036Z"
    }
   },
   "outputs": [],
   "source": [
    "ax_QE=df_precip_test.QE.describe().loc['mean'].plot.bar(ylim=(6.5,9.5),color='tab:blue',rot=0)\n",
    "ax_QE.set_xlabel('Number of rainy sections');\n",
    "ax_QE.set_ylabel('$Q_E$ ($ \\mathrm{W \\ m^{-2}}$)');"
   ]
  },
  {
   "cell_type": "code",
   "execution_count": null,
   "metadata": {
    "ExecuteTime": {
     "end_time": "2019-01-01T00:26:26.973198Z",
     "start_time": "2019-01-01T00:23:49.038Z"
    }
   },
   "outputs": [],
   "source": [
    "ax_T2=df_precip_test.T2.describe().loc['mean'].plot.bar(ylim=(17.34,17.365),color='tab:blue',rot=0)\n",
    "ax_T2.set_xlabel('Number of rainy sections');\n",
    "ax_T2.set_ylabel('$T2$ ($^\\circ$C)');"
   ]
  }
 ],
 "metadata": {
  "celltoolbar": "Raw Cell Format",
  "hide_input": false,
  "kernelspec": {
   "display_name": "Python 3",
   "language": "python",
   "name": "python3"
  },
  "language_info": {
   "codemirror_mode": {
    "name": "ipython",
    "version": 3
   },
   "file_extension": ".py",
   "mimetype": "text/x-python",
   "name": "python",
   "nbconvert_exporter": "python",
   "pygments_lexer": "ipython3",
   "version": "3.7.1"
  },
  "toc": {
   "base_numbering": 1,
   "nav_menu": {},
   "number_sections": true,
   "sideBar": true,
   "skip_h1_title": true,
   "title_cell": "Table of Contents",
   "title_sidebar": "Contents",
   "toc_cell": false,
   "toc_position": {},
   "toc_section_display": true,
   "toc_window_display": false
  },
  "varInspector": {
   "cols": {
    "lenName": 16,
    "lenType": 16,
    "lenVar": 40
   },
   "kernels_config": {
    "python": {
     "delete_cmd_postfix": "",
     "delete_cmd_prefix": "del ",
     "library": "var_list.py",
     "varRefreshCmd": "print(var_dic_list())"
    },
    "r": {
     "delete_cmd_postfix": ") ",
     "delete_cmd_prefix": "rm(",
     "library": "var_list.r",
     "varRefreshCmd": "cat(var_dic_list()) "
    }
   },
   "position": {
    "height": "292px",
    "left": "910px",
    "right": "11px",
    "top": "120px",
    "width": "359px"
   },
   "types_to_exclude": [
    "module",
    "function",
    "builtin_function_or_method",
    "instance",
    "_Feature"
   ],
   "window_display": false
  }
 },
 "nbformat": 4,
 "nbformat_minor": 2
}
