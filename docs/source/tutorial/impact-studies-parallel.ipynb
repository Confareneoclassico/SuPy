{
 "cells": [
  {
   "cell_type": "markdown",
   "metadata": {},
   "source": [
    "# Impact Studies Using SuPy"
   ]
  },
  {
   "cell_type": "markdown",
   "metadata": {},
   "source": [
    "## Aim"
   ]
  },
  {
   "cell_type": "markdown",
   "metadata": {},
   "source": [
    "In this tutorial, we aim to perform sensitivity analysis using `supy` in a parallel mode to investigate the impacts on urban climate of\n",
    "\n",
    "1. surface properties: the physical attributes of land covers (e.g., albedo, water holding capacity, etc.)\n",
    "2. background climate: longterm meteorological conditions (e.g., air temperature, precipitation, etc.)\n",
    "\n"
   ]
  },
  {
   "cell_type": "markdown",
   "metadata": {},
   "source": [
    "### load `supy` and sample dataset"
   ]
  },
  {
   "cell_type": "code",
   "execution_count": 17,
   "metadata": {
    "ExecuteTime": {
     "end_time": "2020-05-29T22:40:07.233916Z",
     "start_time": "2020-05-29T22:40:07.231118Z"
    }
   },
   "outputs": [],
   "source": [
    "from dask import dataframe as dd\n",
    "import supy as sp\n",
    "\n",
    "import pandas as pd\n",
    "import numpy as np\n",
    "\n",
    "from time import time\n",
    "\n",
    "\n",
    "# show supy version info\n",
    "# sp.show_version()"
   ]
  },
  {
   "cell_type": "code",
   "execution_count": 2,
   "metadata": {
    "ExecuteTime": {
     "end_time": "2020-05-29T22:35:44.669109Z",
     "start_time": "2020-05-29T22:35:11.808784Z"
    }
   },
   "outputs": [
    {
     "name": "stdout",
     "output_type": "stream",
     "text": [
      "2020-05-29 23:35:13,373 - SuPy - INFO - All cache cleared.\n",
      "2020-05-29 23:35:15,899 - SuPy - INFO - ====================\n",
      "2020-05-29 23:35:15,900 - SuPy - INFO - Simulation period:\n",
      "2020-05-29 23:35:15,900 - SuPy - INFO -   Start: 2011-01-01 00:05:00\n",
      "2020-05-29 23:35:15,901 - SuPy - INFO -   End: 2013-01-01 00:00:00\n",
      "2020-05-29 23:35:15,902 - SuPy - INFO - \n",
      "2020-05-29 23:35:15,902 - SuPy - INFO - No. of grids: 1\n",
      "2020-05-29 23:35:15,903 - SuPy - INFO - SuPy is running in serial mode\n",
      "2020-05-29 23:35:44,666 - SuPy - INFO - Execution time: 28.8 s\n",
      "2020-05-29 23:35:44,667 - SuPy - INFO - ====================\n",
      "\n"
     ]
    }
   ],
   "source": [
    "# load sample datasets\n",
    "df_state_init, df_forcing = sp.load_SampleData()\n",
    "# perform an example run to get output samples for later use\n",
    "df_output, df_state_final = sp.run_supy(df_forcing, df_state_init)\n"
   ]
  },
  {
   "cell_type": "markdown",
   "metadata": {},
   "source": [
    "## Surface properties: surface albedo"
   ]
  },
  {
   "cell_type": "markdown",
   "metadata": {},
   "source": [
    "### Examine the default albedo values loaded from the sample dataset"
   ]
  },
  {
   "cell_type": "code",
   "execution_count": 3,
   "metadata": {
    "ExecuteTime": {
     "end_time": "2020-05-29T22:35:48.532018Z",
     "start_time": "2020-05-29T22:35:48.514135Z"
    }
   },
   "outputs": [
    {
     "data": {
      "text/html": [
       "<div>\n",
       "<style scoped>\n",
       "    .dataframe tbody tr th:only-of-type {\n",
       "        vertical-align: middle;\n",
       "    }\n",
       "\n",
       "    .dataframe tbody tr th {\n",
       "        vertical-align: top;\n",
       "    }\n",
       "\n",
       "    .dataframe thead th {\n",
       "        text-align: right;\n",
       "    }\n",
       "</style>\n",
       "<table border=\"1\" class=\"dataframe\">\n",
       "  <thead>\n",
       "    <tr style=\"text-align: right;\">\n",
       "      <th>ind_dim</th>\n",
       "      <th>(0,)</th>\n",
       "      <th>(1,)</th>\n",
       "      <th>(2,)</th>\n",
       "      <th>(3,)</th>\n",
       "      <th>(4,)</th>\n",
       "      <th>(5,)</th>\n",
       "      <th>(6,)</th>\n",
       "    </tr>\n",
       "    <tr>\n",
       "      <th>grid</th>\n",
       "      <th></th>\n",
       "      <th></th>\n",
       "      <th></th>\n",
       "      <th></th>\n",
       "      <th></th>\n",
       "      <th></th>\n",
       "      <th></th>\n",
       "    </tr>\n",
       "  </thead>\n",
       "  <tbody>\n",
       "    <tr>\n",
       "      <th>1</th>\n",
       "      <td>0.1</td>\n",
       "      <td>0.12</td>\n",
       "      <td>0.1</td>\n",
       "      <td>0.18</td>\n",
       "      <td>0.21</td>\n",
       "      <td>0.18</td>\n",
       "      <td>0.1</td>\n",
       "    </tr>\n",
       "  </tbody>\n",
       "</table>\n",
       "</div>"
      ],
      "text/plain": [
       "ind_dim  (0,)  (1,)  (2,)  (3,)  (4,)  (5,)  (6,)\n",
       "grid                                             \n",
       "1         0.1  0.12   0.1  0.18  0.21  0.18   0.1"
      ]
     },
     "execution_count": 3,
     "metadata": {},
     "output_type": "execute_result"
    }
   ],
   "source": [
    "df_state_init.alb"
   ]
  },
  {
   "cell_type": "markdown",
   "metadata": {},
   "source": [
    "### Copy the initial condition `DataFrame`  to have a *clean slate* for our study\n",
    "\n",
    "Note: `DataFrame.copy()` defaults to `deepcopy`"
   ]
  },
  {
   "cell_type": "code",
   "execution_count": 4,
   "metadata": {
    "ExecuteTime": {
     "end_time": "2020-05-29T22:35:49.633793Z",
     "start_time": "2020-05-29T22:35:49.630993Z"
    }
   },
   "outputs": [],
   "source": [
    "df_state_init_test = df_state_init.copy()\n"
   ]
  },
  {
   "cell_type": "markdown",
   "metadata": {},
   "source": [
    "### Set the `Bldg` land cover to 100% for this study"
   ]
  },
  {
   "cell_type": "code",
   "execution_count": 5,
   "metadata": {
    "ExecuteTime": {
     "end_time": "2020-05-29T22:35:50.533927Z",
     "start_time": "2020-05-29T22:35:50.520491Z"
    }
   },
   "outputs": [
    {
     "data": {
      "text/html": [
       "<div>\n",
       "<style scoped>\n",
       "    .dataframe tbody tr th:only-of-type {\n",
       "        vertical-align: middle;\n",
       "    }\n",
       "\n",
       "    .dataframe tbody tr th {\n",
       "        vertical-align: top;\n",
       "    }\n",
       "\n",
       "    .dataframe thead th {\n",
       "        text-align: right;\n",
       "    }\n",
       "</style>\n",
       "<table border=\"1\" class=\"dataframe\">\n",
       "  <thead>\n",
       "    <tr style=\"text-align: right;\">\n",
       "      <th>ind_dim</th>\n",
       "      <th>(0,)</th>\n",
       "      <th>(1,)</th>\n",
       "      <th>(2,)</th>\n",
       "      <th>(3,)</th>\n",
       "      <th>(4,)</th>\n",
       "      <th>(5,)</th>\n",
       "      <th>(6,)</th>\n",
       "    </tr>\n",
       "    <tr>\n",
       "      <th>grid</th>\n",
       "      <th></th>\n",
       "      <th></th>\n",
       "      <th></th>\n",
       "      <th></th>\n",
       "      <th></th>\n",
       "      <th></th>\n",
       "      <th></th>\n",
       "    </tr>\n",
       "  </thead>\n",
       "  <tbody>\n",
       "    <tr>\n",
       "      <th>1</th>\n",
       "      <td>0</td>\n",
       "      <td>1</td>\n",
       "      <td>0</td>\n",
       "      <td>0</td>\n",
       "      <td>0</td>\n",
       "      <td>0</td>\n",
       "      <td>0</td>\n",
       "    </tr>\n",
       "  </tbody>\n",
       "</table>\n",
       "</div>"
      ],
      "text/plain": [
       "ind_dim  (0,)  (1,)  (2,)  (3,)  (4,)  (5,)  (6,)\n",
       "grid                                             \n",
       "1           0     1     0     0     0     0     0"
      ]
     },
     "execution_count": 5,
     "metadata": {},
     "output_type": "execute_result"
    }
   ],
   "source": [
    "df_state_init_test.sfr = 0\n",
    "df_state_init_test.loc[:, ('sfr', '(1,)')] = 1\n",
    "df_state_init_test.sfr\n"
   ]
  },
  {
   "cell_type": "markdown",
   "metadata": {},
   "source": [
    "### Construct a `df_state_init_x` dataframe to perform `supy` simulation with specified albedo"
   ]
  },
  {
   "cell_type": "code",
   "execution_count": 6,
   "metadata": {
    "ExecuteTime": {
     "end_time": "2020-05-29T22:35:53.636364Z",
     "start_time": "2020-05-29T22:35:53.581468Z"
    }
   },
   "outputs": [],
   "source": [
    "# create a `df_state_init_x` with different surface properties\n",
    "n_test = 48\n",
    "list_alb_test = np.linspace(0.1, 0.8, n_test).round(2)\n",
    "df_state_init_x = df_state_init_test.append(\n",
    "    [df_state_init_test]*(n_test-1), ignore_index=True)\n",
    "\n",
    "# here we modify surface albedo\n",
    "df_state_init_x.loc[:, ('alb', '(1,)')] = list_alb_test\n",
    "df_state_init_x.index=df_state_init_x.index.rename('grid')\n"
   ]
  },
  {
   "cell_type": "markdown",
   "metadata": {},
   "source": [
    "### Conduct simulations with `supy`"
   ]
  },
  {
   "cell_type": "code",
   "execution_count": 7,
   "metadata": {
    "ExecuteTime": {
     "end_time": "2020-05-29T22:37:57.418562Z",
     "start_time": "2020-05-29T22:35:55.100549Z"
    }
   },
   "outputs": [
    {
     "name": "stdout",
     "output_type": "stream",
     "text": [
      "2020-05-29 23:35:55,102 - SuPy - INFO - ====================\n",
      "2020-05-29 23:35:55,103 - SuPy - INFO - Simulation period:\n",
      "2020-05-29 23:35:55,104 - SuPy - INFO -   Start: 2012-01-01 00:00:00\n",
      "2020-05-29 23:35:55,104 - SuPy - INFO -   End: 2012-07-31 23:55:00\n",
      "2020-05-29 23:35:55,105 - SuPy - INFO - \n",
      "2020-05-29 23:35:55,106 - SuPy - INFO - No. of grids: 48\n",
      "2020-05-29 23:35:55,107 - SuPy - INFO - SuPy is running in parallel mode\n",
      "2020-05-29 23:37:57,415 - SuPy - INFO - Execution time: 122.3 s\n",
      "2020-05-29 23:37:57,416 - SuPy - INFO - ====================\n",
      "\n"
     ]
    }
   ],
   "source": [
    "df_forcing_part = df_forcing.loc['2012 01':'2012 07']\n",
    "df_res_alb_test,df_state_final_x = sp.run_supy(df_forcing_part, df_state_init_x)"
   ]
  },
  {
   "cell_type": "markdown",
   "metadata": {},
   "source": [
    "### Examine the simulation results"
   ]
  },
  {
   "cell_type": "code",
   "execution_count": 9,
   "metadata": {
    "ExecuteTime": {
     "end_time": "2020-05-29T22:38:15.997256Z",
     "start_time": "2020-05-29T22:38:10.815113Z"
    }
   },
   "outputs": [],
   "source": [
    "# choose results of July 2012 for analysis\n",
    "df_res_alb_test_july = df_res_alb_test.SUEWS.unstack(0).loc[\"2012 7\"]\n",
    "df_res_alb_T2_stat = df_res_alb_test_july.T2.describe()\n",
    "df_res_alb_T2_diff = df_res_alb_T2_stat.transform(\n",
    "    lambda x: x - df_res_alb_T2_stat.iloc[:, 0]\n",
    ")\n",
    "df_res_alb_T2_diff.columns = list_alb_test - list_alb_test[0]"
   ]
  },
  {
   "cell_type": "code",
   "execution_count": 10,
   "metadata": {
    "ExecuteTime": {
     "end_time": "2020-05-29T22:38:19.621567Z",
     "start_time": "2020-05-29T22:38:18.991824Z"
    },
    "scrolled": false
   },
   "outputs": [
    {
     "data": {
      "image/png": "[encoded data removed]",
      "text/plain": [
       "<Figure size 432x288 with 1 Axes>"
      ]
     },
     "metadata": {
      "needs_background": "light"
     },
     "output_type": "display_data"
    }
   ],
   "source": [
    "ax_temp_diff = df_res_alb_T2_diff.loc[[\"max\", \"mean\", \"min\"]].T.plot()\n",
    "_ = ax_temp_diff.set_ylabel(\"$\\Delta T_2$ ($^{\\circ}}$C)\")\n",
    "_ = ax_temp_diff.set_xlabel(r\"$\\Delta\\alpha$\")\n",
    "ax_temp_diff.margins(x=0.2, y=0.2)"
   ]
  },
  {
   "cell_type": "markdown",
   "metadata": {},
   "source": [
    "## Background climate: air temperature"
   ]
  },
  {
   "cell_type": "markdown",
   "metadata": {},
   "source": [
    "### Examine the monthly climatology of air temperature loaded from the sample dataset"
   ]
  },
  {
   "cell_type": "code",
   "execution_count": 11,
   "metadata": {
    "ExecuteTime": {
     "end_time": "2020-05-29T22:38:31.850920Z",
     "start_time": "2020-05-29T22:38:31.703340Z"
    }
   },
   "outputs": [
    {
     "data": {
      "image/png": "[encoded data removed]",
      "text/plain": [
       "<Figure size 432x288 with 1 Axes>"
      ]
     },
     "metadata": {
      "needs_background": "light"
     },
     "output_type": "display_data"
    }
   ],
   "source": [
    "df_plot = df_forcing.Tair.loc[\"2012\"].resample(\"1m\").mean()\n",
    "ax_temp = df_plot.plot.bar(color=\"tab:blue\")\n",
    "_ = ax_temp.set_xticklabels(df_plot.index.strftime(\"%b\"))\n",
    "_ = ax_temp.set_ylabel(\"Mean Air Temperature ($^\\degree$C)\")\n",
    "_ = ax_temp.set_xlabel(\"Month\")"
   ]
  },
  {
   "cell_type": "markdown",
   "metadata": {},
   "source": [
    "### Construct a function to perform parallel `supy` simulation with specified `diff_airtemp_test`: the difference in air temperature between the one used in simulation and loaded from sample dataset.\n",
    "*Note: forcing data `df_forcing` has different data structure from `df_state_init`; so we need to modify `run_supy_mgrids` to implement a `run_supy_mclims` for different climate scenarios*"
   ]
  },
  {
   "cell_type": "markdown",
   "metadata": {},
   "source": [
    "Let's start the implementation of `run_supy_mclims` with a small problem of four forcing groups (i.e., climate scenarios), where the air temperatures differ from the baseline scenario with a constant bias."
   ]
  },
  {
   "cell_type": "code",
   "execution_count": 12,
   "metadata": {
    "ExecuteTime": {
     "end_time": "2020-05-29T22:38:42.544537Z",
     "start_time": "2020-05-29T22:38:42.514352Z"
    }
   },
   "outputs": [],
   "source": [
    "# save loaded sample datasets\n",
    "df_forcing_part_test = df_forcing.loc['2012 1':'2012 7'].copy()\n",
    "df_state_init_test = df_state_init.copy()"
   ]
  },
  {
   "cell_type": "code",
   "execution_count": 14,
   "metadata": {
    "ExecuteTime": {
     "end_time": "2020-05-29T22:39:22.892266Z",
     "start_time": "2020-05-29T22:39:22.851025Z"
    }
   },
   "outputs": [],
   "source": [
    "from dask import delayed\n",
    "# create a dict with four forcing conditions as a test\n",
    "n_test = 4\n",
    "list_TairDiff_test = np.linspace(0., 2, n_test).round(2)\n",
    "dict_df_forcing_x = {\n",
    "    tairdiff: df_forcing_part_test.copy()\n",
    "    for tairdiff in list_TairDiff_test}\n",
    "for tairdiff in dict_df_forcing_x:\n",
    "    dict_df_forcing_x[tairdiff].loc[:, 'Tair'] += tairdiff\n",
    "\n",
    "dd_forcing_x = {\n",
    "    k: delayed(sp.run_supy)(df, df_state_init_test)[0]\n",
    "    for k, df in dict_df_forcing_x.items()}\n",
    "\n",
    "\n",
    "df_res_tairdiff_test0 = delayed(pd.concat)(\n",
    "    dd_forcing_x,\n",
    "    keys=list_TairDiff_test,\n",
    "    names=['tairdiff'],\n",
    ")"
   ]
  },
  {
   "cell_type": "code",
   "execution_count": 18,
   "metadata": {
    "ExecuteTime": {
     "end_time": "2020-05-29T22:40:41.244251Z",
     "start_time": "2020-05-29T22:40:10.741773Z"
    },
    "collapsed": true
   },
   "outputs": [
    {
     "name": "stdout",
     "output_type": "stream",
     "text": [
      "2020-05-29 23:40:10,745 - SuPy - INFO - ====================\n",
      "2020-05-29 23:40:10,746 - SuPy - INFO - ====================\n",
      "2020-05-29 23:40:10,746 - SuPy - INFO - ====================\n",
      "2020-05-29 23:40:10,746 - SuPy - INFO - Simulation period:\n",
      "2020-05-29 23:40:10,746 - SuPy - INFO - ====================\n",
      "2020-05-29 23:40:10,747 - SuPy - INFO - Simulation period:\n",
      "2020-05-29 23:40:10,747 - SuPy - INFO - Simulation period:\n",
      "2020-05-29 23:40:10,749 - SuPy - INFO -   Start: 2012-01-01 00:00:00\n",
      "2020-05-29 23:40:10,749 - SuPy - INFO - Simulation period:\n",
      "2020-05-29 23:40:10,750 - SuPy - INFO -   Start: 2012-01-01 00:00:00\n",
      "2020-05-29 23:40:10,750 - SuPy - INFO -   Start: 2012-01-01 00:00:00\n",
      "2020-05-29 23:40:10,751 - SuPy - INFO -   End: 2012-07-31 23:55:00\n",
      "2020-05-29 23:40:10,752 - SuPy - INFO -   Start: 2012-01-01 00:00:00\n",
      "2020-05-29 23:40:10,752 - SuPy - INFO -   End: 2012-07-31 23:55:00\n",
      "2020-05-29 23:40:10,753 - SuPy - INFO -   End: 2012-07-31 23:55:00\n",
      "2020-05-29 23:40:10,754 - SuPy - INFO - \n",
      "2020-05-29 23:40:10,754 - SuPy - INFO -   End: 2012-07-31 23:55:00\n",
      "2020-05-29 23:40:10,755 - SuPy - INFO - \n",
      "2020-05-29 23:40:10,756 - SuPy - INFO - \n",
      "2020-05-29 23:40:10,756 - SuPy - INFO - No. of grids: 1\n",
      "2020-05-29 23:40:10,757 - SuPy - INFO - \n",
      "2020-05-29 23:40:10,758 - SuPy - INFO - No. of grids: 1\n",
      "2020-05-29 23:40:10,759 - SuPy - INFO - No. of grids: 1\n",
      "2020-05-29 23:40:10,759 - SuPy - INFO - SuPy is running in serial mode\n",
      "2020-05-29 23:40:10,760 - SuPy - INFO - No. of grids: 1\n",
      "2020-05-29 23:40:10,760 - SuPy - INFO - SuPy is running in serial mode\n",
      "2020-05-29 23:40:10,761 - SuPy - INFO - SuPy is running in serial mode\n",
      "2020-05-29 23:40:10,763 - SuPy - INFO - SuPy is running in serial mode\n",
      "2020-05-29 23:40:40,248 - SuPy - INFO - Execution time: 29.5 s\n",
      "2020-05-29 23:40:40,323 - SuPy - INFO - Execution time: 29.6 s\n",
      "2020-05-29 23:40:40,357 - SuPy - INFO - ====================\n",
      "\n",
      "2020-05-29 23:40:40,357 - SuPy - INFO - Execution time: 29.6 s\n",
      "2020-05-29 23:40:40,388 - SuPy - INFO - Execution time: 29.6 s\n",
      "2020-05-29 23:40:40,388 - SuPy - INFO - ====================\n",
      "\n",
      "2020-05-29 23:40:40,390 - SuPy - INFO - ====================\n",
      "\n",
      "2020-05-29 23:40:40,391 - SuPy - INFO - ====================\n",
      "\n",
      "Execution time: 30.50 s\n"
     ]
    }
   ],
   "source": [
    "# test the performance of a parallel run\n",
    "t0 = time()\n",
    "df_res_tairdiff_test = df_res_tairdiff_test0\\\n",
    "    .compute(scheduler='threads')\\\n",
    "    .reset_index('grid', drop=True)\n",
    "t1 = time()\n",
    "t_par = t1 - t0\n",
    "print(f'Execution time: {t_par:.2f} s')"
   ]
  },
  {
   "cell_type": "code",
   "execution_count": 19,
   "metadata": {
    "ExecuteTime": {
     "end_time": "2020-05-29T22:40:43.473165Z",
     "start_time": "2020-05-29T22:40:43.468614Z"
    }
   },
   "outputs": [],
   "source": [
    "# function for multi-climate `run_supy`\n",
    "# wrapping the above code into one\n",
    "def run_supy_mclims(df_state_init, dict_df_forcing_mclims):\n",
    "    dd_forcing_x = {\n",
    "        k: delayed(sp.run_supy)(df, df_state_init_test)[0]\n",
    "        for k, df in dict_df_forcing_x.items()}\n",
    "    df_output_mclims0 = delayed(pd.concat)(\n",
    "        dd_forcing_x,\n",
    "        keys=list(dict_df_forcing_x.keys()),\n",
    "        names=['clm'],\n",
    "    ).compute(scheduler='threads')\n",
    "    df_output_mclims = df_output_mclims0.reset_index('grid', drop=True)\n",
    "\n",
    "    return df_output_mclims"
   ]
  },
  {
   "cell_type": "markdown",
   "metadata": {},
   "source": [
    "### Construct `dict_df_forcing_x` with multiple forcing `DataFrame`s"
   ]
  },
  {
   "cell_type": "code",
   "execution_count": 20,
   "metadata": {
    "ExecuteTime": {
     "end_time": "2020-05-29T22:41:06.830669Z",
     "start_time": "2020-05-29T22:41:06.711364Z"
    }
   },
   "outputs": [],
   "source": [
    "# save loaded sample datasets\n",
    "df_forcing_part_test = df_forcing.loc['2012 1':'2012 7'].copy()\n",
    "df_state_init_test = df_state_init.copy()\n",
    "\n",
    "# create a dict with a number of forcing conditions\n",
    "n_test = 24 # can be set with a smaller value to save simulation time\n",
    "list_TairDiff_test = np.linspace(0., 2, n_test).round(2)\n",
    "dict_df_forcing_x = {\n",
    "    tairdiff: df_forcing_part_test.copy()\n",
    "    for tairdiff in list_TairDiff_test}\n",
    "for tairdiff in dict_df_forcing_x:\n",
    "    dict_df_forcing_x[tairdiff].loc[:, 'Tair'] += tairdiff"
   ]
  },
  {
   "cell_type": "markdown",
   "metadata": {},
   "source": [
    "### Perform simulations"
   ]
  },
  {
   "cell_type": "code",
   "execution_count": 21,
   "metadata": {
    "ExecuteTime": {
     "end_time": "2020-05-29T22:44:14.954390Z",
     "start_time": "2020-05-29T22:41:09.502926Z"
    },
    "collapsed": true
   },
   "outputs": [
    {
     "name": "stdout",
     "output_type": "stream",
     "text": [
      "2020-05-29 23:41:09,510 - SuPy - INFO - ====================\n",
      "2020-05-29 23:41:09,511 - SuPy - INFO - ====================\n",
      "2020-05-29 23:41:09,511 - SuPy - INFO - ====================\n",
      "2020-05-29 23:41:09,511 - SuPy - INFO - ====================\n",
      "2020-05-29 23:41:09,511 - SuPy - INFO - ====================\n",
      "2020-05-29 23:41:09,512 - SuPy - INFO - ====================\n",
      "2020-05-29 23:41:09,512 - SuPy - INFO - ====================\n",
      "2020-05-29 23:41:09,512 - SuPy - INFO - Simulation period:\n",
      "2020-05-29 23:41:09,512 - SuPy - INFO - ====================\n",
      "2020-05-29 23:41:09,512 - SuPy - INFO - ====================\n",
      "2020-05-29 23:41:09,513 - SuPy - INFO - ====================\n",
      "2020-05-29 23:41:09,513 - SuPy - INFO - ====================\n",
      "2020-05-29 23:41:09,513 - SuPy - INFO - ====================\n",
      "2020-05-29 23:41:09,514 - SuPy - INFO - Simulation period:\n",
      "2020-05-29 23:41:09,514 - SuPy - INFO - Simulation period:\n",
      "2020-05-29 23:41:09,515 - SuPy - INFO - Simulation period:\n",
      "2020-05-29 23:41:09,516 - SuPy - INFO - Simulation period:\n",
      "2020-05-29 23:41:09,517 - SuPy - INFO - Simulation period:\n",
      "2020-05-29 23:41:09,518 - SuPy - INFO - Simulation period:\n",
      "2020-05-29 23:41:09,518 - SuPy - INFO -   Start: 2012-01-01 00:00:00\n",
      "2020-05-29 23:41:09,519 - SuPy - INFO - Simulation period:\n",
      "2020-05-29 23:41:09,520 - SuPy - INFO - Simulation period:\n",
      "2020-05-29 23:41:09,521 - SuPy - INFO - Simulation period:\n",
      "2020-05-29 23:41:09,521 - SuPy - INFO - Simulation period:\n",
      "2020-05-29 23:41:09,522 - SuPy - INFO - Simulation period:\n",
      "2020-05-29 23:41:09,523 - SuPy - INFO -   Start: 2012-01-01 00:00:00\n",
      "2020-05-29 23:41:09,523 - SuPy - INFO -   Start: 2012-01-01 00:00:00\n",
      "2020-05-29 23:41:09,524 - SuPy - INFO -   Start: 2012-01-01 00:00:00\n",
      "2020-05-29 23:41:09,525 - SuPy - INFO -   Start: 2012-01-01 00:00:00\n",
      "2020-05-29 23:41:09,526 - SuPy - INFO -   Start: 2012-01-01 00:00:00\n",
      "2020-05-29 23:41:09,526 - SuPy - INFO -   Start: 2012-01-01 00:00:00\n",
      "2020-05-29 23:41:09,527 - SuPy - INFO -   End: 2012-07-31 23:55:00\n",
      "2020-05-29 23:41:09,528 - SuPy - INFO -   Start: 2012-01-01 00:00:00\n",
      "2020-05-29 23:41:09,528 - SuPy - INFO -   Start: 2012-01-01 00:00:00\n",
      "2020-05-29 23:41:09,529 - SuPy - INFO -   Start: 2012-01-01 00:00:00\n",
      "2020-05-29 23:41:09,530 - SuPy - INFO -   Start: 2012-01-01 00:00:00\n",
      "2020-05-29 23:41:09,531 - SuPy - INFO -   Start: 2012-01-01 00:00:00\n",
      "2020-05-29 23:41:09,532 - SuPy - INFO -   End: 2012-07-31 23:55:00\n",
      "2020-05-29 23:41:09,532 - SuPy - INFO -   End: 2012-07-31 23:55:00\n",
      "2020-05-29 23:41:09,533 - SuPy - INFO -   End: 2012-07-31 23:55:00\n",
      "2020-05-29 23:41:09,534 - SuPy - INFO -   End: 2012-07-31 23:55:00\n",
      "2020-05-29 23:41:09,535 - SuPy - INFO -   End: 2012-07-31 23:55:00\n",
      "2020-05-29 23:41:09,536 - SuPy - INFO -   End: 2012-07-31 23:55:00\n",
      "2020-05-29 23:41:09,536 - SuPy - INFO - \n",
      "2020-05-29 23:41:09,537 - SuPy - INFO -   End: 2012-07-31 23:55:00\n",
      "2020-05-29 23:41:09,537 - SuPy - INFO -   End: 2012-07-31 23:55:00\n",
      "2020-05-29 23:41:09,538 - SuPy - INFO -   End: 2012-07-31 23:55:00\n",
      "2020-05-29 23:41:09,539 - SuPy - INFO -   End: 2012-07-31 23:55:00\n",
      "2020-05-29 23:41:09,539 - SuPy - INFO -   End: 2012-07-31 23:55:00\n",
      "2020-05-29 23:41:09,540 - SuPy - INFO - \n",
      "2020-05-29 23:41:09,541 - SuPy - INFO - \n",
      "2020-05-29 23:41:09,541 - SuPy - INFO - \n",
      "2020-05-29 23:41:09,542 - SuPy - INFO - \n",
      "2020-05-29 23:41:09,543 - SuPy - INFO - \n",
      "2020-05-29 23:41:09,544 - SuPy - INFO - \n",
      "2020-05-29 23:41:09,544 - SuPy - INFO - No. of grids: 1\n",
      "2020-05-29 23:41:09,545 - SuPy - INFO - \n",
      "2020-05-29 23:41:09,546 - SuPy - INFO - \n",
      "2020-05-29 23:41:09,546 - SuPy - INFO - \n",
      "2020-05-29 23:41:09,547 - SuPy - INFO - \n",
      "2020-05-29 23:41:09,547 - SuPy - INFO - \n",
      "2020-05-29 23:41:09,548 - SuPy - INFO - No. of grids: 1\n",
      "2020-05-29 23:41:09,549 - SuPy - INFO - No. of grids: 1\n",
      "2020-05-29 23:41:09,550 - SuPy - INFO - No. of grids: 1\n",
      "2020-05-29 23:41:09,550 - SuPy - INFO - No. of grids: 1\n",
      "2020-05-29 23:41:09,551 - SuPy - INFO - No. of grids: 1\n",
      "2020-05-29 23:41:09,552 - SuPy - INFO - No. of grids: 1\n",
      "2020-05-29 23:41:09,553 - SuPy - INFO - SuPy is running in serial mode\n",
      "2020-05-29 23:41:09,554 - SuPy - INFO - No. of grids: 1\n",
      "2020-05-29 23:41:09,555 - SuPy - INFO - No. of grids: 1\n",
      "2020-05-29 23:41:09,555 - SuPy - INFO - No. of grids: 1\n",
      "2020-05-29 23:41:09,556 - SuPy - INFO - No. of grids: 1\n",
      "2020-05-29 23:41:09,557 - SuPy - INFO - No. of grids: 1\n",
      "2020-05-29 23:41:09,558 - SuPy - INFO - SuPy is running in serial mode\n",
      "2020-05-29 23:41:09,559 - SuPy - INFO - SuPy is running in serial mode\n",
      "2020-05-29 23:41:09,559 - SuPy - INFO - SuPy is running in serial mode\n",
      "2020-05-29 23:41:09,560 - SuPy - INFO - SuPy is running in serial mode\n",
      "2020-05-29 23:41:09,561 - SuPy - INFO - SuPy is running in serial mode\n",
      "2020-05-29 23:41:09,561 - SuPy - INFO - SuPy is running in serial mode\n",
      "2020-05-29 23:41:09,564 - SuPy - INFO - SuPy is running in serial mode\n",
      "2020-05-29 23:41:09,565 - SuPy - INFO - SuPy is running in serial mode\n",
      "2020-05-29 23:41:09,565 - SuPy - INFO - SuPy is running in serial mode\n",
      "2020-05-29 23:41:09,566 - SuPy - INFO - SuPy is running in serial mode\n",
      "2020-05-29 23:41:09,567 - SuPy - INFO - SuPy is running in serial mode\n",
      "2020-05-29 23:42:37,391 - SuPy - INFO - Execution time: 87.9 s\n",
      "2020-05-29 23:42:37,422 - SuPy - INFO - Execution time: 87.9 s\n",
      "2020-05-29 23:42:37,456 - SuPy - INFO - Execution time: 87.9 s\n",
      "2020-05-29 23:42:37,460 - SuPy - INFO - ====================\n",
      "\n",
      "2020-05-29 23:42:37,475 - SuPy - INFO - ====================\n",
      "\n",
      "2020-05-29 23:42:37,487 - SuPy - INFO - ====================\n",
      "\n",
      "2020-05-29 23:42:37,520 - SuPy - INFO - Execution time: 88.0 s\n",
      "2020-05-29 23:42:37,554 - SuPy - INFO - ====================\n",
      "2020-05-29 23:42:37,566 - SuPy - INFO - ====================\n",
      "2020-05-29 23:42:37,618 - SuPy - INFO - Execution time: 88.1 s\n",
      "2020-05-29 23:42:37,642 - SuPy - INFO - ====================\n",
      "2020-05-29 23:42:37,650 - SuPy - INFO - ====================\n",
      "\n",
      "2020-05-29 23:42:37,667 - SuPy - INFO - Simulation period:\n",
      "2020-05-29 23:42:37,677 - SuPy - INFO - Simulation period:\n",
      "2020-05-29 23:42:37,690 - SuPy - INFO - ====================\n",
      "\n",
      "2020-05-29 23:42:37,742 - SuPy - INFO - Execution time: 88.2 s\n",
      "2020-05-29 23:42:37,754 - SuPy - INFO - Simulation period:\n",
      "2020-05-29 23:42:37,792 - SuPy - INFO - ====================\n",
      "2020-05-29 23:42:37,794 - SuPy - INFO -   Start: 2012-01-01 00:00:00\n",
      "2020-05-29 23:42:37,873 - SuPy - INFO - Execution time: 88.4 s\n",
      "2020-05-29 23:42:37,888 - SuPy - INFO -   Start: 2012-01-01 00:00:00\n",
      "2020-05-29 23:42:37,919 - SuPy - INFO - ====================\n",
      "2020-05-29 23:42:37,942 - SuPy - INFO - ====================\n",
      "\n",
      "2020-05-29 23:42:37,944 - SuPy - INFO -   Start: 2012-01-01 00:00:00\n",
      "2020-05-29 23:42:37,945 - SuPy - INFO - Simulation period:\n",
      "2020-05-29 23:42:37,946 - SuPy - INFO -   End: 2012-07-31 23:55:00\n",
      "2020-05-29 23:42:37,947 - SuPy - INFO - ====================\n",
      "\n",
      "2020-05-29 23:42:37,949 - SuPy - INFO -   End: 2012-07-31 23:55:00\n",
      "2020-05-29 23:42:37,951 - SuPy - INFO - Simulation period:\n",
      "2020-05-29 23:42:37,953 - SuPy - INFO - ====================\n",
      "2020-05-29 23:42:37,954 - SuPy - INFO -   End: 2012-07-31 23:55:00\n",
      "2020-05-29 23:42:37,955 - SuPy - INFO -   Start: 2012-01-01 00:00:00\n",
      "2020-05-29 23:42:37,957 - SuPy - INFO - \n",
      "2020-05-29 23:42:38,036 - SuPy - INFO - Execution time: 88.5 s\n",
      "2020-05-29 23:42:38,038 - SuPy - INFO - ====================\n",
      "2020-05-29 23:42:38,039 - SuPy - INFO - \n",
      "2020-05-29 23:42:38,040 - SuPy - INFO -   Start: 2012-01-01 00:00:00\n",
      "2020-05-29 23:42:38,042 - SuPy - INFO - Simulation period:\n",
      "2020-05-29 23:42:38,043 - SuPy - INFO - \n",
      "2020-05-29 23:42:38,045 - SuPy - INFO -   End: 2012-07-31 23:55:00\n",
      "2020-05-29 23:42:38,047 - SuPy - INFO - No. of grids: 1\n",
      "2020-05-29 23:42:38,106 - SuPy - INFO - Execution time: 88.6 s\n",
      "2020-05-29 23:42:38,107 - SuPy - INFO - ====================\n",
      "\n",
      "2020-05-29 23:42:38,164 - SuPy - INFO - Execution time: 88.7 s\n",
      "2020-05-29 23:42:38,277 - SuPy - INFO - Simulation period:\n",
      "2020-05-29 23:42:38,277 - SuPy - INFO - Execution time: 88.8 s\n",
      "2020-05-29 23:42:38,277 - SuPy - INFO - Execution time: 88.8 s\n",
      "2020-05-29 23:42:38,279 - SuPy - INFO - No. of grids: 1\n",
      "2020-05-29 23:42:38,279 - SuPy - INFO -   End: 2012-07-31 23:55:00\n",
      "2020-05-29 23:42:38,280 - SuPy - INFO -   Start: 2012-01-01 00:00:00\n",
      "2020-05-29 23:42:38,281 - SuPy - INFO - No. of grids: 1\n"
     ]
    },
    {
     "name": "stdout",
     "output_type": "stream",
     "text": [
      "2020-05-29 23:42:38,281 - SuPy - INFO - \n",
      "2020-05-29 23:42:38,282 - SuPy - INFO - SuPy is running in serial mode\n",
      "2020-05-29 23:42:38,283 - SuPy - INFO - ====================\n",
      "\n",
      "2020-05-29 23:42:38,284 - SuPy - INFO - ====================\n",
      "2020-05-29 23:42:38,284 - SuPy - INFO - ====================\n",
      "\n",
      "2020-05-29 23:42:38,285 - SuPy - INFO -   Start: 2012-01-01 00:00:00\n",
      "2020-05-29 23:42:38,286 - SuPy - INFO - ====================\n",
      "\n",
      "2020-05-29 23:42:38,287 - SuPy - INFO - ====================\n",
      "\n",
      "2020-05-29 23:42:38,287 - SuPy - INFO - SuPy is running in serial mode\n",
      "2020-05-29 23:42:38,288 - SuPy - INFO - \n",
      "2020-05-29 23:42:38,288 - SuPy - INFO -   End: 2012-07-31 23:55:00\n",
      "2020-05-29 23:42:38,289 - SuPy - INFO - SuPy is running in serial mode\n",
      "2020-05-29 23:42:38,290 - SuPy - INFO - No. of grids: 1\n",
      "2020-05-29 23:42:38,293 - SuPy - INFO - ====================\n",
      "2020-05-29 23:42:38,293 - SuPy - INFO - Simulation period:\n",
      "2020-05-29 23:42:38,297 - SuPy - INFO - ====================\n",
      "2020-05-29 23:42:38,298 - SuPy - INFO -   End: 2012-07-31 23:55:00\n",
      "2020-05-29 23:42:38,300 - SuPy - INFO - ====================\n",
      "2020-05-29 23:42:38,301 - SuPy - INFO - ====================\n",
      "2020-05-29 23:42:38,304 - SuPy - INFO - No. of grids: 1\n",
      "2020-05-29 23:42:38,305 - SuPy - INFO - \n",
      "2020-05-29 23:42:38,331 - SuPy - INFO - SuPy is running in serial mode\n",
      "2020-05-29 23:42:38,340 - SuPy - INFO - Simulation period:\n",
      "2020-05-29 23:42:38,358 - SuPy - INFO -   Start: 2012-01-01 00:00:00\n",
      "2020-05-29 23:42:38,367 - SuPy - INFO - Simulation period:\n",
      "2020-05-29 23:42:38,378 - SuPy - INFO - \n",
      "2020-05-29 23:42:38,386 - SuPy - INFO - Simulation period:\n",
      "2020-05-29 23:42:38,391 - SuPy - INFO - Simulation period:\n",
      "2020-05-29 23:42:38,401 - SuPy - INFO - SuPy is running in serial mode\n",
      "2020-05-29 23:42:38,408 - SuPy - INFO - No. of grids: 1\n",
      "2020-05-29 23:42:38,435 - SuPy - INFO -   Start: 2012-01-01 00:00:00\n",
      "2020-05-29 23:42:38,455 - SuPy - INFO -   End: 2012-07-31 23:55:00\n",
      "2020-05-29 23:42:38,464 - SuPy - INFO -   Start: 2012-01-01 00:00:00\n",
      "2020-05-29 23:42:38,473 - SuPy - INFO - No. of grids: 1\n",
      "2020-05-29 23:42:38,485 - SuPy - INFO -   Start: 2012-01-01 00:00:00\n",
      "2020-05-29 23:42:38,495 - SuPy - INFO -   Start: 2012-01-01 00:00:00\n",
      "2020-05-29 23:42:38,517 - SuPy - INFO - SuPy is running in serial mode\n",
      "2020-05-29 23:42:38,523 - SuPy - INFO -   End: 2012-07-31 23:55:00\n",
      "2020-05-29 23:42:38,539 - SuPy - INFO - \n",
      "2020-05-29 23:42:38,549 - SuPy - INFO -   End: 2012-07-31 23:55:00\n",
      "2020-05-29 23:42:45,444 - SuPy - INFO - SuPy is running in serial mode\n",
      "2020-05-29 23:42:45,473 - SuPy - INFO -   End: 2012-07-31 23:55:00\n",
      "2020-05-29 23:42:45,483 - SuPy - INFO -   End: 2012-07-31 23:55:00\n",
      "2020-05-29 23:42:52,251 - SuPy - INFO - \n",
      "2020-05-29 23:42:52,268 - SuPy - INFO - No. of grids: 1\n",
      "2020-05-29 23:42:52,316 - SuPy - INFO - \n",
      "2020-05-29 23:42:52,352 - SuPy - INFO - \n",
      "2020-05-29 23:42:52,369 - SuPy - INFO - \n",
      "2020-05-29 23:42:59,196 - SuPy - INFO - No. of grids: 1\n",
      "2020-05-29 23:42:59,292 - SuPy - INFO - SuPy is running in serial mode\n",
      "2020-05-29 23:43:06,164 - SuPy - INFO - No. of grids: 1\n",
      "2020-05-29 23:43:06,181 - SuPy - INFO - No. of grids: 1\n",
      "2020-05-29 23:43:06,262 - SuPy - INFO - No. of grids: 1\n",
      "2020-05-29 23:43:06,277 - SuPy - INFO - SuPy is running in serial mode\n",
      "2020-05-29 23:43:13,112 - SuPy - INFO - SuPy is running in serial mode\n",
      "2020-05-29 23:43:13,151 - SuPy - INFO - SuPy is running in serial mode\n",
      "2020-05-29 23:43:13,214 - SuPy - INFO - SuPy is running in serial mode\n",
      "2020-05-29 23:44:04,654 - SuPy - INFO - Execution time: 87.1 s\n",
      "2020-05-29 23:44:04,682 - SuPy - INFO - ====================\n",
      "\n",
      "2020-05-29 23:44:05,102 - SuPy - INFO - Execution time: 87.5 s\n",
      "2020-05-29 23:44:05,161 - SuPy - INFO - ====================\n",
      "\n",
      "2020-05-29 23:44:05,376 - SuPy - INFO - Execution time: 87.7 s\n",
      "2020-05-29 23:44:05,449 - SuPy - INFO - ====================\n",
      "\n",
      "2020-05-29 23:44:05,546 - SuPy - INFO - Execution time: 87.8 s\n",
      "2020-05-29 23:44:05,629 - SuPy - INFO - ====================\n",
      "\n",
      "2020-05-29 23:44:05,760 - SuPy - INFO - Execution time: 87.8 s\n",
      "2020-05-29 23:44:05,790 - SuPy - INFO - ====================\n",
      "\n",
      "2020-05-29 23:44:06,095 - SuPy - INFO - Execution time: 88.1 s\n",
      "2020-05-29 23:44:06,101 - SuPy - INFO - ====================\n",
      "\n",
      "2020-05-29 23:44:06,146 - SuPy - INFO - Execution time: 88.2 s\n",
      "2020-05-29 23:44:06,164 - SuPy - INFO - ====================\n",
      "\n",
      "2020-05-29 23:44:06,383 - SuPy - INFO - Execution time: 88.1 s\n",
      "2020-05-29 23:44:06,386 - SuPy - INFO - ====================\n",
      "\n",
      "2020-05-29 23:44:06,445 - SuPy - INFO - Execution time: 88.1 s\n",
      "2020-05-29 23:44:06,496 - SuPy - INFO - Execution time: 88.2 s\n",
      "2020-05-29 23:44:06,498 - SuPy - INFO - ====================\n",
      "\n",
      "2020-05-29 23:44:06,499 - SuPy - INFO - ====================\n",
      "\n",
      "2020-05-29 23:44:06,554 - SuPy - INFO - Execution time: 88.3 s\n",
      "2020-05-29 23:44:06,627 - SuPy - INFO - Execution time: 88.3 s\n",
      "2020-05-29 23:44:06,627 - SuPy - INFO - ====================\n",
      "\n",
      "2020-05-29 23:44:06,628 - SuPy - INFO - ====================\n",
      "\n",
      "Execution time: 185.45 s\n"
     ]
    }
   ],
   "source": [
    "# run parallel simulations using `run_supy_mclims`\n",
    "t0 = time()\n",
    "df_airtemp_test_x = run_supy_mclims(df_state_init_test, dict_df_forcing_x)\n",
    "t1 = time()\n",
    "t_par = t1-t0\n",
    "print(f'Execution time: {t_par:.2f} s')"
   ]
  },
  {
   "cell_type": "markdown",
   "metadata": {},
   "source": [
    "### Examine the results"
   ]
  },
  {
   "cell_type": "code",
   "execution_count": 22,
   "metadata": {
    "ExecuteTime": {
     "end_time": "2020-05-29T22:44:16.650230Z",
     "start_time": "2020-05-29T22:44:14.956637Z"
    }
   },
   "outputs": [],
   "source": [
    "df_airtemp_test = df_airtemp_test_x.SUEWS.unstack(0)\n",
    "df_temp_diff = df_airtemp_test.T2.transform(lambda x: x - df_airtemp_test.T2[0.0])\n",
    "df_temp_diff_ana = df_temp_diff.loc[\"2012 7\"]\n",
    "df_temp_diff_stat = df_temp_diff_ana.describe().loc[[\"max\", \"mean\", \"min\"]].T"
   ]
  },
  {
   "cell_type": "code",
   "execution_count": 23,
   "metadata": {
    "ExecuteTime": {
     "end_time": "2020-05-29T22:44:20.895341Z",
     "start_time": "2020-05-29T22:44:20.735087Z"
    }
   },
   "outputs": [
    {
     "data": {
      "image/png": "[encoded data removed]",
      "text/plain": [
       "<Figure size 432x288 with 1 Axes>"
      ]
     },
     "metadata": {
      "needs_background": "light"
     },
     "output_type": "display_data"
    }
   ],
   "source": [
    "ax_temp_diff_stat=df_temp_diff_stat.plot()\n",
    "_=ax_temp_diff_stat.set_ylabel('$\\\\Delta T_2$ ($^{\\\\circ}}$C)')\n",
    "_=ax_temp_diff_stat.set_xlabel('$\\\\Delta T_{a}$ ($^{\\\\circ}}$C)')\n",
    "ax_temp_diff_stat.set_aspect('equal')"
   ]
  },
  {
   "cell_type": "markdown",
   "metadata": {},
   "source": [
    "The $T_{2}$ results indicate the increased $T_{a}$ has different impacts on the $T_{2}$ metrics (minimum, mean and maximum) but all increase linearly with $T_{a}.$ The maximum $T_{2}$ has the stronger response compared to the other metrics."
   ]
  }
 ],
 "metadata": {
  "file_extension": ".py",
  "hide_input": false,
  "kernelspec": {
   "display_name": "Python 3.8.0 64-bit",
   "language": "python",
   "name": "python380supy"
  },
  "language_info": {
   "codemirror_mode": {
    "name": "ipython",
    "version": 3
   },
   "file_extension": ".py",
   "mimetype": "text/x-python",
   "name": "python",
   "nbconvert_exporter": "python",
   "pygments_lexer": "ipython3",
   "version": "3.8.0"
  },
  "mimetype": "text/x-python",
  "name": "python",
  "npconvert_exporter": "python",
  "pygments_lexer": "ipython3",
  "toc": {
   "base_numbering": 1,
   "nav_menu": {
    "height": "198px",
    "width": "164px"
   },
   "number_sections": true,
   "sideBar": true,
   "skip_h1_title": true,
   "title_cell": "Table of Contents",
   "title_sidebar": "Contents",
   "toc_cell": false,
   "toc_position": {},
   "toc_section_display": true,
   "toc_window_display": true
  },
  "varInspector": {
   "cols": {
    "lenName": 16,
    "lenType": 16,
    "lenVar": 40
   },
   "kernels_config": {
    "python": {
     "delete_cmd_postfix": "",
     "delete_cmd_prefix": "del ",
     "library": "var_list.py",
     "varRefreshCmd": "print(var_dic_list())"
    },
    "r": {
     "delete_cmd_postfix": ") ",
     "delete_cmd_prefix": "rm(",
     "library": "var_list.r",
     "varRefreshCmd": "cat(var_dic_list()) "
    }
   },
   "types_to_exclude": [
    "module",
    "function",
    "builtin_function_or_method",
    "instance",
    "_Feature"
   ],
   "window_display": false
  },
  "version": 3
 },
 "nbformat": 4,
 "nbformat_minor": 2
}
