{
 "cells": [
  {
   "cell_type": "markdown",
   "metadata": {},
   "source": [
    "# Impact Studies Using SuPy in Parallel Mode"
   ]
  },
  {
   "cell_type": "markdown",
   "metadata": {},
   "source": [
    "## Aim"
   ]
  },
  {
   "cell_type": "markdown",
   "metadata": {},
   "source": [
    "In this tutorial, we aim to perform sensitivity analysis using `supy` in a parallel mode to investigate the impacts on urban climate of\n",
    "\n",
    "1. surface properties: the physical attributes of land covers (e.g., albedo, water holding capacity, etc.)\n",
    "2. background climate: longterm meteorological conditions (e.g., air temperature, precipitation, etc.)\n",
    "\n"
   ]
  },
  {
   "cell_type": "markdown",
   "metadata": {},
   "source": [
    "## Prepare `supy` for the parallel mode"
   ]
  },
  {
   "cell_type": "markdown",
   "metadata": {},
   "source": [
    "### load `supy` and sample dataset"
   ]
  },
  {
   "cell_type": "code",
   "execution_count": 1,
   "metadata": {
    "ExecuteTime": {
     "end_time": "2019-01-02T15:19:39.933441Z",
     "start_time": "2019-01-02T15:19:39.115382Z"
    }
   },
   "outputs": [
    {
     "name": "stdout",
     "output_type": "stream",
     "text": [
      "version info:\n",
      "supy: 2019.1.1\n",
      "supy_driver: 2018b20\n"
     ]
    }
   ],
   "source": [
    "from dask import delayed\n",
    "from dask import dataframe as dd\n",
    "import os\n",
    "import supy as sp\n",
    "import seaborn as sns\n",
    "import pandas as pd\n",
    "import numpy as np\n",
    "import matplotlib.pyplot as plt\n",
    "import matplotlib.dates as mdates\n",
    "from time import time\n",
    "\n",
    "get_ipython().run_line_magic('matplotlib', 'inline')\n",
    "print('version info:')\n",
    "print('supy:', sp.__version__)\n",
    "print('supy_driver:', sp.__version_driver__)\n",
    "\n"
   ]
  },
  {
   "cell_type": "code",
   "execution_count": 2,
   "metadata": {
    "ExecuteTime": {
     "end_time": "2019-01-02T15:19:57.947736Z",
     "start_time": "2019-01-02T15:19:39.934991Z"
    }
   },
   "outputs": [],
   "source": [
    "# load sample datasets\n",
    "df_state_init, df_forcing = sp.load_SampleData()\n",
    "# perform an example run to get output samples for later use\n",
    "df_output, df_state_final = sp.run_supy(df_forcing, df_state_init)"
   ]
  },
  {
   "cell_type": "markdown",
   "metadata": {},
   "source": [
    "### Paralell setup for `supy` using `dask`"
   ]
  },
  {
   "cell_type": "markdown",
   "metadata": {},
   "source": [
    "In addition to the above packages, we also load `dask` to enable `supy` run in a parallel mode. Specifically, we will use [`dask.dataframe`](http://docs.dask.org/en/latest/dataframe.html), a specialised `dataframe` extending `pandas.DataFrame`'s ability in parallel operations, to implement a parallel `supy` for the impact studies in this tutorial."
   ]
  },
  {
   "cell_type": "markdown",
   "metadata": {},
   "source": [
    "Given the nature of impact studies that requires multiple independent models with selected parameters/variables varying across the setups, such simulations well fall into the scope of so-called [*embarrassingly parallel computation*](http://docs.dask.org/en/latest/use-cases.html#embarrassingly-parallel-computation) that is fully supported by `dask`. Also, as `supy` is readily built on the data structure `pandas.DataFrame`, we can fairly easily transfer it to the `dask` framework for parallel operations.\n",
    "\n",
    "Internally, for a given forcing dataset `df_forcing`, `supy` loops over the grids in a `df_state_init` to conduct simulations. In this case, we can adapt the `df_state_init` to a `dask`-ed version to gain the parallel benifits through its parallelised `apply` method.\n",
    "\n",
    "`dask.dataframe` essentially divides the work into pieces for parallel operations. As such, depending on the number of processors in your computer, it would be more efficient to set the partition number as the multipliers of CPU numbers."
   ]
  },
  {
   "cell_type": "code",
   "execution_count": 3,
   "metadata": {
    "ExecuteTime": {
     "end_time": "2019-01-02T15:19:57.952324Z",
     "start_time": "2019-01-02T15:19:57.949648Z"
    }
   },
   "outputs": [
    {
     "name": "stdout",
     "output_type": "stream",
     "text": [
      "12\n"
     ]
    }
   ],
   "source": [
    "print(os.cpu_count())\n"
   ]
  },
  {
   "cell_type": "markdown",
   "metadata": {},
   "source": [
    "To demonstrate the parallelisation, we simply duplicate the contents in `df_state_init` to make it seemingly large. Note we intentionally choose `24` as the number for copies to accompany the power of CPU.\n",
    "\n",
    "Before we move on to the paralell mode, we perform a simulation in the traditional serial way to see the baseline performance."
   ]
  },
  {
   "cell_type": "markdown",
   "metadata": {},
   "source": [
    "#### Baseline serial  run"
   ]
  },
  {
   "cell_type": "code",
   "execution_count": 4,
   "metadata": {
    "ExecuteTime": {
     "end_time": "2019-01-02T15:20:28.391181Z",
     "start_time": "2019-01-02T15:19:57.954095Z"
    }
   },
   "outputs": [
    {
     "name": "stdout",
     "output_type": "stream",
     "text": [
      "Execution time: 30.42 s\n"
     ]
    }
   ],
   "source": [
    "# just run for 30 days\n",
    "df_forcing_part = df_forcing.iloc[:288*30]\n",
    "df_state_init_mgrids = df_state_init.copy()\n",
    "# construct a multi-grid `df_state_init`\n",
    "for i in range(24-1):\n",
    "    df_state_init_mgrids = df_state_init_mgrids.append(\n",
    "        df_state_init, ignore_index=True)\n",
    "# perform a serial run\n",
    "t0 = time()\n",
    "xx = sp.run_supy(df_forcing_part, df_state_init_mgrids)\n",
    "t1 = time()\n",
    "t_ser = t1-t0\n",
    "print(f'Execution time: {t_ser:.2f} s')\n"
   ]
  },
  {
   "cell_type": "markdown",
   "metadata": {},
   "source": [
    "#### Parallel  run"
   ]
  },
  {
   "cell_type": "code",
   "execution_count": 5,
   "metadata": {
    "ExecuteTime": {
     "end_time": "2019-01-02T15:20:35.680310Z",
     "start_time": "2019-01-02T15:20:28.392925Z"
    }
   },
   "outputs": [
    {
     "name": "stdout",
     "output_type": "stream",
     "text": [
      "Execution time: 7.25 s\n"
     ]
    },
    {
     "data": {
      "text/html": [
       "<div>\n",
       "<style scoped>\n",
       "    .dataframe tbody tr th:only-of-type {\n",
       "        vertical-align: middle;\n",
       "    }\n",
       "\n",
       "    .dataframe tbody tr th {\n",
       "        vertical-align: top;\n",
       "    }\n",
       "\n",
       "    .dataframe thead tr th {\n",
       "        text-align: left;\n",
       "    }\n",
       "\n",
       "    .dataframe thead tr:last-of-type th {\n",
       "        text-align: right;\n",
       "    }\n",
       "</style>\n",
       "<table border=\"1\" class=\"dataframe\">\n",
       "  <thead>\n",
       "    <tr>\n",
       "      <th></th>\n",
       "      <th>group</th>\n",
       "      <th colspan=\"10\" halign=\"left\">SUEWS</th>\n",
       "      <th>...</th>\n",
       "      <th colspan=\"10\" halign=\"left\">DailyState</th>\n",
       "    </tr>\n",
       "    <tr>\n",
       "      <th></th>\n",
       "      <th>var</th>\n",
       "      <th>Kdown</th>\n",
       "      <th>Kup</th>\n",
       "      <th>Ldown</th>\n",
       "      <th>Lup</th>\n",
       "      <th>Tsurf</th>\n",
       "      <th>QN</th>\n",
       "      <th>QF</th>\n",
       "      <th>QS</th>\n",
       "      <th>QH</th>\n",
       "      <th>QE</th>\n",
       "      <th>...</th>\n",
       "      <th>DensSnow_Paved</th>\n",
       "      <th>DensSnow_Bldgs</th>\n",
       "      <th>DensSnow_EveTr</th>\n",
       "      <th>DensSnow_DecTr</th>\n",
       "      <th>DensSnow_Grass</th>\n",
       "      <th>DensSnow_BSoil</th>\n",
       "      <th>DensSnow_Water</th>\n",
       "      <th>a1</th>\n",
       "      <th>a2</th>\n",
       "      <th>a3</th>\n",
       "    </tr>\n",
       "    <tr>\n",
       "      <th>grid</th>\n",
       "      <th>datetime</th>\n",
       "      <th></th>\n",
       "      <th></th>\n",
       "      <th></th>\n",
       "      <th></th>\n",
       "      <th></th>\n",
       "      <th></th>\n",
       "      <th></th>\n",
       "      <th></th>\n",
       "      <th></th>\n",
       "      <th></th>\n",
       "      <th></th>\n",
       "      <th></th>\n",
       "      <th></th>\n",
       "      <th></th>\n",
       "      <th></th>\n",
       "      <th></th>\n",
       "      <th></th>\n",
       "      <th></th>\n",
       "      <th></th>\n",
       "      <th></th>\n",
       "      <th></th>\n",
       "    </tr>\n",
       "  </thead>\n",
       "  <tbody>\n",
       "    <tr>\n",
       "      <th rowspan=\"5\" valign=\"top\">0</th>\n",
       "      <th>2012-01-01 00:05:00</th>\n",
       "      <td>0.153333</td>\n",
       "      <td>0.0184</td>\n",
       "      <td>344.310184</td>\n",
       "      <td>372.270369</td>\n",
       "      <td>11.775916</td>\n",
       "      <td>-27.825251</td>\n",
       "      <td>0.0</td>\n",
       "      <td>-59.305405</td>\n",
       "      <td>31.480154</td>\n",
       "      <td>0.0</td>\n",
       "      <td>...</td>\n",
       "      <td>NaN</td>\n",
       "      <td>NaN</td>\n",
       "      <td>NaN</td>\n",
       "      <td>NaN</td>\n",
       "      <td>NaN</td>\n",
       "      <td>NaN</td>\n",
       "      <td>NaN</td>\n",
       "      <td>NaN</td>\n",
       "      <td>NaN</td>\n",
       "      <td>NaN</td>\n",
       "    </tr>\n",
       "    <tr>\n",
       "      <th>2012-01-01 00:10:00</th>\n",
       "      <td>0.153333</td>\n",
       "      <td>0.0184</td>\n",
       "      <td>344.310184</td>\n",
       "      <td>372.270369</td>\n",
       "      <td>11.775916</td>\n",
       "      <td>-27.825251</td>\n",
       "      <td>0.0</td>\n",
       "      <td>-59.305405</td>\n",
       "      <td>31.480154</td>\n",
       "      <td>0.0</td>\n",
       "      <td>...</td>\n",
       "      <td>NaN</td>\n",
       "      <td>NaN</td>\n",
       "      <td>NaN</td>\n",
       "      <td>NaN</td>\n",
       "      <td>NaN</td>\n",
       "      <td>NaN</td>\n",
       "      <td>NaN</td>\n",
       "      <td>NaN</td>\n",
       "      <td>NaN</td>\n",
       "      <td>NaN</td>\n",
       "    </tr>\n",
       "    <tr>\n",
       "      <th>2012-01-01 00:15:00</th>\n",
       "      <td>0.153333</td>\n",
       "      <td>0.0184</td>\n",
       "      <td>344.310184</td>\n",
       "      <td>372.270369</td>\n",
       "      <td>11.775916</td>\n",
       "      <td>-27.825251</td>\n",
       "      <td>0.0</td>\n",
       "      <td>-59.305405</td>\n",
       "      <td>31.480154</td>\n",
       "      <td>0.0</td>\n",
       "      <td>...</td>\n",
       "      <td>NaN</td>\n",
       "      <td>NaN</td>\n",
       "      <td>NaN</td>\n",
       "      <td>NaN</td>\n",
       "      <td>NaN</td>\n",
       "      <td>NaN</td>\n",
       "      <td>NaN</td>\n",
       "      <td>NaN</td>\n",
       "      <td>NaN</td>\n",
       "      <td>NaN</td>\n",
       "    </tr>\n",
       "    <tr>\n",
       "      <th>2012-01-01 00:20:00</th>\n",
       "      <td>0.153333</td>\n",
       "      <td>0.0184</td>\n",
       "      <td>344.310184</td>\n",
       "      <td>372.270369</td>\n",
       "      <td>11.775916</td>\n",
       "      <td>-27.825251</td>\n",
       "      <td>0.0</td>\n",
       "      <td>-59.305405</td>\n",
       "      <td>31.480154</td>\n",
       "      <td>0.0</td>\n",
       "      <td>...</td>\n",
       "      <td>NaN</td>\n",
       "      <td>NaN</td>\n",
       "      <td>NaN</td>\n",
       "      <td>NaN</td>\n",
       "      <td>NaN</td>\n",
       "      <td>NaN</td>\n",
       "      <td>NaN</td>\n",
       "      <td>NaN</td>\n",
       "      <td>NaN</td>\n",
       "      <td>NaN</td>\n",
       "    </tr>\n",
       "    <tr>\n",
       "      <th>2012-01-01 00:25:00</th>\n",
       "      <td>0.153333</td>\n",
       "      <td>0.0184</td>\n",
       "      <td>344.310184</td>\n",
       "      <td>372.270369</td>\n",
       "      <td>11.775916</td>\n",
       "      <td>-27.825251</td>\n",
       "      <td>0.0</td>\n",
       "      <td>-59.305405</td>\n",
       "      <td>31.480154</td>\n",
       "      <td>0.0</td>\n",
       "      <td>...</td>\n",
       "      <td>NaN</td>\n",
       "      <td>NaN</td>\n",
       "      <td>NaN</td>\n",
       "      <td>NaN</td>\n",
       "      <td>NaN</td>\n",
       "      <td>NaN</td>\n",
       "      <td>NaN</td>\n",
       "      <td>NaN</td>\n",
       "      <td>NaN</td>\n",
       "      <td>NaN</td>\n",
       "    </tr>\n",
       "  </tbody>\n",
       "</table>\n",
       "<p>5 rows × 218 columns</p>\n",
       "</div>"
      ],
      "text/plain": [
       "group                        SUEWS                                             \\\n",
       "var                          Kdown     Kup       Ldown         Lup      Tsurf   \n",
       "grid datetime                                                                   \n",
       "0    2012-01-01 00:05:00  0.153333  0.0184  344.310184  372.270369  11.775916   \n",
       "     2012-01-01 00:10:00  0.153333  0.0184  344.310184  372.270369  11.775916   \n",
       "     2012-01-01 00:15:00  0.153333  0.0184  344.310184  372.270369  11.775916   \n",
       "     2012-01-01 00:20:00  0.153333  0.0184  344.310184  372.270369  11.775916   \n",
       "     2012-01-01 00:25:00  0.153333  0.0184  344.310184  372.270369  11.775916   \n",
       "\n",
       "group                                                               ...  \\\n",
       "var                              QN   QF         QS         QH   QE ...   \n",
       "grid datetime                                                       ...   \n",
       "0    2012-01-01 00:05:00 -27.825251  0.0 -59.305405  31.480154  0.0 ...   \n",
       "     2012-01-01 00:10:00 -27.825251  0.0 -59.305405  31.480154  0.0 ...   \n",
       "     2012-01-01 00:15:00 -27.825251  0.0 -59.305405  31.480154  0.0 ...   \n",
       "     2012-01-01 00:20:00 -27.825251  0.0 -59.305405  31.480154  0.0 ...   \n",
       "     2012-01-01 00:25:00 -27.825251  0.0 -59.305405  31.480154  0.0 ...   \n",
       "\n",
       "group                        DailyState                                \\\n",
       "var                      DensSnow_Paved DensSnow_Bldgs DensSnow_EveTr   \n",
       "grid datetime                                                           \n",
       "0    2012-01-01 00:05:00            NaN            NaN            NaN   \n",
       "     2012-01-01 00:10:00            NaN            NaN            NaN   \n",
       "     2012-01-01 00:15:00            NaN            NaN            NaN   \n",
       "     2012-01-01 00:20:00            NaN            NaN            NaN   \n",
       "     2012-01-01 00:25:00            NaN            NaN            NaN   \n",
       "\n",
       "group                                                                  \\\n",
       "var                      DensSnow_DecTr DensSnow_Grass DensSnow_BSoil   \n",
       "grid datetime                                                           \n",
       "0    2012-01-01 00:05:00            NaN            NaN            NaN   \n",
       "     2012-01-01 00:10:00            NaN            NaN            NaN   \n",
       "     2012-01-01 00:15:00            NaN            NaN            NaN   \n",
       "     2012-01-01 00:20:00            NaN            NaN            NaN   \n",
       "     2012-01-01 00:25:00            NaN            NaN            NaN   \n",
       "\n",
       "group                                                \n",
       "var                      DensSnow_Water  a1  a2  a3  \n",
       "grid datetime                                        \n",
       "0    2012-01-01 00:05:00            NaN NaN NaN NaN  \n",
       "     2012-01-01 00:10:00            NaN NaN NaN NaN  \n",
       "     2012-01-01 00:15:00            NaN NaN NaN NaN  \n",
       "     2012-01-01 00:20:00            NaN NaN NaN NaN  \n",
       "     2012-01-01 00:25:00            NaN NaN NaN NaN  \n",
       "\n",
       "[5 rows x 218 columns]"
      ]
     },
     "execution_count": 5,
     "metadata": {},
     "output_type": "execute_result"
    }
   ],
   "source": [
    "# convert `pandas.DataFrame` to `dask.dataframe` to enable parallelisation\n",
    "dd_state_init = dd.from_pandas(\n",
    "    df_state_init_mgrids,\n",
    "    npartitions=os.cpu_count()*2)\n",
    "\n",
    "# perform a parallel run using `map_partitions`\n",
    "t0 = time()\n",
    "xx_mp = dd_state_init    .map_partitions(\n",
    "        lambda x: sp.run_supy(df_forcing_part, x)[0],\n",
    "        meta=df_output)\\\n",
    "    .compute(scheduler='processes')\n",
    "t1 = time()\n",
    "t_par = t1-t0\n",
    "print(f'Execution time: {t_par:.2f} s')\n",
    "xx_mp.head()\n",
    "\n"
   ]
  },
  {
   "cell_type": "code",
   "execution_count": 6,
   "metadata": {
    "ExecuteTime": {
     "end_time": "2019-01-02T15:20:46.204102Z",
     "start_time": "2019-01-02T15:20:35.683124Z"
    }
   },
   "outputs": [
    {
     "name": "stdout",
     "output_type": "stream",
     "text": [
      "Execution time: 10.42 s\n"
     ]
    },
    {
     "data": {
      "text/plain": [
       "0    group                        SUEWS            ...\n",
       "1    group                        SUEWS            ...\n",
       "2    group                        SUEWS            ...\n",
       "3    group                        SUEWS            ...\n",
       "4    group                        SUEWS            ...\n",
       "Name: (1, 2012-01-01 00:05:00), dtype: object"
      ]
     },
     "execution_count": 6,
     "metadata": {},
     "output_type": "execute_result"
    }
   ],
   "source": [
    "# perform a parallel run using `apply`\n",
    "t0 = time()\n",
    "xx_apply = dd_state_init    .apply(\n",
    "        lambda x: sp.run_supy(df_forcing_part, x.to_frame().T)[0],\n",
    "        axis=1,\n",
    "        meta=df_output.iloc[0])\\\n",
    "    .compute(scheduler='processes')\n",
    "t1 = time()\n",
    "t_par = t1-t0\n",
    "print(f'Execution time: {t_par:.2f} s')\n",
    "# note the difference in resulted data structure between `xx_apply` and `xx_mp`\n",
    "xx_apply.head()\n"
   ]
  },
  {
   "cell_type": "markdown",
   "metadata": {},
   "source": [
    "#### wrap up the above code into a function for easier use in multi-grid simulations\n"
   ]
  },
  {
   "cell_type": "code",
   "execution_count": 7,
   "metadata": {
    "ExecuteTime": {
     "end_time": "2019-01-02T15:20:46.210822Z",
     "start_time": "2019-01-02T15:20:46.206843Z"
    }
   },
   "outputs": [],
   "source": [
    "# function for multi-grid `run_supy` using map_partitions for better performance\n",
    "def run_supy_mgrids(df_state_init_mgrids, df_forcing):\n",
    "    dd_state_init = dd.from_pandas(\n",
    "        df_state_init_mgrids,\n",
    "        npartitions=os.cpu_count()*2)\n",
    "    df_output_mgrids = dd_state_init        .map_partitions(\n",
    "            lambda x: sp.run_supy(df_forcing, x)[0],\n",
    "            meta=df_output)\\\n",
    "        .compute(scheduler='processes')\n",
    "    return df_output_mgrids\n"
   ]
  },
  {
   "cell_type": "markdown",
   "metadata": {},
   "source": [
    "## Surface properties"
   ]
  },
  {
   "cell_type": "markdown",
   "metadata": {},
   "source": [
    "### Surface albedo"
   ]
  },
  {
   "cell_type": "markdown",
   "metadata": {},
   "source": [
    "#### Let's examine the default albedo values loaded from the sample dataset"
   ]
  },
  {
   "cell_type": "code",
   "execution_count": 8,
   "metadata": {
    "ExecuteTime": {
     "end_time": "2019-01-02T15:20:46.224588Z",
     "start_time": "2019-01-02T15:20:46.213143Z"
    }
   },
   "outputs": [
    {
     "data": {
      "text/html": [
       "<div>\n",
       "<style scoped>\n",
       "    .dataframe tbody tr th:only-of-type {\n",
       "        vertical-align: middle;\n",
       "    }\n",
       "\n",
       "    .dataframe tbody tr th {\n",
       "        vertical-align: top;\n",
       "    }\n",
       "\n",
       "    .dataframe thead th {\n",
       "        text-align: right;\n",
       "    }\n",
       "</style>\n",
       "<table border=\"1\" class=\"dataframe\">\n",
       "  <thead>\n",
       "    <tr style=\"text-align: right;\">\n",
       "      <th>ind_dim</th>\n",
       "      <th>(0,)</th>\n",
       "      <th>(1,)</th>\n",
       "      <th>(2,)</th>\n",
       "      <th>(3,)</th>\n",
       "      <th>(4,)</th>\n",
       "      <th>(5,)</th>\n",
       "      <th>(6,)</th>\n",
       "    </tr>\n",
       "    <tr>\n",
       "      <th>grid</th>\n",
       "      <th></th>\n",
       "      <th></th>\n",
       "      <th></th>\n",
       "      <th></th>\n",
       "      <th></th>\n",
       "      <th></th>\n",
       "      <th></th>\n",
       "    </tr>\n",
       "  </thead>\n",
       "  <tbody>\n",
       "    <tr>\n",
       "      <th>1</th>\n",
       "      <td>0.12</td>\n",
       "      <td>0.15</td>\n",
       "      <td>0.12</td>\n",
       "      <td>0.18</td>\n",
       "      <td>0.21</td>\n",
       "      <td>0.21</td>\n",
       "      <td>0.1</td>\n",
       "    </tr>\n",
       "  </tbody>\n",
       "</table>\n",
       "</div>"
      ],
      "text/plain": [
       "ind_dim  (0,)  (1,)  (2,)  (3,)  (4,)  (5,)  (6,)\n",
       "grid                                             \n",
       "1        0.12  0.15  0.12  0.18  0.21  0.21   0.1"
      ]
     },
     "execution_count": 8,
     "metadata": {},
     "output_type": "execute_result"
    }
   ],
   "source": [
    "df_state_init.alb\n"
   ]
  },
  {
   "cell_type": "markdown",
   "metadata": {},
   "source": [
    "#### Copy the initial condition `DataFrame`  to have a *clean slate* for our study\n",
    "\n",
    "*Note: `DataFrame.copy()` defaults to `deepcopy`*"
   ]
  },
  {
   "cell_type": "code",
   "execution_count": 9,
   "metadata": {
    "ExecuteTime": {
     "end_time": "2019-01-02T15:20:46.229114Z",
     "start_time": "2019-01-02T15:20:46.226744Z"
    }
   },
   "outputs": [],
   "source": [
    "df_state_init_test = df_state_init.copy()\n"
   ]
  },
  {
   "cell_type": "markdown",
   "metadata": {},
   "source": [
    "#### Set the `Bldg` land cover to 100% for this study"
   ]
  },
  {
   "cell_type": "code",
   "execution_count": 10,
   "metadata": {
    "ExecuteTime": {
     "end_time": "2019-01-02T15:20:46.241148Z",
     "start_time": "2019-01-02T15:20:46.230568Z"
    }
   },
   "outputs": [
    {
     "data": {
      "text/html": [
       "<div>\n",
       "<style scoped>\n",
       "    .dataframe tbody tr th:only-of-type {\n",
       "        vertical-align: middle;\n",
       "    }\n",
       "\n",
       "    .dataframe tbody tr th {\n",
       "        vertical-align: top;\n",
       "    }\n",
       "\n",
       "    .dataframe thead th {\n",
       "        text-align: right;\n",
       "    }\n",
       "</style>\n",
       "<table border=\"1\" class=\"dataframe\">\n",
       "  <thead>\n",
       "    <tr style=\"text-align: right;\">\n",
       "      <th>ind_dim</th>\n",
       "      <th>(0,)</th>\n",
       "      <th>(1,)</th>\n",
       "      <th>(2,)</th>\n",
       "      <th>(3,)</th>\n",
       "      <th>(4,)</th>\n",
       "      <th>(5,)</th>\n",
       "      <th>(6,)</th>\n",
       "    </tr>\n",
       "    <tr>\n",
       "      <th>grid</th>\n",
       "      <th></th>\n",
       "      <th></th>\n",
       "      <th></th>\n",
       "      <th></th>\n",
       "      <th></th>\n",
       "      <th></th>\n",
       "      <th></th>\n",
       "    </tr>\n",
       "  </thead>\n",
       "  <tbody>\n",
       "    <tr>\n",
       "      <th>1</th>\n",
       "      <td>0</td>\n",
       "      <td>1</td>\n",
       "      <td>0</td>\n",
       "      <td>0</td>\n",
       "      <td>0</td>\n",
       "      <td>0</td>\n",
       "      <td>0</td>\n",
       "    </tr>\n",
       "  </tbody>\n",
       "</table>\n",
       "</div>"
      ],
      "text/plain": [
       "ind_dim  (0,)  (1,)  (2,)  (3,)  (4,)  (5,)  (6,)\n",
       "grid                                             \n",
       "1           0     1     0     0     0     0     0"
      ]
     },
     "execution_count": 10,
     "metadata": {},
     "output_type": "execute_result"
    }
   ],
   "source": [
    "df_state_init_test.sfr = 0\n",
    "df_state_init_test.loc[:, ('sfr', '(1,)')] = 1\n",
    "df_state_init_test.sfr\n"
   ]
  },
  {
   "cell_type": "markdown",
   "metadata": {},
   "source": [
    "#### Construct a `df_state_init_x` dataframe to perform `supy` simulation with specified albedo"
   ]
  },
  {
   "cell_type": "code",
   "execution_count": 11,
   "metadata": {
    "ExecuteTime": {
     "end_time": "2019-01-02T15:20:46.253141Z",
     "start_time": "2019-01-02T15:20:46.242752Z"
    }
   },
   "outputs": [],
   "source": [
    "n_test = 24\n",
    "list_alb_test = np.linspace(0.1, 0.8, n_test).round(2)\n",
    "df_state_init_x = df_state_init_test.append(\n",
    "    [df_state_init_test]*(n_test-1), ignore_index=True)\n",
    "df_state_init_x.loc[:, ('alb', '(1,)')] = list_alb_test\n"
   ]
  },
  {
   "cell_type": "markdown",
   "metadata": {},
   "source": [
    "#### Conduct simulations with `supy`"
   ]
  },
  {
   "cell_type": "code",
   "execution_count": 12,
   "metadata": {
    "ExecuteTime": {
     "end_time": "2019-01-02T15:20:53.389034Z",
     "start_time": "2019-01-02T15:20:46.254820Z"
    }
   },
   "outputs": [
    {
     "data": {
      "text/html": [
       "<div>\n",
       "<style scoped>\n",
       "    .dataframe tbody tr th:only-of-type {\n",
       "        vertical-align: middle;\n",
       "    }\n",
       "\n",
       "    .dataframe tbody tr th {\n",
       "        vertical-align: top;\n",
       "    }\n",
       "\n",
       "    .dataframe thead tr th {\n",
       "        text-align: left;\n",
       "    }\n",
       "\n",
       "    .dataframe thead tr:last-of-type th {\n",
       "        text-align: right;\n",
       "    }\n",
       "</style>\n",
       "<table border=\"1\" class=\"dataframe\">\n",
       "  <thead>\n",
       "    <tr>\n",
       "      <th></th>\n",
       "      <th>group</th>\n",
       "      <th colspan=\"10\" halign=\"left\">SUEWS</th>\n",
       "      <th>...</th>\n",
       "      <th colspan=\"10\" halign=\"left\">DailyState</th>\n",
       "    </tr>\n",
       "    <tr>\n",
       "      <th></th>\n",
       "      <th>var</th>\n",
       "      <th>Kdown</th>\n",
       "      <th>Kup</th>\n",
       "      <th>Ldown</th>\n",
       "      <th>Lup</th>\n",
       "      <th>Tsurf</th>\n",
       "      <th>QN</th>\n",
       "      <th>QF</th>\n",
       "      <th>QS</th>\n",
       "      <th>QH</th>\n",
       "      <th>QE</th>\n",
       "      <th>...</th>\n",
       "      <th>DensSnow_Paved</th>\n",
       "      <th>DensSnow_Bldgs</th>\n",
       "      <th>DensSnow_EveTr</th>\n",
       "      <th>DensSnow_DecTr</th>\n",
       "      <th>DensSnow_Grass</th>\n",
       "      <th>DensSnow_BSoil</th>\n",
       "      <th>DensSnow_Water</th>\n",
       "      <th>a1</th>\n",
       "      <th>a2</th>\n",
       "      <th>a3</th>\n",
       "    </tr>\n",
       "    <tr>\n",
       "      <th>grid</th>\n",
       "      <th>datetime</th>\n",
       "      <th></th>\n",
       "      <th></th>\n",
       "      <th></th>\n",
       "      <th></th>\n",
       "      <th></th>\n",
       "      <th></th>\n",
       "      <th></th>\n",
       "      <th></th>\n",
       "      <th></th>\n",
       "      <th></th>\n",
       "      <th></th>\n",
       "      <th></th>\n",
       "      <th></th>\n",
       "      <th></th>\n",
       "      <th></th>\n",
       "      <th></th>\n",
       "      <th></th>\n",
       "      <th></th>\n",
       "      <th></th>\n",
       "      <th></th>\n",
       "      <th></th>\n",
       "    </tr>\n",
       "  </thead>\n",
       "  <tbody>\n",
       "    <tr>\n",
       "      <th rowspan=\"5\" valign=\"top\">0</th>\n",
       "      <th>2012-07-01 00:00:00</th>\n",
       "      <td>0.0</td>\n",
       "      <td>0.0</td>\n",
       "      <td>343.371100</td>\n",
       "      <td>380.097776</td>\n",
       "      <td>13.660833</td>\n",
       "      <td>-36.726676</td>\n",
       "      <td>0.0</td>\n",
       "      <td>-33.282094</td>\n",
       "      <td>-3.444582</td>\n",
       "      <td>0.0</td>\n",
       "      <td>...</td>\n",
       "      <td>NaN</td>\n",
       "      <td>NaN</td>\n",
       "      <td>NaN</td>\n",
       "      <td>NaN</td>\n",
       "      <td>NaN</td>\n",
       "      <td>NaN</td>\n",
       "      <td>NaN</td>\n",
       "      <td>NaN</td>\n",
       "      <td>NaN</td>\n",
       "      <td>NaN</td>\n",
       "    </tr>\n",
       "    <tr>\n",
       "      <th>2012-07-01 00:05:00</th>\n",
       "      <td>0.0</td>\n",
       "      <td>0.0</td>\n",
       "      <td>343.383128</td>\n",
       "      <td>380.090742</td>\n",
       "      <td>13.659167</td>\n",
       "      <td>-36.707614</td>\n",
       "      <td>0.0</td>\n",
       "      <td>-33.275523</td>\n",
       "      <td>-3.432092</td>\n",
       "      <td>0.0</td>\n",
       "      <td>...</td>\n",
       "      <td>NaN</td>\n",
       "      <td>NaN</td>\n",
       "      <td>NaN</td>\n",
       "      <td>NaN</td>\n",
       "      <td>NaN</td>\n",
       "      <td>NaN</td>\n",
       "      <td>NaN</td>\n",
       "      <td>NaN</td>\n",
       "      <td>NaN</td>\n",
       "      <td>NaN</td>\n",
       "    </tr>\n",
       "    <tr>\n",
       "      <th>2012-07-01 00:10:00</th>\n",
       "      <td>0.0</td>\n",
       "      <td>0.0</td>\n",
       "      <td>343.395156</td>\n",
       "      <td>380.083708</td>\n",
       "      <td>13.657500</td>\n",
       "      <td>-36.688552</td>\n",
       "      <td>0.0</td>\n",
       "      <td>-33.268951</td>\n",
       "      <td>-3.419601</td>\n",
       "      <td>0.0</td>\n",
       "      <td>...</td>\n",
       "      <td>NaN</td>\n",
       "      <td>NaN</td>\n",
       "      <td>NaN</td>\n",
       "      <td>NaN</td>\n",
       "      <td>NaN</td>\n",
       "      <td>NaN</td>\n",
       "      <td>NaN</td>\n",
       "      <td>NaN</td>\n",
       "      <td>NaN</td>\n",
       "      <td>NaN</td>\n",
       "    </tr>\n",
       "    <tr>\n",
       "      <th>2012-07-01 00:15:00</th>\n",
       "      <td>0.0</td>\n",
       "      <td>0.0</td>\n",
       "      <td>343.407185</td>\n",
       "      <td>380.076675</td>\n",
       "      <td>13.655833</td>\n",
       "      <td>-36.669490</td>\n",
       "      <td>0.0</td>\n",
       "      <td>-33.262379</td>\n",
       "      <td>-3.407110</td>\n",
       "      <td>0.0</td>\n",
       "      <td>...</td>\n",
       "      <td>NaN</td>\n",
       "      <td>NaN</td>\n",
       "      <td>NaN</td>\n",
       "      <td>NaN</td>\n",
       "      <td>NaN</td>\n",
       "      <td>NaN</td>\n",
       "      <td>NaN</td>\n",
       "      <td>NaN</td>\n",
       "      <td>NaN</td>\n",
       "      <td>NaN</td>\n",
       "    </tr>\n",
       "    <tr>\n",
       "      <th>2012-07-01 00:20:00</th>\n",
       "      <td>0.0</td>\n",
       "      <td>0.0</td>\n",
       "      <td>343.419215</td>\n",
       "      <td>380.069642</td>\n",
       "      <td>13.654167</td>\n",
       "      <td>-36.650427</td>\n",
       "      <td>0.0</td>\n",
       "      <td>-33.255807</td>\n",
       "      <td>-3.394619</td>\n",
       "      <td>0.0</td>\n",
       "      <td>...</td>\n",
       "      <td>NaN</td>\n",
       "      <td>NaN</td>\n",
       "      <td>NaN</td>\n",
       "      <td>NaN</td>\n",
       "      <td>NaN</td>\n",
       "      <td>NaN</td>\n",
       "      <td>NaN</td>\n",
       "      <td>NaN</td>\n",
       "      <td>NaN</td>\n",
       "      <td>NaN</td>\n",
       "    </tr>\n",
       "  </tbody>\n",
       "</table>\n",
       "<p>5 rows × 218 columns</p>\n",
       "</div>"
      ],
      "text/plain": [
       "group                    SUEWS                                          \\\n",
       "var                      Kdown  Kup       Ldown         Lup      Tsurf   \n",
       "grid datetime                                                            \n",
       "0    2012-07-01 00:00:00   0.0  0.0  343.371100  380.097776  13.660833   \n",
       "     2012-07-01 00:05:00   0.0  0.0  343.383128  380.090742  13.659167   \n",
       "     2012-07-01 00:10:00   0.0  0.0  343.395156  380.083708  13.657500   \n",
       "     2012-07-01 00:15:00   0.0  0.0  343.407185  380.076675  13.655833   \n",
       "     2012-07-01 00:20:00   0.0  0.0  343.419215  380.069642  13.654167   \n",
       "\n",
       "group                                                              ...  \\\n",
       "var                              QN   QF         QS        QH   QE ...   \n",
       "grid datetime                                                      ...   \n",
       "0    2012-07-01 00:00:00 -36.726676  0.0 -33.282094 -3.444582  0.0 ...   \n",
       "     2012-07-01 00:05:00 -36.707614  0.0 -33.275523 -3.432092  0.0 ...   \n",
       "     2012-07-01 00:10:00 -36.688552  0.0 -33.268951 -3.419601  0.0 ...   \n",
       "     2012-07-01 00:15:00 -36.669490  0.0 -33.262379 -3.407110  0.0 ...   \n",
       "     2012-07-01 00:20:00 -36.650427  0.0 -33.255807 -3.394619  0.0 ...   \n",
       "\n",
       "group                        DailyState                                \\\n",
       "var                      DensSnow_Paved DensSnow_Bldgs DensSnow_EveTr   \n",
       "grid datetime                                                           \n",
       "0    2012-07-01 00:00:00            NaN            NaN            NaN   \n",
       "     2012-07-01 00:05:00            NaN            NaN            NaN   \n",
       "     2012-07-01 00:10:00            NaN            NaN            NaN   \n",
       "     2012-07-01 00:15:00            NaN            NaN            NaN   \n",
       "     2012-07-01 00:20:00            NaN            NaN            NaN   \n",
       "\n",
       "group                                                                  \\\n",
       "var                      DensSnow_DecTr DensSnow_Grass DensSnow_BSoil   \n",
       "grid datetime                                                           \n",
       "0    2012-07-01 00:00:00            NaN            NaN            NaN   \n",
       "     2012-07-01 00:05:00            NaN            NaN            NaN   \n",
       "     2012-07-01 00:10:00            NaN            NaN            NaN   \n",
       "     2012-07-01 00:15:00            NaN            NaN            NaN   \n",
       "     2012-07-01 00:20:00            NaN            NaN            NaN   \n",
       "\n",
       "group                                                \n",
       "var                      DensSnow_Water  a1  a2  a3  \n",
       "grid datetime                                        \n",
       "0    2012-07-01 00:00:00            NaN NaN NaN NaN  \n",
       "     2012-07-01 00:05:00            NaN NaN NaN NaN  \n",
       "     2012-07-01 00:10:00            NaN NaN NaN NaN  \n",
       "     2012-07-01 00:15:00            NaN NaN NaN NaN  \n",
       "     2012-07-01 00:20:00            NaN NaN NaN NaN  \n",
       "\n",
       "[5 rows x 218 columns]"
      ]
     },
     "execution_count": 12,
     "metadata": {},
     "output_type": "execute_result"
    }
   ],
   "source": [
    "df_forcing_part = df_forcing.loc['2012 07']\n",
    "df_res_alb_test = run_supy_mgrids(\n",
    "    df_state_init_x, df_forcing_part)\n",
    "df_res_alb_test.head()\n",
    "\n"
   ]
  },
  {
   "cell_type": "code",
   "execution_count": 13,
   "metadata": {
    "ExecuteTime": {
     "end_time": "2019-01-02T15:20:53.648102Z",
     "start_time": "2019-01-02T15:20:53.390912Z"
    }
   },
   "outputs": [],
   "source": [
    "ind_alb = df_res_alb_test.index    .set_levels(list_alb_test, level=0)    .set_names('alb', level=0)\n",
    "df_res_alb_test.index = ind_alb\n",
    "df_res_alb_test = df_res_alb_test.SUEWS.unstack(0)\n"
   ]
  },
  {
   "cell_type": "markdown",
   "metadata": {},
   "source": [
    "#### Examine the results"
   ]
  },
  {
   "cell_type": "code",
   "execution_count": 14,
   "metadata": {
    "ExecuteTime": {
     "end_time": "2019-01-02T15:20:54.022135Z",
     "start_time": "2019-01-02T15:20:53.649737Z"
    }
   },
   "outputs": [
    {
     "data": {
      "text/plain": [
       "Text(0.5, 0, 'Albedo')"
      ]
     },
     "execution_count": 14,
     "metadata": {},
     "output_type": "execute_result"
    },
    {
     "data": {
      "image/png": "[encoded data removed]",
      "text/plain": [
       "<Figure size 432x288 with 1 Axes>"
      ]
     },
     "metadata": {},
     "output_type": "display_data"
    }
   ],
   "source": [
    "ax_T2max = df_res_alb_test.T2.describe().loc['max'].rename(\n",
    "    'T2max').plot(ylim=(29, 31.5), color='tab:blue')\n",
    "ax_T2max.set_ylabel('T2$\\mathrm{_{max}}$ ($^\\circ$C)')\n",
    "ax_T2max.set_xlabel('Albedo')\n",
    "\n"
   ]
  },
  {
   "cell_type": "code",
   "execution_count": 15,
   "metadata": {
    "ExecuteTime": {
     "end_time": "2019-01-02T15:20:54.527822Z",
     "start_time": "2019-01-02T15:20:54.024277Z"
    }
   },
   "outputs": [
    {
     "data": {
      "text/plain": [
       "<matplotlib.legend.Legend at 0x12e2c26a0>"
      ]
     },
     "execution_count": 15,
     "metadata": {},
     "output_type": "execute_result"
    },
    {
     "data": {
      "image/png": "[encoded data removed]",
      "text/plain": [
       "<Figure size 432x288 with 1 Axes>"
      ]
     },
     "metadata": {},
     "output_type": "display_data"
    }
   ],
   "source": [
    "fig_T2, ax_T2 = sp.plot_day_clm(\n",
    "    df_res_alb_test.T2.loc['2012 7'].iloc[:, 1:-1:3])\n",
    "ax_T2.set_ylabel('T2 ($^\\circ$C)')\n",
    "ax_T2.set_xlabel('Local Time (HH:MM)')\n",
    "ax_T2.legend(title='albedo')\n"
   ]
  },
  {
   "cell_type": "markdown",
   "metadata": {},
   "source": [
    "### Soil water holding capacity"
   ]
  },
  {
   "cell_type": "markdown",
   "metadata": {},
   "source": [
    "#### Let's examine the default `soilstorecap` related values loaded from the sample dataset"
   ]
  },
  {
   "cell_type": "code",
   "execution_count": 16,
   "metadata": {
    "ExecuteTime": {
     "end_time": "2019-01-02T15:20:54.541181Z",
     "start_time": "2019-01-02T15:20:54.529659Z"
    }
   },
   "outputs": [
    {
     "data": {
      "text/html": [
       "<div>\n",
       "<style scoped>\n",
       "    .dataframe tbody tr th:only-of-type {\n",
       "        vertical-align: middle;\n",
       "    }\n",
       "\n",
       "    .dataframe tbody tr th {\n",
       "        vertical-align: top;\n",
       "    }\n",
       "\n",
       "    .dataframe thead th {\n",
       "        text-align: right;\n",
       "    }\n",
       "</style>\n",
       "<table border=\"1\" class=\"dataframe\">\n",
       "  <thead>\n",
       "    <tr style=\"text-align: right;\">\n",
       "      <th></th>\n",
       "      <th>grid</th>\n",
       "      <th>1</th>\n",
       "    </tr>\n",
       "    <tr>\n",
       "      <th>var</th>\n",
       "      <th>ind_dim</th>\n",
       "      <th></th>\n",
       "    </tr>\n",
       "  </thead>\n",
       "  <tbody>\n",
       "    <tr>\n",
       "      <th rowspan=\"7\" valign=\"top\">soilstore_id</th>\n",
       "      <th>(0,)</th>\n",
       "      <td>150.0</td>\n",
       "    </tr>\n",
       "    <tr>\n",
       "      <th>(1,)</th>\n",
       "      <td>150.0</td>\n",
       "    </tr>\n",
       "    <tr>\n",
       "      <th>(2,)</th>\n",
       "      <td>150.0</td>\n",
       "    </tr>\n",
       "    <tr>\n",
       "      <th>(3,)</th>\n",
       "      <td>150.0</td>\n",
       "    </tr>\n",
       "    <tr>\n",
       "      <th>(4,)</th>\n",
       "      <td>150.0</td>\n",
       "    </tr>\n",
       "    <tr>\n",
       "      <th>(5,)</th>\n",
       "      <td>150.0</td>\n",
       "    </tr>\n",
       "    <tr>\n",
       "      <th>(6,)</th>\n",
       "      <td>0.0</td>\n",
       "    </tr>\n",
       "    <tr>\n",
       "      <th rowspan=\"7\" valign=\"top\">soilstorecap</th>\n",
       "      <th>(0,)</th>\n",
       "      <td>150.0</td>\n",
       "    </tr>\n",
       "    <tr>\n",
       "      <th>(1,)</th>\n",
       "      <td>150.0</td>\n",
       "    </tr>\n",
       "    <tr>\n",
       "      <th>(2,)</th>\n",
       "      <td>150.0</td>\n",
       "    </tr>\n",
       "    <tr>\n",
       "      <th>(3,)</th>\n",
       "      <td>150.0</td>\n",
       "    </tr>\n",
       "    <tr>\n",
       "      <th>(4,)</th>\n",
       "      <td>150.0</td>\n",
       "    </tr>\n",
       "    <tr>\n",
       "      <th>(5,)</th>\n",
       "      <td>150.0</td>\n",
       "    </tr>\n",
       "    <tr>\n",
       "      <th>(6,)</th>\n",
       "      <td>0.0</td>\n",
       "    </tr>\n",
       "  </tbody>\n",
       "</table>\n",
       "</div>"
      ],
      "text/plain": [
       "grid                      1\n",
       "var          ind_dim       \n",
       "soilstore_id (0,)     150.0\n",
       "             (1,)     150.0\n",
       "             (2,)     150.0\n",
       "             (3,)     150.0\n",
       "             (4,)     150.0\n",
       "             (5,)     150.0\n",
       "             (6,)       0.0\n",
       "soilstorecap (0,)     150.0\n",
       "             (1,)     150.0\n",
       "             (2,)     150.0\n",
       "             (3,)     150.0\n",
       "             (4,)     150.0\n",
       "             (5,)     150.0\n",
       "             (6,)       0.0"
      ]
     },
     "execution_count": 16,
     "metadata": {},
     "output_type": "execute_result"
    }
   ],
   "source": [
    "df_state_init.filter(like='soilstore').T\n"
   ]
  },
  {
   "cell_type": "markdown",
   "metadata": {},
   "source": [
    "We can see all the soil stores are saturated at the beginning."
   ]
  },
  {
   "cell_type": "markdown",
   "metadata": {},
   "source": [
    "#### Copy the initial condition `DataFrame`  to have a *clean slate* for our study\n",
    "\n",
    "*Note: `DataFrame.copy()` defaults to `deepcopy`*"
   ]
  },
  {
   "cell_type": "code",
   "execution_count": 17,
   "metadata": {
    "ExecuteTime": {
     "end_time": "2019-01-02T15:20:54.545955Z",
     "start_time": "2019-01-02T15:20:54.543300Z"
    }
   },
   "outputs": [],
   "source": [
    "df_state_init_test = df_state_init.copy()\n"
   ]
  },
  {
   "cell_type": "markdown",
   "metadata": {},
   "source": [
    "#### Set equal cover fractions for this study"
   ]
  },
  {
   "cell_type": "code",
   "execution_count": 18,
   "metadata": {
    "ExecuteTime": {
     "end_time": "2019-01-02T15:20:54.559312Z",
     "start_time": "2019-01-02T15:20:54.547917Z"
    }
   },
   "outputs": [
    {
     "data": {
      "text/html": [
       "<div>\n",
       "<style scoped>\n",
       "    .dataframe tbody tr th:only-of-type {\n",
       "        vertical-align: middle;\n",
       "    }\n",
       "\n",
       "    .dataframe tbody tr th {\n",
       "        vertical-align: top;\n",
       "    }\n",
       "\n",
       "    .dataframe thead th {\n",
       "        text-align: right;\n",
       "    }\n",
       "</style>\n",
       "<table border=\"1\" class=\"dataframe\">\n",
       "  <thead>\n",
       "    <tr style=\"text-align: right;\">\n",
       "      <th>ind_dim</th>\n",
       "      <th>(0,)</th>\n",
       "      <th>(1,)</th>\n",
       "      <th>(2,)</th>\n",
       "      <th>(3,)</th>\n",
       "      <th>(4,)</th>\n",
       "      <th>(5,)</th>\n",
       "      <th>(6,)</th>\n",
       "    </tr>\n",
       "    <tr>\n",
       "      <th>grid</th>\n",
       "      <th></th>\n",
       "      <th></th>\n",
       "      <th></th>\n",
       "      <th></th>\n",
       "      <th></th>\n",
       "      <th></th>\n",
       "      <th></th>\n",
       "    </tr>\n",
       "  </thead>\n",
       "  <tbody>\n",
       "    <tr>\n",
       "      <th>1</th>\n",
       "      <td>0.142857</td>\n",
       "      <td>0.142857</td>\n",
       "      <td>0.142857</td>\n",
       "      <td>0.142857</td>\n",
       "      <td>0.142857</td>\n",
       "      <td>0.142857</td>\n",
       "      <td>0.142857</td>\n",
       "    </tr>\n",
       "  </tbody>\n",
       "</table>\n",
       "</div>"
      ],
      "text/plain": [
       "ind_dim      (0,)      (1,)      (2,)      (3,)      (4,)      (5,)      (6,)\n",
       "grid                                                                         \n",
       "1        0.142857  0.142857  0.142857  0.142857  0.142857  0.142857  0.142857"
      ]
     },
     "execution_count": 18,
     "metadata": {},
     "output_type": "execute_result"
    }
   ],
   "source": [
    "df_state_init_test.sfr = 1/df_state_init_test.sfr.size\n",
    "df_state_init_test.sfr\n"
   ]
  },
  {
   "cell_type": "markdown",
   "metadata": {},
   "source": [
    "#### Construct a `test_soilstorecap` function to perform `supy` simulation with specified `soilstorecap`"
   ]
  },
  {
   "cell_type": "markdown",
   "metadata": {},
   "source": [
    "#### Construct `df_state_init_x` with store capacity values to test"
   ]
  },
  {
   "cell_type": "code",
   "execution_count": 19,
   "metadata": {
    "ExecuteTime": {
     "end_time": "2019-01-02T15:20:54.568871Z",
     "start_time": "2019-01-02T15:20:54.561147Z"
    }
   },
   "outputs": [],
   "source": [
    "n_test = 24\n",
    "list_soilstorecap_test = np.linspace(10, 20, n_test).round(2)\n",
    "df_state_init_x = df_state_init_test.append(\n",
    "    [df_state_init_test]*(n_test-1), ignore_index=True)\n",
    "df_state_init_x.loc[:, 'soilstorecap'] = np.repeat(\n",
    "    [list_soilstorecap_test], 7, axis=0).T\n"
   ]
  },
  {
   "cell_type": "markdown",
   "metadata": {},
   "source": [
    "#### Conduct simulations with `supy`"
   ]
  },
  {
   "cell_type": "code",
   "execution_count": 20,
   "metadata": {
    "ExecuteTime": {
     "end_time": "2019-01-02T15:21:02.311278Z",
     "start_time": "2019-01-02T15:20:54.570256Z"
    }
   },
   "outputs": [],
   "source": [
    "df_forcing_part = df_forcing.loc['2012 07']\n",
    "df_res_soilstorecap_test = run_supy_mgrids(\n",
    "    df_state_init_x, df_forcing_part)\n"
   ]
  },
  {
   "cell_type": "markdown",
   "metadata": {},
   "source": [
    "#### Examine the results"
   ]
  },
  {
   "cell_type": "code",
   "execution_count": 21,
   "metadata": {
    "ExecuteTime": {
     "end_time": "2019-01-02T15:21:02.611841Z",
     "start_time": "2019-01-02T15:21:02.314003Z"
    }
   },
   "outputs": [],
   "source": [
    "ind_soilstorecap = df_res_soilstorecap_test.index    .set_levels(list_soilstorecap_test, level=0)    .set_names('soilstorecap', level=0)\n",
    "df_res_soilstorecap_test.index = ind_soilstorecap\n",
    "df_res_soilstorecap_test = df_res_soilstorecap_test.SUEWS.unstack(0)\n",
    "\n"
   ]
  },
  {
   "cell_type": "code",
   "execution_count": 22,
   "metadata": {
    "ExecuteTime": {
     "end_time": "2019-01-02T15:21:09.000882Z",
     "start_time": "2019-01-02T15:21:02.613695Z"
    }
   },
   "outputs": [
    {
     "data": {
      "text/plain": [
       "<matplotlib.axes._subplots.AxesSubplot at 0x109b8c550>"
      ]
     },
     "execution_count": 22,
     "metadata": {},
     "output_type": "execute_result"
    },
    {
     "data": {
      "image/png": "[encoded data removed]",
      "text/plain": [
       "<Figure size 432x288 with 1 Axes>"
      ]
     },
     "metadata": {},
     "output_type": "display_data"
    }
   ],
   "source": [
    "df_res_soilstorecap_test_stat = df_res_soilstorecap_test.describe()\n",
    "ax_t2m = df_res_soilstorecap_test_stat.loc['max', 'T2'].plot()\n",
    "ax_t2m.set_ylabel('T2 ($^\\circ$C)')\n",
    "ax_t2m.set_xlabel('Soil Store Capacity (mm)')\n",
    "ax_t2m\n",
    "\n"
   ]
  },
  {
   "cell_type": "code",
   "execution_count": 23,
   "metadata": {
    "ExecuteTime": {
     "end_time": "2019-01-02T15:21:09.161257Z",
     "start_time": "2019-01-02T15:21:09.003331Z"
    }
   },
   "outputs": [
    {
     "data": {
      "text/plain": [
       "<matplotlib.axes._subplots.AxesSubplot at 0x12e4fb240>"
      ]
     },
     "execution_count": 23,
     "metadata": {},
     "output_type": "execute_result"
    },
    {
     "data": {
      "image/png": "[encoded data removed]",
      "text/plain": [
       "<Figure size 432x288 with 1 Axes>"
      ]
     },
     "metadata": {},
     "output_type": "display_data"
    }
   ],
   "source": [
    "ax_RO = df_res_soilstorecap_test.RO.sum().plot()\n",
    "ax_RO.set_ylabel('Runoff (mm)')\n",
    "ax_RO.set_xlabel('Soil Store Capacity (mm)')\n",
    "ax_RO\n",
    "\n"
   ]
  },
  {
   "cell_type": "code",
   "execution_count": 24,
   "metadata": {
    "ExecuteTime": {
     "end_time": "2019-01-02T15:21:15.844795Z",
     "start_time": "2019-01-02T15:21:09.163309Z"
    }
   },
   "outputs": [
    {
     "data": {
      "text/plain": [
       "<matplotlib.axes._subplots.AxesSubplot at 0x12e44ffd0>"
      ]
     },
     "execution_count": 24,
     "metadata": {},
     "output_type": "execute_result"
    },
    {
     "data": {
      "image/png": "[encoded data removed]",
      "text/plain": [
       "<Figure size 432x288 with 1 Axes>"
      ]
     },
     "metadata": {},
     "output_type": "display_data"
    }
   ],
   "source": [
    "ax_flux = df_res_soilstorecap_test.describe().loc['mean'].unstack(\n",
    "    0).loc[:, ['QE', 'QH']].plot.area(sort_columns=True)\n",
    "ax_flux.set_ylabel('Flux ($ \\mathrm{W \\ m^{-2}}$)')\n",
    "ax_flux\n"
   ]
  },
  {
   "cell_type": "markdown",
   "metadata": {},
   "source": [
    "## Background climate"
   ]
  },
  {
   "cell_type": "markdown",
   "metadata": {},
   "source": [
    "### Air temperature"
   ]
  },
  {
   "cell_type": "markdown",
   "metadata": {},
   "source": [
    "#### Let's examine the monthly climatology of air temperature loaded from the sample dataset"
   ]
  },
  {
   "cell_type": "code",
   "execution_count": 25,
   "metadata": {
    "ExecuteTime": {
     "end_time": "2019-01-02T15:21:16.052162Z",
     "start_time": "2019-01-02T15:21:15.847281Z"
    }
   },
   "outputs": [
    {
     "data": {
      "text/plain": [
       "<matplotlib.axes._subplots.AxesSubplot at 0x12e4995f8>"
      ]
     },
     "execution_count": 25,
     "metadata": {},
     "output_type": "execute_result"
    },
    {
     "data": {
      "image/png": "[encoded data removed]",
      "text/plain": [
       "<Figure size 432x288 with 1 Axes>"
      ]
     },
     "metadata": {},
     "output_type": "display_data"
    }
   ],
   "source": [
    "df_plot = df_forcing.Tair.iloc[:-1].resample('1m').mean()\n",
    "ax_temp = df_plot.plot.bar(color='tab:blue')\n",
    "ax_temp.set_xticklabels(df_plot.index.strftime('%b'))\n",
    "ax_temp.set_ylabel('Mean Temperature ($^\\circ$C)')\n",
    "ax_temp.set_xlabel('Month')\n",
    "ax_temp\n"
   ]
  },
  {
   "cell_type": "markdown",
   "metadata": {},
   "source": [
    "#### Construct a function to perform parallel `supy` simulation with specified `diff_airtemp_test`: the difference in air temperature between the one used in simulation and loaded from sample dataset.\n",
    "*Note: forcing data `df_forcing` has different data sturcture from `df_state_init`; so we need to modify `run_supy_mgrids` to implement a `run_supy_mclims` for different climate scenarios*"
   ]
  },
  {
   "cell_type": "markdown",
   "metadata": {},
   "source": [
    "Let's start the implementation of `run_supy_mclims` with a small prblem of four forcing groups (i.e., climate scerios), where the air temperatures differ from the baseline scenario with a constant bias."
   ]
  },
  {
   "cell_type": "code",
   "execution_count": 26,
   "metadata": {
    "ExecuteTime": {
     "end_time": "2019-01-02T15:21:16.059364Z",
     "start_time": "2019-01-02T15:21:16.054544Z"
    }
   },
   "outputs": [],
   "source": [
    "df_forcing_part_test = df_forcing.loc['2012 7'].copy()\n",
    "df_state_init_test = df_state_init.copy()\n",
    "\n"
   ]
  },
  {
   "cell_type": "code",
   "execution_count": 27,
   "metadata": {
    "ExecuteTime": {
     "end_time": "2019-01-02T15:21:16.073393Z",
     "start_time": "2019-01-02T15:21:16.061798Z"
    }
   },
   "outputs": [],
   "source": [
    "n_test = 4\n",
    "list_TairDiff_test = np.linspace(0.2, 2, n_test).round(2)\n",
    "dict_df_forcing_x = {\n",
    "    tairdiff: df_forcing_part_test.copy()\n",
    "    for tairdiff in list_TairDiff_test}\n",
    "for tairdiff in dict_df_forcing_x:\n",
    "    dict_df_forcing_x[tairdiff].loc[:, 'Tair'] += tairdiff\n",
    "\n",
    "dd_forcing_x = {\n",
    "    k: delayed(sp.run_supy)(df, df_state_init_test)[0]\n",
    "    for k, df in dict_df_forcing_x.items()}\n",
    "\n",
    "\n",
    "df_res_tairdiff_test0 = delayed(pd.concat)(\n",
    "    dd_forcing_x,\n",
    "    keys=list_TairDiff_test,\n",
    "    names=['tairdiff'],\n",
    ")\n",
    "\n"
   ]
  },
  {
   "cell_type": "code",
   "execution_count": 28,
   "metadata": {
    "ExecuteTime": {
     "end_time": "2019-01-02T15:21:19.791343Z",
     "start_time": "2019-01-02T15:21:16.075337Z"
    }
   },
   "outputs": [
    {
     "name": "stdout",
     "output_type": "stream",
     "text": [
      "Execution time: 3.71 s\n"
     ]
    }
   ],
   "source": [
    "# dict_df_forcing_x\n",
    "# df_res_tairdiff_test0.visualize()\n",
    "t0 = time()\n",
    "df_res_tairdiff_test=df_res_tairdiff_test0    .compute(scheduler='processes')    .reset_index('grid', drop=True)\n",
    "t1 = time()\n",
    "t_par = t1-t0\n",
    "print(f'Execution time: {t_par:.2f} s')\n",
    "\n"
   ]
  },
  {
   "cell_type": "code",
   "execution_count": 29,
   "metadata": {
    "ExecuteTime": {
     "end_time": "2019-01-02T15:21:19.798733Z",
     "start_time": "2019-01-02T15:21:19.793848Z"
    }
   },
   "outputs": [],
   "source": [
    "# function for multi-climate `run_supy`\n",
    "def run_supy_mclims(df_state_init, dict_df_forcing_mclims):\n",
    "    dd_forcing_x = {\n",
    "        k: delayed(sp.run_supy)(df, df_state_init_test)[0]\n",
    "        for k, df in dict_df_forcing_x.items()}\n",
    "    df_output_mclims0 = delayed(pd.concat)(\n",
    "        dd_forcing_x,\n",
    "        keys=list(dict_df_forcing_x.keys()),\n",
    "        names=['clm'],\n",
    "    ).compute(scheduler='processes')\n",
    "    df_output_mclims = df_output_mclims0.reset_index('grid', drop=True)\n",
    "\n",
    "    return df_output_mclims\n",
    "\n"
   ]
  },
  {
   "cell_type": "markdown",
   "metadata": {},
   "source": [
    "#### Construct `dict_df_forcing_x` to test and perform simulations with `supy`"
   ]
  },
  {
   "cell_type": "code",
   "execution_count": 30,
   "metadata": {
    "ExecuteTime": {
     "end_time": "2019-01-02T15:21:33.967112Z",
     "start_time": "2019-01-02T15:21:19.800733Z"
    }
   },
   "outputs": [
    {
     "name": "stdout",
     "output_type": "stream",
     "text": [
      "Execution time: 14.11 s\n"
     ]
    }
   ],
   "source": [
    "df_forcing_part_test = df_forcing.loc['2012 7'].copy()\n",
    "df_state_init_test = df_state_init.copy()\n",
    "\n",
    "n_test = 24\n",
    "list_TairDiff_test = np.linspace(0.2, 2, n_test).round(2)\n",
    "dict_df_forcing_x = {\n",
    "    tairdiff: df_forcing_part_test.copy()\n",
    "    for tairdiff in list_TairDiff_test}\n",
    "for tairdiff in dict_df_forcing_x:\n",
    "    dict_df_forcing_x[tairdiff].loc[:, 'Tair'] += tairdiff\n",
    "\n",
    "t0 = time()\n",
    "df_airtemp_test_x = run_supy_mclims(df_state_init, dict_df_forcing_x)\n",
    "t1 = time()\n",
    "t_par = t1-t0\n",
    "print(f'Execution time: {t_par:.2f} s')\n"
   ]
  },
  {
   "cell_type": "markdown",
   "metadata": {},
   "source": [
    "#### Examine the results"
   ]
  },
  {
   "cell_type": "code",
   "execution_count": 31,
   "metadata": {
    "ExecuteTime": {
     "end_time": "2019-01-02T15:21:34.268844Z",
     "start_time": "2019-01-02T15:21:33.969859Z"
    }
   },
   "outputs": [],
   "source": [
    "df_airtemp_test = df_airtemp_test_x.SUEWS.unstack(0)\n",
    "\n"
   ]
  },
  {
   "cell_type": "code",
   "execution_count": 32,
   "metadata": {
    "ExecuteTime": {
     "end_time": "2019-01-02T15:21:34.599040Z",
     "start_time": "2019-01-02T15:21:34.270742Z"
    }
   },
   "outputs": [
    {
     "data": {
      "text/plain": [
       "<matplotlib.axes._subplots.AxesSubplot at 0x12fa3c5c0>"
      ]
     },
     "execution_count": 32,
     "metadata": {},
     "output_type": "execute_result"
    },
    {
     "data": {
      "image/png": "[encoded data removed]",
      "text/plain": [
       "<Figure size 432x288 with 2 Axes>"
      ]
     },
     "metadata": {},
     "output_type": "display_data"
    }
   ],
   "source": [
    "df_airtemp_test.T2.describe().loc[['max', 'mean', ]].T.plot(\n",
    "    secondary_y=['max'])\n",
    "\n"
   ]
  },
  {
   "cell_type": "code",
   "execution_count": 33,
   "metadata": {
    "ExecuteTime": {
     "end_time": "2019-01-02T15:21:34.876301Z",
     "start_time": "2019-01-02T15:21:34.601388Z"
    }
   },
   "outputs": [
    {
     "data": {
      "text/plain": [
       "<matplotlib.axes._subplots.AxesSubplot at 0x12ff7c4a8>"
      ]
     },
     "execution_count": 33,
     "metadata": {},
     "output_type": "execute_result"
    },
    {
     "data": {
      "image/png": "[encoded data removed]",
      "text/plain": [
       "<Figure size 432x288 with 2 Axes>"
      ]
     },
     "metadata": {},
     "output_type": "display_data"
    }
   ],
   "source": [
    "df_airtemp_test.QE.describe().loc[['max', 'mean', ]].T.plot(\n",
    "    secondary_y=['max'])\n",
    "\n"
   ]
  },
  {
   "cell_type": "code",
   "execution_count": 34,
   "metadata": {
    "ExecuteTime": {
     "end_time": "2019-01-02T15:21:35.239673Z",
     "start_time": "2019-01-02T15:21:34.878686Z"
    }
   },
   "outputs": [
    {
     "data": {
      "text/plain": [
       "<matplotlib.axes._subplots.AxesSubplot at 0x13879cd68>"
      ]
     },
     "execution_count": 34,
     "metadata": {},
     "output_type": "execute_result"
    },
    {
     "data": {
      "image/png": "[encoded data removed]",
      "text/plain": [
       "<Figure size 432x288 with 2 Axes>"
      ]
     },
     "metadata": {},
     "output_type": "display_data"
    }
   ],
   "source": [
    "df_flux = df_airtemp_test.loc[:, ['QH', 'QE']]    .describe().loc[['max', 'mean', ]]    .stack(1).unstack(0).swaplevel(1, 0, axis=1).loc[:, 'mean']\n",
    "ax_flux = df_flux.plot(secondary_y='QE')\n",
    "ax_flux.set_ylabel('Flux ($ \\mathrm{W \\ m^{-2}}$)')\n",
    "ax_flux.set_xlabel('$\\Delta T$ ($^{\\circ}}$C)')\n",
    "ax_flux\n"
   ]
  },
  {
   "cell_type": "markdown",
   "metadata": {},
   "source": [
    "### Precipitation"
   ]
  },
  {
   "cell_type": "markdown",
   "metadata": {},
   "source": [
    "#### Let's examine the charaterisitcs of precipitation loaded from the sample dataset"
   ]
  },
  {
   "cell_type": "markdown",
   "metadata": {},
   "source": [
    "Monthly total precipitation:"
   ]
  },
  {
   "cell_type": "code",
   "execution_count": 35,
   "metadata": {
    "ExecuteTime": {
     "end_time": "2019-01-02T15:21:35.439476Z",
     "start_time": "2019-01-02T15:21:35.241444Z"
    }
   },
   "outputs": [
    {
     "data": {
      "text/plain": [
       "Text(0, 0.5, 'Precipitation (mm)')"
      ]
     },
     "execution_count": 35,
     "metadata": {},
     "output_type": "execute_result"
    },
    {
     "data": {
      "image/png": "[encoded data removed]",
      "text/plain": [
       "<Figure size 432x288 with 1 Axes>"
      ]
     },
     "metadata": {},
     "output_type": "display_data"
    }
   ],
   "source": [
    "df_plot = df_forcing.rain.iloc[:-1].resample('1m').sum()\n",
    "ax_precip = df_plot.plot.bar(color='tab:blue')\n",
    "ax_precip.set_xticklabels(df_plot.index.strftime('%b'))\n",
    "ax_precip.set_xlabel('Month')\n",
    "ax_precip.set_ylabel('Precipitation (mm)')\n"
   ]
  },
  {
   "cell_type": "markdown",
   "metadata": {},
   "source": [
    "Daily total precipitation of July 2012:"
   ]
  },
  {
   "cell_type": "code",
   "execution_count": 36,
   "metadata": {
    "ExecuteTime": {
     "end_time": "2019-01-02T15:21:35.744135Z",
     "start_time": "2019-01-02T15:21:35.441668Z"
    }
   },
   "outputs": [
    {
     "data": {
      "text/plain": [
       "<matplotlib.axes._subplots.AxesSubplot at 0x1301a7d68>"
      ]
     },
     "execution_count": 36,
     "metadata": {},
     "output_type": "execute_result"
    },
    {
     "data": {
      "image/png": "[encoded data removed]",
      "text/plain": [
       "<Figure size 720x288 with 1 Axes>"
      ]
     },
     "metadata": {},
     "output_type": "display_data"
    }
   ],
   "source": [
    "df_plot = df_forcing.rain.loc['2012 7'].resample('1d').sum()\n",
    "ax_precip = df_plot.plot.bar(color='tab:blue', figsize=(10, 4))\n",
    "ax_precip.set_xticklabels(df_plot.index.strftime('%d'), rotation=0)\n",
    "ax_precip\n"
   ]
  },
  {
   "cell_type": "markdown",
   "metadata": {},
   "source": [
    "Look into a 3-hour period of 2012-Jul-8:"
   ]
  },
  {
   "cell_type": "code",
   "execution_count": 37,
   "metadata": {
    "ExecuteTime": {
     "end_time": "2019-01-02T15:21:36.252155Z",
     "start_time": "2019-01-02T15:21:35.746134Z"
    }
   },
   "outputs": [
    {
     "data": {
      "text/plain": [
       "<matplotlib.axes._subplots.AxesSubplot at 0x12ff9fe48>"
      ]
     },
     "execution_count": 37,
     "metadata": {},
     "output_type": "execute_result"
    },
    {
     "data": {
      "image/png": "[encoded data removed]",
      "text/plain": [
       "<Figure size 1296x288 with 1 Axes>"
      ]
     },
     "metadata": {},
     "output_type": "display_data"
    }
   ],
   "source": [
    "ser_plot = df_forcing.rain.loc['2012 7 8 0205':'2012 7 8 05']\n",
    "ax_precip = ser_plot.plot.bar(color='tab:blue', figsize=(18, 4))\n",
    "ax_precip.set_xticklabels(ser_plot.index.strftime('%H:%M'), rotation=90)\n",
    "ax_precip\n"
   ]
  },
  {
   "cell_type": "markdown",
   "metadata": {},
   "source": [
    "#### Construct `redist_precip` to randomly redistribute precipiation within the input period"
   ]
  },
  {
   "cell_type": "code",
   "execution_count": 38,
   "metadata": {
    "ExecuteTime": {
     "end_time": "2019-01-02T15:21:36.258093Z",
     "start_time": "2019-01-02T15:21:36.254568Z"
    }
   },
   "outputs": [],
   "source": [
    "def redist_precip(ser_precip, n):\n",
    "    # keep the original data by .copy()\n",
    "    ser_precip_redist = ser_precip.copy()\n",
    "    # get series length\n",
    "    len_ser = ser_precip_redist.size\n",
    "    # generate a series with n random values and others filled as zeros\n",
    "    n_sample = np.pad(np.random.rand(n), (0, len_ser), 'constant',\n",
    "                      constant_values=(0))[:len_ser]\n",
    "    # normalise `ser_precip_redist` with according to `n_sample`\n",
    "    ser_precip_redist = ser_precip_redist.sum()*n_sample/n_sample.sum()\n",
    "    # reshuffle for random locations\n",
    "    np.random.shuffle(ser_precip_redist)\n",
    "    return ser_precip_redist\n"
   ]
  },
  {
   "cell_type": "markdown",
   "metadata": {},
   "source": [
    "#### Examine the redistributed precipiation in a comparison with the evenly distributed results"
   ]
  },
  {
   "cell_type": "code",
   "execution_count": 39,
   "metadata": {
    "ExecuteTime": {
     "end_time": "2019-01-02T15:21:36.927707Z",
     "start_time": "2019-01-02T15:21:36.260577Z"
    }
   },
   "outputs": [
    {
     "data": {
      "text/plain": [
       "<matplotlib.axes._subplots.AxesSubplot at 0x12e604400>"
      ]
     },
     "execution_count": 39,
     "metadata": {},
     "output_type": "execute_result"
    },
    {
     "data": {
      "image/png": "[encoded data removed]",
      "text/plain": [
       "<Figure size 1296x288 with 1 Axes>"
      ]
     },
     "metadata": {},
     "output_type": "display_data"
    }
   ],
   "source": [
    "ser_plot_reshf = ser_plot.copy()    .resample('60T', closed='right', label='right')    .transform(redist_precip, n=6).rename('precip_reshf')\n",
    "df_precip = pd.concat([ser_plot, ser_plot_reshf], axis=1)\n",
    "ax_precip = df_precip.plot.bar(figsize=(18, 4))\n",
    "ax_precip.set_xticklabels(df_precip.index.strftime('%H:%M'), rotation=90)\n",
    "ax_precip\n"
   ]
  },
  {
   "cell_type": "markdown",
   "metadata": {},
   "source": [
    "#### Generate a range of precipitation series of different redistribution patterns"
   ]
  },
  {
   "cell_type": "code",
   "execution_count": 40,
   "metadata": {
    "ExecuteTime": {
     "end_time": "2019-01-02T15:21:40.842049Z",
     "start_time": "2019-01-02T15:21:36.929718Z"
    }
   },
   "outputs": [],
   "source": [
    "ser_precip_orig = df_forcing.rain.loc['2012 7']\n",
    "grp_precip_orig = ser_precip_orig.copy().resample(\n",
    "    '60T', closed='right', label='right')\n",
    "df_precip_reshf = pd.concat(\n",
    "    {n_dist: grp_precip_orig.transform(redist_precip, n=n_dist)\n",
    "     for n_dist in np.arange(1, 13)},\n",
    "    axis=1)\n",
    "\n"
   ]
  },
  {
   "cell_type": "code",
   "execution_count": 41,
   "metadata": {
    "ExecuteTime": {
     "end_time": "2019-01-02T15:21:41.546728Z",
     "start_time": "2019-01-02T15:21:40.843492Z"
    }
   },
   "outputs": [
    {
     "data": {
      "text/plain": [
       "<matplotlib.axes._subplots.AxesSubplot at 0x12e5ed0f0>"
      ]
     },
     "execution_count": 41,
     "metadata": {},
     "output_type": "execute_result"
    },
    {
     "data": {
      "image/png": "[encoded data removed]",
      "text/plain": [
       "<Figure size 1296x288 with 1 Axes>"
      ]
     },
     "metadata": {},
     "output_type": "display_data"
    }
   ],
   "source": [
    "ax_precip = df_precip_reshf.loc['2012 7 8 00'].plot.bar(figsize=(18, 4), rot=0)\n",
    "ax_precip.set_xticklabels(df_precip_reshf.index.strftime('%H:%M'), rotation=0)\n",
    "ax_precip.legend(title='number of rainy sections')\n",
    "ax_precip.set_xlabel('Time (hh:mm)')\n",
    "ax_precip.set_ylabel('Precipitation (mm)')\n",
    "ax_precip\n"
   ]
  },
  {
   "cell_type": "markdown",
   "metadata": {},
   "source": [
    "#### Construct a `test_precip_n` function to perform `supy` simulation with specified `n_dist`"
   ]
  },
  {
   "cell_type": "code",
   "execution_count": 42,
   "metadata": {
    "ExecuteTime": {
     "end_time": "2019-01-02T15:21:49.041236Z",
     "start_time": "2019-01-02T15:21:41.548643Z"
    }
   },
   "outputs": [
    {
     "name": "stdout",
     "output_type": "stream",
     "text": [
      "Execution time: 7.47 s\n"
     ]
    }
   ],
   "source": [
    "df_forcing_part_test = df_forcing.loc['2012 7'].copy()\n",
    "df_state_init_test = df_state_init.copy()\n",
    "\n",
    "list_ndist_test = df_precip_reshf.columns\n",
    "dict_df_forcing_x = {\n",
    "    ndist: df_forcing_part_test.copy()\n",
    "    for ndist in list_ndist_test}\n",
    "for ndist in dict_df_forcing_x:\n",
    "    dict_df_forcing_x[ndist]['rain'] = df_precip_reshf[ndist]\n",
    "\n",
    "t0 = time()\n",
    "df_ndist_test_x = run_supy_mclims(df_state_init, dict_df_forcing_x)\n",
    "t1 = time()\n",
    "t_par = t1-t0\n",
    "print(f'Execution time: {t_par:.2f} s')\n"
   ]
  },
  {
   "cell_type": "markdown",
   "metadata": {},
   "source": [
    "#### Examine the results"
   ]
  },
  {
   "cell_type": "code",
   "execution_count": 43,
   "metadata": {
    "ExecuteTime": {
     "end_time": "2019-01-02T15:21:49.185019Z",
     "start_time": "2019-01-02T15:21:49.043527Z"
    }
   },
   "outputs": [],
   "source": [
    "df_ndist_test_x.head()\n",
    "df_precip_test = df_ndist_test_x.SUEWS.unstack(0)\n",
    "\n"
   ]
  },
  {
   "cell_type": "code",
   "execution_count": 44,
   "metadata": {
    "ExecuteTime": {
     "end_time": "2019-01-02T15:21:49.378577Z",
     "start_time": "2019-01-02T15:21:49.187204Z"
    }
   },
   "outputs": [
    {
     "data": {
      "text/plain": [
       "<matplotlib.axes._subplots.AxesSubplot at 0x13c7d9fd0>"
      ]
     },
     "execution_count": 44,
     "metadata": {},
     "output_type": "execute_result"
    },
    {
     "data": {
      "image/png": "[encoded data removed]",
      "text/plain": [
       "<Figure size 432x288 with 1 Axes>"
      ]
     },
     "metadata": {},
     "output_type": "display_data"
    }
   ],
   "source": [
    "\n",
    "ax_state = df_precip_test.NWtrState.sum().plot.bar(\n",
    "    ylim=(500, 720), color='tab:blue', rot=0)\n",
    "ax_state.set_xlabel('Number of rainy sections')\n",
    "ax_state.set_ylabel('Surface wetness (mm)')\n",
    "ax_state\n",
    "\n"
   ]
  },
  {
   "cell_type": "code",
   "execution_count": 45,
   "metadata": {
    "ExecuteTime": {
     "end_time": "2019-01-02T15:21:49.578820Z",
     "start_time": "2019-01-02T15:21:49.380964Z"
    }
   },
   "outputs": [
    {
     "data": {
      "text/plain": [
       "<matplotlib.axes._subplots.AxesSubplot at 0x13b032208>"
      ]
     },
     "execution_count": 45,
     "metadata": {},
     "output_type": "execute_result"
    },
    {
     "data": {
      "image/png": "[encoded data removed]",
      "text/plain": [
       "<Figure size 432x288 with 1 Axes>"
      ]
     },
     "metadata": {},
     "output_type": "display_data"
    }
   ],
   "source": [
    "ax_QE = df_precip_test.QE.describe().loc['mean'].plot.bar(\n",
    "    ylim=(6.5, 9.5), color='tab:blue', rot=0)\n",
    "ax_QE.set_xlabel('Number of rainy sections')\n",
    "ax_QE.set_ylabel('mean $Q_E$ ($ \\mathrm{W \\ m^{-2}}$)')\n",
    "ax_QE\n",
    "\n"
   ]
  },
  {
   "cell_type": "code",
   "execution_count": 46,
   "metadata": {
    "ExecuteTime": {
     "end_time": "2019-01-02T15:21:49.767633Z",
     "start_time": "2019-01-02T15:21:49.581476Z"
    }
   },
   "outputs": [
    {
     "data": {
      "text/plain": [
       "<matplotlib.axes._subplots.AxesSubplot at 0x13dea8f60>"
      ]
     },
     "execution_count": 46,
     "metadata": {},
     "output_type": "execute_result"
    },
    {
     "data": {
      "image/png": "[encoded data removed]",
      "text/plain": [
       "<Figure size 432x288 with 1 Axes>"
      ]
     },
     "metadata": {},
     "output_type": "display_data"
    }
   ],
   "source": [
    "ax_T2 = df_precip_test.T2.describe().loc['mean'].plot.bar(\n",
    "    ylim=(17.34, 17.365), color='tab:blue', rot=0)\n",
    "ax_T2.set_xlabel('Number of rainy sections')\n",
    "ax_T2.set_ylabel('mean $T2$ ($^\\circ$C)')\n",
    "ax_T2\n",
    "\n",
    "\n"
   ]
  }
 ],
 "metadata": {
  "file_extension": ".py",
  "hide_input": false,
  "kernelspec": {
   "display_name": "Python 3",
   "language": "python",
   "name": "python3"
  },
  "language_info": {
   "codemirror_mode": {
    "name": "ipython",
    "version": 3
   },
   "file_extension": ".py",
   "mimetype": "text/x-python",
   "name": "python",
   "nbconvert_exporter": "python",
   "pygments_lexer": "ipython3",
   "version": "3.7.1"
  },
  "mimetype": "text/x-python",
  "name": "python",
  "npconvert_exporter": "python",
  "pygments_lexer": "ipython3",
  "toc": {
   "base_numbering": 1,
   "nav_menu": {},
   "number_sections": true,
   "sideBar": true,
   "skip_h1_title": true,
   "title_cell": "Table of Contents",
   "title_sidebar": "Contents",
   "toc_cell": false,
   "toc_position": {},
   "toc_section_display": true,
   "toc_window_display": true
  },
  "varInspector": {
   "cols": {
    "lenName": 16,
    "lenType": 16,
    "lenVar": 40
   },
   "kernels_config": {
    "python": {
     "delete_cmd_postfix": "",
     "delete_cmd_prefix": "del ",
     "library": "var_list.py",
     "varRefreshCmd": "print(var_dic_list())"
    },
    "r": {
     "delete_cmd_postfix": ") ",
     "delete_cmd_prefix": "rm(",
     "library": "var_list.r",
     "varRefreshCmd": "cat(var_dic_list()) "
    }
   },
   "types_to_exclude": [
    "module",
    "function",
    "builtin_function_or_method",
    "instance",
    "_Feature"
   ],
   "window_display": false
  },
  "version": 3
 },
 "nbformat": 4,
 "nbformat_minor": 2
}
